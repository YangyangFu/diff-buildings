{
 "cells": [
  {
   "cell_type": "markdown",
   "metadata": {},
   "source": [
    "# Zone Temperature Dynamical Model\n",
    "\n",
    "- investigate different physics-informed dynamical models for zone temperature prediction"
   ]
  },
  {
   "cell_type": "code",
   "execution_count": 1,
   "metadata": {},
   "outputs": [],
   "source": [
    "from jax import config \n",
    "config.update(\"jax_debug_nans\", False)\n",
    "import matplotlib\n",
    "#matplotlib.use('Agg')\n",
    "import matplotlib.pyplot as plt\n",
    "\n",
    "import jax \n",
    "import jax.numpy as jnp \n",
    "import flax.linen as nn\n",
    "import optax \n",
    "import pandas as pd \n",
    "\n",
    "from dynax.core.base_block_state_space import BaseContinuousBlockSSM\n",
    "from dynax.simulators.simulator import DifferentiableSimulator\n",
    "from dynax.trainer.train_state import TrainState"
   ]
  },
  {
   "cell_type": "markdown",
   "metadata": {},
   "source": [
    "## 0. Data\n",
    "- EP data with prototypical building model\n",
    "- Real data from Lennox thermostat data"
   ]
  },
  {
   "cell_type": "code",
   "execution_count": null,
   "metadata": {},
   "outputs": [],
   "source": [
    "\"\"\"\n",
    "import pandas as pd \n",
    "\n",
    "dates = ['01-'+str(i)+'-18' for i in range(14, 28)]\n",
    "data = pd.read_excel('./data/real-world-data.xls', sheet_name=dates, header=3)\n",
    "\n",
    "combined_data = pd.DataFrame()\n",
    "for key in data.keys():\n",
    "    combined_data = pd.concat([combined_data, data[key]], axis=0, ignore_index=True)\n",
    "\n",
    "combined_data.to_csv('./data/real-world-data.csv')\n",
    "\"\"\""
   ]
  },
  {
   "cell_type": "code",
   "execution_count": null,
   "metadata": {},
   "outputs": [],
   "source": [
    "data = pd.read_csv('./data/real-world-data.csv')\n",
    "\n",
    "columns_mapper = {'LocalTime':'time', 'tabtsense0':'temp_zone', 'SP_cool':'csp', 'SP_heat':'hsp', 'CoolDemand':'qcool', 'HeatDemand':'qheat', 'humidityindoor_0':'rh_zone', 'oupresentcompressorfreq':'freq', 'iuairflowrate':'cfm', 'surf_tempf':'temp_out', 'rad':'qsol'}\n",
    "\n",
    "data = data[columns_mapper.keys()].rename(columns = columns_mapper)\n",
    "data.index = pd.DatetimeIndex(data['time'], freq='1min')\n",
    "data = data.drop(columns=['time'])\n"
   ]
  },
  {
   "cell_type": "code",
   "execution_count": null,
   "metadata": {},
   "outputs": [],
   "source": [
    "data.head()"
   ]
  },
  {
   "cell_type": "markdown",
   "metadata": {},
   "source": [
    "This data is from Rohini's house, which has a Lennox thermostat but Carrier unit. Thus the equipment info are basically not available. \n",
    "- assume nominal heating capacity is 4 ton (e.g., 14 kW)"
   ]
  },
  {
   "cell_type": "code",
   "execution_count": null,
   "metadata": {},
   "outputs": [],
   "source": [
    "# change IP unit to SI\n",
    "# F to C\n",
    "data[['temp_zone', 'csp', 'hsp', 'temp_out']] =  5./9*(data[['temp_zone', 'csp', 'hsp', 'temp_out']] - 32)\n",
    "# W to kW\n",
    "data['qsol'] /= 1000.\n",
    "# percentage to kW\n",
    "data[['qcool', 'qheat']] *= 14./100."
   ]
  },
  {
   "cell_type": "code",
   "execution_count": null,
   "metadata": {},
   "outputs": [],
   "source": [
    "# resampel to 15min \n",
    "data = data.resample('15min').mean()\n",
    "data.head()"
   ]
  },
  {
   "cell_type": "code",
   "execution_count": null,
   "metadata": {},
   "outputs": [],
   "source": [
    "# add lag to target\n",
    "def add_lags(data, cols, lags):\n",
    "    for lag in range(1, lags+1):\n",
    "        for col in cols:\n",
    "            data[col+'-'+str(lag)] = data[col].shift(lag)\n",
    "    return data\n",
    "\n"
   ]
  },
  {
   "cell_type": "markdown",
   "metadata": {},
   "source": [
    "## 1. Models\n",
    "\n",
    "Try two different mdoels\n",
    "- lumped single zone dynamic model \n",
    "- neural ode\n"
   ]
  },
  {
   "cell_type": "markdown",
   "metadata": {},
   "source": [
    "### 1.2 Neural ODE\n",
    "\n",
    "For realistic settings, here I only assume known measurements, such as outdoor air temperature, solar radiation, and energy usage\n",
    "\n",
    "$$\n",
    "    \\frac{dT_z}{dt} = f(h_t, T_o, \\dot q_{sol}, \\dot q_{hvac}; \\theta)\n",
    "$$"
   ]
  },
  {
   "cell_type": "markdown",
   "metadata": {},
   "source": [
    "#### Prepare Data"
   ]
  },
  {
   "cell_type": "code",
   "execution_count": null,
   "metadata": {},
   "outputs": [],
   "source": [
    "# construct time feature\n",
    "data['hour'] = data.index.hour\n",
    "data['weekday'] = data.index.weekday\n"
   ]
  },
  {
   "cell_type": "code",
   "execution_count": null,
   "metadata": {},
   "outputs": [],
   "source": [
    "data"
   ]
  },
  {
   "cell_type": "code",
   "execution_count": null,
   "metadata": {},
   "outputs": [],
   "source": [
    "target_col = 'temp_zone'\n",
    "feature_col = ['qheat', 'temp_out', 'qsol', 'hour', 'weekday']\n",
    "\n",
    "lags = 8\n",
    "cols = [target_col] + feature_col\n",
    "data2 = add_lags(data[cols], cols, lags)\n",
    "data2 = data2.dropna()\n",
    "print(data2.head())\n",
    "\n",
    "# split training and testing\n",
    "ratio = 0.5\n",
    "n_train = int(len(data2)*ratio)\n",
    "data_train = data2.iloc[:n_train, :]\n",
    "data_test = data2.iloc[n_train:, :]\n",
    "\n",
    "# get cols with lags\n",
    "lag_cols = []\n",
    "if lags:\n",
    "    for lag in range(1, lags):\n",
    "        for col in feature_col:\n",
    "            lag_cols.append(col + '-' + str(lag))\n",
    "\n",
    "# to model signals\n",
    "x_train = jnp.array(data_train.loc[:, 'temp_zone-1'].values) \n",
    "u_train = jnp.array(data_train.loc[:, lag_cols + feature_col].values)\n",
    "y_train = jnp.array(data_train.loc[:, target_col].values)\n",
    "\n",
    "# normalize\n",
    "u_mean = u_train.mean(axis=0)\n",
    "u_std = u_train.std(axis=0)\n",
    "u_train = (u_train - u_mean) / u_std\n",
    "\n",
    "# reshape for model\n",
    "x_train = jnp.reshape(x_train, (-1,1))\n",
    "u_train = jnp.expand_dims(u_train, axis=1)\n",
    "y_train = jnp.reshape(y_train, (-1,1)) \n",
    "\n",
    "print(\"we have a training data set of :\", u_train.shape[0])\n",
    "\n",
    "\n",
    "x_test = jnp.array(data_test.loc[:, 'temp_zone-1'].values) \n",
    "u_test = jnp.array(data_test.loc[:, lag_cols + feature_col].values)\n",
    "y_test = jnp.array(data_test.loc[:, target_col].values)\n",
    "u_test = (u_test - u_mean) / u_std\n",
    "x_test = jnp.reshape(x_test, (-1,1))\n",
    "u_test = jnp.expand_dims(u_test, axis=1)\n",
    "y_test = jnp.reshape(y_test, (-1,1))\n",
    "print(\"we have a training data set of :\", u_test.shape[0])\n",
    "\n"
   ]
  },
  {
   "cell_type": "markdown",
   "metadata": {},
   "source": [
    "#### Define Model"
   ]
  },
  {
   "cell_type": "code",
   "execution_count": null,
   "metadata": {},
   "outputs": [],
   "source": [
    "INPUT_DIM = u_train.shape[-1]\n",
    "\n",
    "class NeuralODE(BaseContinuousBlockSSM):\n",
    "    state_dim: int = 1\n",
    "    input_dim: int = INPUT_DIM\n",
    "    output_dim: int = 1\n",
    "\n",
    "    def setup(self):\n",
    "        super().setup()\n",
    "        self._fx = self.fx(output_dim = self.state_dim)\n",
    "        self._fy = self.fy(output_dim = self.output_dim)\n",
    "    \n",
    "    def __call__(self, states, inputs):\n",
    "        # states: (B, nx)\n",
    "        # inputs: (B, ni)\n",
    "        assert self.input_dim == jnp.shape(inputs)[-1]\n",
    "        return super().__call__(states, inputs)\n",
    "\n",
    "    class fx(nn.Module):\n",
    "        output_dim: int \n",
    "        def setup(self):\n",
    "            #self.dense1 = nn.Dense(features=4, use_bias=False)\n",
    "            self.dense = nn.Dense(features=self.output_dim, use_bias=False)\n",
    "        \n",
    "        def __call__(self, states, inputs):\n",
    "            out = self.dense(inputs)\n",
    "            #out = nn.relu(out)\n",
    "            #out = self.dense(out)\n",
    "            return out\n",
    "\n",
    "    \n",
    "    class fy(nn.Module):\n",
    "        output_dim: int \n",
    "\n",
    "        def __call__(self, states, inputs):\n",
    "            # a faked value\n",
    "            return states @ jnp.eye(1)\n",
    "\n",
    "ode = NeuralODE()\n",
    "key = jax.random.PRNGKey(2023)\n",
    "init_params = ode.init(key, jnp.ones((4,1)), jnp.ones((4,INPUT_DIM)))\n",
    "rhs, out = ode.apply(init_params, jnp.ones((4,1)), jnp.ones((4,INPUT_DIM)))\n",
    "print(ode.tabulate(key, jnp.ones((4,1)), jnp.ones((4,INPUT_DIM))))"
   ]
  },
  {
   "cell_type": "code",
   "execution_count": null,
   "metadata": {},
   "outputs": [],
   "source": [
    "class NeuralModel(nn.Module):\n",
    "    \n",
    "    state_dim: int = 1\n",
    "    ts: int = 0\n",
    "    dt: int = 900\n",
    "\n",
    "    @nn.compact \n",
    "    def __call__(self, states, inputs):\n",
    "\n",
    "        dynamics = NeuralODE(state_dim = self.state_dim)\n",
    "        states_out, measures_out = DifferentiableSimulator(\n",
    "            dynamics, \n",
    "            dt=self.dt, \n",
    "            mode_interp='linear', \n",
    "            start_time=self.ts\n",
    "        )(states, inputs)\n",
    "        \n",
    "        return jnp.squeeze(states_out, axis=-1)\n",
    "\n",
    "model = NeuralModel(state_dim=1)\n",
    "\n",
    "key = jax.random.PRNGKey(2023)\n",
    "init_params = model.init(key, jnp.ones((1)), jnp.ones((4,INPUT_DIM)))\n",
    "init_out = model.apply(init_params, jnp.ones((1,)), jnp.ones((4,INPUT_DIM)))\n",
    "print(model.tabulate(key, jnp.ones((1,)), jnp.ones((4,INPUT_DIM))))"
   ]
  },
  {
   "cell_type": "code",
   "execution_count": null,
   "metadata": {},
   "outputs": [],
   "source": [
    "# batch Model with shared parameters\n",
    "VModel = nn.vmap(NeuralModel, in_axes=(0,0), out_axes=0, variable_axes={'params': None}, split_rngs={'params': False})\n",
    "vmodel = VModel(state_dim=1)\n",
    "init_params = vmodel.init(key, jnp.ones((32,1)), jnp.ones((32,4,INPUT_DIM)))\n",
    "out = vmodel.apply(init_params, jnp.ones((32,1)), jnp.ones((32,4,INPUT_DIM)))\n",
    "print(out.shape)"
   ]
  },
  {
   "cell_type": "markdown",
   "metadata": {},
   "source": [
    "#### Training and Evaluation"
   ]
  },
  {
   "cell_type": "code",
   "execution_count": null,
   "metadata": {},
   "outputs": [],
   "source": [
    "# inverse simulation train_step\n",
    "@jax.jit\n",
    "def train_step(train_state, state_init, u, target):\n",
    "    def mse_loss(params):\n",
    "        # prediction\n",
    "        outputs_pred = train_state.apply_fn(params, state_init, u)\n",
    "        #outputs_pred = jnp.clip(outputs_pred, 16., 40.)\n",
    "        # mse loss: match dimensions\n",
    "        pred_loss = jnp.mean((outputs_pred - target)**2)\n",
    "        return pred_loss\n",
    "    \n",
    "    loss, grad = jax.value_and_grad(mse_loss)(train_state.params)\n",
    "    train_state = train_state.apply_gradients(grads=grad)\n",
    "\n",
    "    return loss, grad, train_state\n",
    "\n",
    "schedule = optax.linear_schedule(\n",
    "    init_value = 1e-1, \n",
    "    transition_steps = 5000, \n",
    "    transition_begin=0, \n",
    "    end_value=1e-4\n",
    ")\n",
    "\n",
    "optim = optax.chain(\n",
    "    #optax.clip_by_global_norm(1.0),\n",
    "    #optax.clip(1.),\n",
    "    #optax.scale(1.2),\n",
    "    #optax.lamb(1e-04),\n",
    "    optax.adamw(1e-3)\n",
    ")\n"
   ]
  },
  {
   "cell_type": "code",
   "execution_count": null,
   "metadata": {},
   "outputs": [],
   "source": [
    "train_state = TrainState.create(\n",
    "    apply_fn=vmodel.apply,\n",
    "    params=init_params,\n",
    "    tx = optim,\n",
    ")\n"
   ]
  },
  {
   "cell_type": "code",
   "execution_count": null,
   "metadata": {},
   "outputs": [],
   "source": [
    "x_train.shape, u_train.shape "
   ]
  },
  {
   "cell_type": "code",
   "execution_count": null,
   "metadata": {},
   "outputs": [],
   "source": [
    "n_epochs = 150000\n",
    "\n",
    "# train loop\n",
    "for epoch in range(n_epochs):\n",
    "    loss, grad, train_state = train_step(train_state, x_train, u_train, y_train)\n",
    "    if epoch % 1000 == 0:\n",
    "        print(f\"epoch: {epoch}, loss: {loss}\")"
   ]
  },
  {
   "cell_type": "code",
   "execution_count": null,
   "metadata": {},
   "outputs": [],
   "source": [
    "y_pred = vmodel.apply(train_state.params, x_train, u_train)\n",
    "y_pred_test = vmodel.apply(train_state.params, x_test, u_test)"
   ]
  },
  {
   "cell_type": "code",
   "execution_count": null,
   "metadata": {},
   "outputs": [],
   "source": [
    "plt.figure(figsize=(12,6))\n",
    "plt.plot(y_train[:,:], label='target')\n",
    "plt.plot(y_pred[:,:], label='pred')\n",
    "plt.legend()"
   ]
  },
  {
   "cell_type": "code",
   "execution_count": null,
   "metadata": {},
   "outputs": [],
   "source": [
    "plt.figure(figsize=(12,6))\n",
    "plt.plot(y_test[:,:], label='target')\n",
    "plt.plot(y_pred_test[:,:], label='pred')\n",
    "plt.legend()"
   ]
  },
  {
   "cell_type": "markdown",
   "metadata": {},
   "source": [
    "### 1.3 Physics-informed Neural ODE"
   ]
  },
  {
   "cell_type": "markdown",
   "metadata": {},
   "source": [
    "In this section, I will use physics-informed neural ODE to learn the dynamics of the system.\n",
    "\n",
    "$$\n",
    "\n",
    "    mC_{p,a}\\frac{dT_z}{dt} = q_{hvac} + q_{int} + q_{intz} + q_{inf} + q_{surf}\n",
    "$$\n",
    "\n",
    "or \n",
    "\n",
    "$$\n",
    "    \\frac{dT_z}{dt} = \\frac{1}{C}(q_{hvac} + q_{inf} + q_{int} + q_{intz} + q_{surf})  \n",
    "$$\n",
    "\n",
    "$$\n",
    "    \\frac{dT_z}{dt} = a \\dot q_{hvac} + b (T_{out} - T_z) + c(T_{z,i} - T_z) + \\frac{1}{C} (\\dot q_{int} + \\dot q_{surf}) =  a \\dot q_{hvac} + b (T_{out} - T_z) + c(T_{z,i} - T_z) + D_{ann}(t, \\dot q_{sol}, T_{out}) = -(b+c)T_z + a\\dot q_{hvac} + bT_{out} + cT_{z,i} + D_{ann}(t, \\dot q_{sol}, T_{out})\n",
    "\n",
    "$$\n",
    "\n",
    "Here we wll model this in dynax as a differentiable equation.\n",
    "\n",
    "To simplify for residential buildings, where there is typically one zone, we can set $c=0$.\n",
    "\n",
    "\n",
    "**Thoughts to try**:\n",
    "- the $a, b, c$ might be too small, here I use the inverse\n",
    "- the influence of solar/internal heat gain should not depend on zone temperature. Therefore, the nonlinear disturbance has no dependency on states.\n",
    "- try out physics-informed deep koopman modeling\n"
   ]
  },
  {
   "cell_type": "markdown",
   "metadata": {},
   "source": [
    "#### Prepare Data\n",
    "\n",
    "`states`: $T_z$\n",
    "\n",
    "`inputs`: $(\\dot q_{hvac}|_{t}^{t+H}, (t, \\dot q_{sol}, T_{out})|_{t-P}^{t+H})$"
   ]
  },
  {
   "cell_type": "code",
   "execution_count": null,
   "metadata": {},
   "outputs": [],
   "source": [
    "target_col = 'temp_zone'\n",
    "feature_col = ['qheat', 'temp_out', 'qsol', 'hour', 'weekday']\n",
    "\n",
    "lags = 8\n",
    "cols = [target_col] + feature_col\n",
    "data3 = add_lags(data[cols], cols, lags)\n",
    "data3 = data3.dropna()\n",
    "print(data3.head())\n",
    "\n",
    "# split training and testing\n",
    "ratio = 0.25\n",
    "n_train = int(len(data3)*ratio)\n",
    "data_train = data3.iloc[:n_train, :]\n",
    "data_test = data3.iloc[n_train:, :]\n",
    "\n",
    "# get cols with lags\n",
    "lag_cols = []\n",
    "if lags:\n",
    "    for lag in range(1, lags):\n",
    "        for col in feature_col:\n",
    "            lag_cols.append(col + '-' + str(lag))\n",
    "\n",
    "# to model signals\n",
    "x_train = jnp.array(data_train.loc[:, 'temp_zone-1'].values) \n",
    "u_train = jnp.array(data_train.loc[:, feature_col + lag_cols].values)\n",
    "y_train = jnp.array(data_train.loc[:, target_col].values)\n",
    "\n",
    "# normalize\n",
    "normalize=False\n",
    "if normalize:\n",
    "    u_mean = u_train.mean(axis=0)\n",
    "    u_std = u_train.std(axis=0)\n",
    "    u_train = (u_train - u_mean) / u_std\n",
    "\n",
    "# reshape for model\n",
    "x_train = jnp.reshape(x_train, (-1,1))\n",
    "u_train = jnp.expand_dims(u_train, axis=1)\n",
    "y_train = jnp.reshape(y_train, (-1,1)) \n",
    "\n",
    "print(\"we have a training data set of :\", u_train.shape[0])\n",
    "\n",
    "\n",
    "x_test = jnp.array(data_test.loc[:, 'temp_zone-1'].values) \n",
    "u_test = jnp.array(data_test.loc[:, feature_col + lag_cols].values)\n",
    "y_test = jnp.array(data_test.loc[:, target_col].values)\n",
    "if normalize:\n",
    "    u_test = (u_test - u_mean) / u_std\n",
    "x_test = jnp.reshape(x_test, (-1,1))\n",
    "u_test = jnp.expand_dims(u_test, axis=1)\n",
    "y_test = jnp.reshape(y_test, (-1,1))\n",
    "print(\"we have a training data set of :\", u_test.shape[0])\n"
   ]
  },
  {
   "cell_type": "markdown",
   "metadata": {},
   "source": [
    "#### Define Model"
   ]
  },
  {
   "cell_type": "code",
   "execution_count": 2,
   "metadata": {},
   "outputs": [
    {
     "name": "stderr",
     "output_type": "stream",
     "text": [
      "No GPU/TPU found, falling back to CPU. (Set TF_CPP_MIN_LOG_LEVEL=0 and rerun for more info.)\n"
     ]
    },
    {
     "ename": "AttributeError",
     "evalue": "module 'flax.linen' has no attribute 'RNN'",
     "output_type": "error",
     "traceback": [
      "\u001b[0;31m---------------------------------------------------------------------------\u001b[0m",
      "\u001b[0;31mAttributeError\u001b[0m                            Traceback (most recent call last)",
      "\u001b[1;32m/workspaces/dynax/cases/cost-comfort/zone-encoder-decoder.ipynb Cell 34\u001b[0m line \u001b[0;36m2\n\u001b[1;32m     <a href='vscode-notebook-cell://dev-container%2B7b22686f737450617468223a22633a5c5c55736572735c5c7966333833315c5c6769746875625c5c64796e6178222c226c6f63616c446f636b6572223a66616c73652c22636f6e66696746696c65223a7b22246d6964223a312c22667350617468223a22633a5c5c55736572735c5c7966333833315c5c6769746875625c5c64796e61785c5c2e646576636f6e7461696e65725c5c646576636f6e7461696e65722e6a736f6e222c225f736570223a312c2265787465726e616c223a2266696c653a2f2f2f632533412f55736572732f7966333833312f6769746875622f64796e61782f2e646576636f6e7461696e65722f646576636f6e7461696e65722e6a736f6e222c2270617468223a222f633a2f55736572732f7966333833312f6769746875622f64796e61782f2e646576636f6e7461696e65722f646576636f6e7461696e65722e6a736f6e222c22736368656d65223a2266696c65227d7d/workspaces/dynax/cases/cost-comfort/zone-encoder-decoder.ipynb#X46sdnNjb2RlLXJlbW90ZQ%3D%3D?line=25'>26</a>\u001b[0m encoder_decoder \u001b[39m=\u001b[39m EncoderDecoder(hidden_dim\u001b[39m=\u001b[39m\u001b[39m16\u001b[39m)\n\u001b[1;32m     <a href='vscode-notebook-cell://dev-container%2B7b22686f737450617468223a22633a5c5c55736572735c5c7966333833315c5c6769746875625c5c64796e6178222c226c6f63616c446f636b6572223a66616c73652c22636f6e66696746696c65223a7b22246d6964223a312c22667350617468223a22633a5c5c55736572735c5c7966333833315c5c6769746875625c5c64796e61785c5c2e646576636f6e7461696e65725c5c646576636f6e7461696e65722e6a736f6e222c225f736570223a312c2265787465726e616c223a2266696c653a2f2f2f632533412f55736572732f7966333833312f6769746875622f64796e61782f2e646576636f6e7461696e65722f646576636f6e7461696e65722e6a736f6e222c2270617468223a222f633a2f55736572732f7966333833312f6769746875622f64796e61782f2e646576636f6e7461696e65722f646576636f6e7461696e65722e6a736f6e222c22736368656d65223a2266696c65227d7d/workspaces/dynax/cases/cost-comfort/zone-encoder-decoder.ipynb#X46sdnNjb2RlLXJlbW90ZQ%3D%3D?line=26'>27</a>\u001b[0m key \u001b[39m=\u001b[39m jax\u001b[39m.\u001b[39mrandom\u001b[39m.\u001b[39mPRNGKey(\u001b[39m2023\u001b[39m)\n\u001b[0;32m---> <a href='vscode-notebook-cell://dev-container%2B7b22686f737450617468223a22633a5c5c55736572735c5c7966333833315c5c6769746875625c5c64796e6178222c226c6f63616c446f636b6572223a66616c73652c22636f6e66696746696c65223a7b22246d6964223a312c22667350617468223a22633a5c5c55736572735c5c7966333833315c5c6769746875625c5c64796e61785c5c2e646576636f6e7461696e65725c5c646576636f6e7461696e65722e6a736f6e222c225f736570223a312c2265787465726e616c223a2266696c653a2f2f2f632533412f55736572732f7966333833312f6769746875622f64796e61782f2e646576636f6e7461696e65722f646576636f6e7461696e65722e6a736f6e222c2270617468223a222f633a2f55736572732f7966333833312f6769746875622f64796e61782f2e646576636f6e7461696e65722f646576636f6e7461696e65722e6a736f6e222c22736368656d65223a2266696c65227d7d/workspaces/dynax/cases/cost-comfort/zone-encoder-decoder.ipynb#X46sdnNjb2RlLXJlbW90ZQ%3D%3D?line=27'>28</a>\u001b[0m init_params \u001b[39m=\u001b[39m encoder_decoder\u001b[39m.\u001b[39;49minit(key, jnp\u001b[39m.\u001b[39;49mones((\u001b[39m4\u001b[39;49m, \u001b[39m24\u001b[39;49m, \u001b[39m8\u001b[39;49m)), jnp\u001b[39m.\u001b[39;49mones((\u001b[39m4\u001b[39;49m, \u001b[39m12\u001b[39;49m, \u001b[39m8\u001b[39;49m)))\n\u001b[1;32m     <a href='vscode-notebook-cell://dev-container%2B7b22686f737450617468223a22633a5c5c55736572735c5c7966333833315c5c6769746875625c5c64796e6178222c226c6f63616c446f636b6572223a66616c73652c22636f6e66696746696c65223a7b22246d6964223a312c22667350617468223a22633a5c5c55736572735c5c7966333833315c5c6769746875625c5c64796e61785c5c2e646576636f6e7461696e65725c5c646576636f6e7461696e65722e6a736f6e222c225f736570223a312c2265787465726e616c223a2266696c653a2f2f2f632533412f55736572732f7966333833312f6769746875622f64796e61782f2e646576636f6e7461696e65722f646576636f6e7461696e65722e6a736f6e222c2270617468223a222f633a2f55736572732f7966333833312f6769746875622f64796e61782f2e646576636f6e7461696e65722f646576636f6e7461696e65722e6a736f6e222c22736368656d65223a2266696c65227d7d/workspaces/dynax/cases/cost-comfort/zone-encoder-decoder.ipynb#X46sdnNjb2RlLXJlbW90ZQ%3D%3D?line=28'>29</a>\u001b[0m out \u001b[39m=\u001b[39m encoder_decoder\u001b[39m.\u001b[39mapply(init_params, jnp\u001b[39m.\u001b[39mones((\u001b[39m4\u001b[39m, \u001b[39m24\u001b[39m, \u001b[39m8\u001b[39m)), jnp\u001b[39m.\u001b[39mones((\u001b[39m4\u001b[39m, \u001b[39m12\u001b[39m, \u001b[39m8\u001b[39m)))\n\u001b[1;32m     <a href='vscode-notebook-cell://dev-container%2B7b22686f737450617468223a22633a5c5c55736572735c5c7966333833315c5c6769746875625c5c64796e6178222c226c6f63616c446f636b6572223a66616c73652c22636f6e66696746696c65223a7b22246d6964223a312c22667350617468223a22633a5c5c55736572735c5c7966333833315c5c6769746875625c5c64796e61785c5c2e646576636f6e7461696e65725c5c646576636f6e7461696e65722e6a736f6e222c225f736570223a312c2265787465726e616c223a2266696c653a2f2f2f632533412f55736572732f7966333833312f6769746875622f64796e61782f2e646576636f6e7461696e65722f646576636f6e7461696e65722e6a736f6e222c2270617468223a222f633a2f55736572732f7966333833312f6769746875622f64796e61782f2e646576636f6e7461696e65722f646576636f6e7461696e65722e6a736f6e222c22736368656d65223a2266696c65227d7d/workspaces/dynax/cases/cost-comfort/zone-encoder-decoder.ipynb#X46sdnNjb2RlLXJlbW90ZQ%3D%3D?line=29'>30</a>\u001b[0m out\u001b[39m.\u001b[39mshape\n",
      "    \u001b[0;31m[... skipping hidden 9 frame]\u001b[0m\n",
      "\u001b[1;32m/workspaces/dynax/cases/cost-comfort/zone-encoder-decoder.ipynb Cell 34\u001b[0m line \u001b[0;36m1\n\u001b[1;32m      <a href='vscode-notebook-cell://dev-container%2B7b22686f737450617468223a22633a5c5c55736572735c5c7966333833315c5c6769746875625c5c64796e6178222c226c6f63616c446f636b6572223a66616c73652c22636f6e66696746696c65223a7b22246d6964223a312c22667350617468223a22633a5c5c55736572735c5c7966333833315c5c6769746875625c5c64796e61785c5c2e646576636f6e7461696e65725c5c646576636f6e7461696e65722e6a736f6e222c225f736570223a312c2265787465726e616c223a2266696c653a2f2f2f632533412f55736572732f7966333833312f6769746875622f64796e61782f2e646576636f6e7461696e65722f646576636f6e7461696e65722e6a736f6e222c2270617468223a222f633a2f55736572732f7966333833312f6769746875622f64796e61782f2e646576636f6e7461696e65722f646576636f6e7461696e65722e6a736f6e222c22736368656d65223a2266696c65227d7d/workspaces/dynax/cases/cost-comfort/zone-encoder-decoder.ipynb#X46sdnNjb2RlLXJlbW90ZQ%3D%3D?line=4'>5</a>\u001b[0m \u001b[39m@nn\u001b[39m\u001b[39m.\u001b[39mcompact\n\u001b[1;32m      <a href='vscode-notebook-cell://dev-container%2B7b22686f737450617468223a22633a5c5c55736572735c5c7966333833315c5c6769746875625c5c64796e6178222c226c6f63616c446f636b6572223a66616c73652c22636f6e66696746696c65223a7b22246d6964223a312c22667350617468223a22633a5c5c55736572735c5c7966333833315c5c6769746875625c5c64796e61785c5c2e646576636f6e7461696e65725c5c646576636f6e7461696e65722e6a736f6e222c225f736570223a312c2265787465726e616c223a2266696c653a2f2f2f632533412f55736572732f7966333833312f6769746875622f64796e61782f2e646576636f6e7461696e65722f646576636f6e7461696e65722e6a736f6e222c2270617468223a222f633a2f55736572732f7966333833312f6769746875622f64796e61782f2e646576636f6e7461696e65722f646576636f6e7461696e65722e6a736f6e222c22736368656d65223a2266696c65227d7d/workspaces/dynax/cases/cost-comfort/zone-encoder-decoder.ipynb#X46sdnNjb2RlLXJlbW90ZQ%3D%3D?line=5'>6</a>\u001b[0m \u001b[39mdef\u001b[39;00m \u001b[39m__call__\u001b[39m(\u001b[39mself\u001b[39m, encoder_inputs, decoder_inputs):\n\u001b[1;32m      <a href='vscode-notebook-cell://dev-container%2B7b22686f737450617468223a22633a5c5c55736572735c5c7966333833315c5c6769746875625c5c64796e6178222c226c6f63616c446f636b6572223a66616c73652c22636f6e66696746696c65223a7b22246d6964223a312c22667350617468223a22633a5c5c55736572735c5c7966333833315c5c6769746875625c5c64796e61785c5c2e646576636f6e7461696e65725c5c646576636f6e7461696e65722e6a736f6e222c225f736570223a312c2265787465726e616c223a2266696c653a2f2f2f632533412f55736572732f7966333833312f6769746875622f64796e61782f2e646576636f6e7461696e65722f646576636f6e7461696e65722e6a736f6e222c2270617468223a222f633a2f55736572732f7966333833312f6769746875622f64796e61782f2e646576636f6e7461696e65722f646576636f6e7461696e65722e6a736f6e222c22736368656d65223a2266696c65227d7d/workspaces/dynax/cases/cost-comfort/zone-encoder-decoder.ipynb#X46sdnNjb2RlLXJlbW90ZQ%3D%3D?line=6'>7</a>\u001b[0m     \u001b[39m# encoder_inputs: (B, T, Ni)\u001b[39;00m\n\u001b[1;32m      <a href='vscode-notebook-cell://dev-container%2B7b22686f737450617468223a22633a5c5c55736572735c5c7966333833315c5c6769746875625c5c64796e6178222c226c6f63616c446f636b6572223a66616c73652c22636f6e66696746696c65223a7b22246d6964223a312c22667350617468223a22633a5c5c55736572735c5c7966333833315c5c6769746875625c5c64796e61785c5c2e646576636f6e7461696e65725c5c646576636f6e7461696e65722e6a736f6e222c225f736570223a312c2265787465726e616c223a2266696c653a2f2f2f632533412f55736572732f7966333833312f6769746875622f64796e61782f2e646576636f6e7461696e65722f646576636f6e7461696e65722e6a736f6e222c2270617468223a222f633a2f55736572732f7966333833312f6769746875622f64796e61782f2e646576636f6e7461696e65722f646576636f6e7461696e65722e6a736f6e222c22736368656d65223a2266696c65227d7d/workspaces/dynax/cases/cost-comfort/zone-encoder-decoder.ipynb#X46sdnNjb2RlLXJlbW90ZQ%3D%3D?line=7'>8</a>\u001b[0m     \u001b[39m# decoder_inputs: (B, T, No)\u001b[39;00m\n\u001b[1;32m      <a href='vscode-notebook-cell://dev-container%2B7b22686f737450617468223a22633a5c5c55736572735c5c7966333833315c5c6769746875625c5c64796e6178222c226c6f63616c446f636b6572223a66616c73652c22636f6e66696746696c65223a7b22246d6964223a312c22667350617468223a22633a5c5c55736572735c5c7966333833315c5c6769746875625c5c64796e61785c5c2e646576636f6e7461696e65725c5c646576636f6e7461696e65722e6a736f6e222c225f736570223a312c2265787465726e616c223a2266696c653a2f2f2f632533412f55736572732f7966333833312f6769746875622f64796e61782f2e646576636f6e7461696e65722f646576636f6e7461696e65722e6a736f6e222c2270617468223a222f633a2f55736572732f7966333833312f6769746875622f64796e61782f2e646576636f6e7461696e65722f646576636f6e7461696e65722e6a736f6e222c22736368656d65223a2266696c65227d7d/workspaces/dynax/cases/cost-comfort/zone-encoder-decoder.ipynb#X46sdnNjb2RlLXJlbW90ZQ%3D%3D?line=8'>9</a>\u001b[0m     \u001b[39m# encoder \u001b[39;00m\n\u001b[0;32m---> <a href='vscode-notebook-cell://dev-container%2B7b22686f737450617468223a22633a5c5c55736572735c5c7966333833315c5c6769746875625c5c64796e6178222c226c6f63616c446f636b6572223a66616c73652c22636f6e66696746696c65223a7b22246d6964223a312c22667350617468223a22633a5c5c55736572735c5c7966333833315c5c6769746875625c5c64796e61785c5c2e646576636f6e7461696e65725c5c646576636f6e7461696e65722e6a736f6e222c225f736570223a312c2265787465726e616c223a2266696c653a2f2f2f632533412f55736572732f7966333833312f6769746875622f64796e61782f2e646576636f6e7461696e65722f646576636f6e7461696e65722e6a736f6e222c2270617468223a222f633a2f55736572732f7966333833312f6769746875622f64796e61782f2e646576636f6e7461696e65722f646576636f6e7461696e65722e6a736f6e222c22736368656d65223a2266696c65227d7d/workspaces/dynax/cases/cost-comfort/zone-encoder-decoder.ipynb#X46sdnNjb2RlLXJlbW90ZQ%3D%3D?line=9'>10</a>\u001b[0m     encoder \u001b[39m=\u001b[39m nn\u001b[39m.\u001b[39;49mRNN(\n\u001b[1;32m     <a href='vscode-notebook-cell://dev-container%2B7b22686f737450617468223a22633a5c5c55736572735c5c7966333833315c5c6769746875625c5c64796e6178222c226c6f63616c446f636b6572223a66616c73652c22636f6e66696746696c65223a7b22246d6964223a312c22667350617468223a22633a5c5c55736572735c5c7966333833315c5c6769746875625c5c64796e61785c5c2e646576636f6e7461696e65725c5c646576636f6e7461696e65722e6a736f6e222c225f736570223a312c2265787465726e616c223a2266696c653a2f2f2f632533412f55736572732f7966333833312f6769746875622f64796e61782f2e646576636f6e7461696e65722f646576636f6e7461696e65722e6a736f6e222c2270617468223a222f633a2f55736572732f7966333833312f6769746875622f64796e61782f2e646576636f6e7461696e65722f646576636f6e7461696e65722e6a736f6e222c22736368656d65223a2266696c65227d7d/workspaces/dynax/cases/cost-comfort/zone-encoder-decoder.ipynb#X46sdnNjb2RlLXJlbW90ZQ%3D%3D?line=10'>11</a>\u001b[0m         nn\u001b[39m.\u001b[39mLSTMCell(features\u001b[39m=\u001b[39m\u001b[39mself\u001b[39m\u001b[39m.\u001b[39mhidden_dim),\n\u001b[1;32m     <a href='vscode-notebook-cell://dev-container%2B7b22686f737450617468223a22633a5c5c55736572735c5c7966333833315c5c6769746875625c5c64796e6178222c226c6f63616c446f636b6572223a66616c73652c22636f6e66696746696c65223a7b22246d6964223a312c22667350617468223a22633a5c5c55736572735c5c7966333833315c5c6769746875625c5c64796e61785c5c2e646576636f6e7461696e65725c5c646576636f6e7461696e65722e6a736f6e222c225f736570223a312c2265787465726e616c223a2266696c653a2f2f2f632533412f55736572732f7966333833312f6769746875622f64796e61782f2e646576636f6e7461696e65722f646576636f6e7461696e65722e6a736f6e222c2270617468223a222f633a2f55736572732f7966333833312f6769746875622f64796e61782f2e646576636f6e7461696e65722f646576636f6e7461696e65722e6a736f6e222c22736368656d65223a2266696c65227d7d/workspaces/dynax/cases/cost-comfort/zone-encoder-decoder.ipynb#X46sdnNjb2RlLXJlbW90ZQ%3D%3D?line=11'>12</a>\u001b[0m         return_carry\u001b[39m=\u001b[39m\u001b[39mTrue\u001b[39;00m,\n\u001b[1;32m     <a href='vscode-notebook-cell://dev-container%2B7b22686f737450617468223a22633a5c5c55736572735c5c7966333833315c5c6769746875625c5c64796e6178222c226c6f63616c446f636b6572223a66616c73652c22636f6e66696746696c65223a7b22246d6964223a312c22667350617468223a22633a5c5c55736572735c5c7966333833315c5c6769746875625c5c64796e61785c5c2e646576636f6e7461696e65725c5c646576636f6e7461696e65722e6a736f6e222c225f736570223a312c2265787465726e616c223a2266696c653a2f2f2f632533412f55736572732f7966333833312f6769746875622f64796e61782f2e646576636f6e7461696e65722f646576636f6e7461696e65722e6a736f6e222c2270617468223a222f633a2f55736572732f7966333833312f6769746875622f64796e61782f2e646576636f6e7461696e65722f646576636f6e7461696e65722e6a736f6e222c22736368656d65223a2266696c65227d7d/workspaces/dynax/cases/cost-comfort/zone-encoder-decoder.ipynb#X46sdnNjb2RlLXJlbW90ZQ%3D%3D?line=12'>13</a>\u001b[0m         name \u001b[39m=\u001b[39m \u001b[39m\"\u001b[39m\u001b[39mencoder\u001b[39m\u001b[39m\"\u001b[39m\n\u001b[1;32m     <a href='vscode-notebook-cell://dev-container%2B7b22686f737450617468223a22633a5c5c55736572735c5c7966333833315c5c6769746875625c5c64796e6178222c226c6f63616c446f636b6572223a66616c73652c22636f6e66696746696c65223a7b22246d6964223a312c22667350617468223a22633a5c5c55736572735c5c7966333833315c5c6769746875625c5c64796e61785c5c2e646576636f6e7461696e65725c5c646576636f6e7461696e65722e6a736f6e222c225f736570223a312c2265787465726e616c223a2266696c653a2f2f2f632533412f55736572732f7966333833312f6769746875622f64796e61782f2e646576636f6e7461696e65722f646576636f6e7461696e65722e6a736f6e222c2270617468223a222f633a2f55736572732f7966333833312f6769746875622f64796e61782f2e646576636f6e7461696e65722f646576636f6e7461696e65722e6a736f6e222c22736368656d65223a2266696c65227d7d/workspaces/dynax/cases/cost-comfort/zone-encoder-decoder.ipynb#X46sdnNjb2RlLXJlbW90ZQ%3D%3D?line=13'>14</a>\u001b[0m     )\n\u001b[1;32m     <a href='vscode-notebook-cell://dev-container%2B7b22686f737450617468223a22633a5c5c55736572735c5c7966333833315c5c6769746875625c5c64796e6178222c226c6f63616c446f636b6572223a66616c73652c22636f6e66696746696c65223a7b22246d6964223a312c22667350617468223a22633a5c5c55736572735c5c7966333833315c5c6769746875625c5c64796e61785c5c2e646576636f6e7461696e65725c5c646576636f6e7461696e65722e6a736f6e222c225f736570223a312c2265787465726e616c223a2266696c653a2f2f2f632533412f55736572732f7966333833312f6769746875622f64796e61782f2e646576636f6e7461696e65722f646576636f6e7461696e65722e6a736f6e222c2270617468223a222f633a2f55736572732f7966333833312f6769746875622f64796e61782f2e646576636f6e7461696e65722f646576636f6e7461696e65722e6a736f6e222c22736368656d65223a2266696c65227d7d/workspaces/dynax/cases/cost-comfort/zone-encoder-decoder.ipynb#X46sdnNjb2RlLXJlbW90ZQ%3D%3D?line=14'>15</a>\u001b[0m     encoder_state, _ \u001b[39m=\u001b[39m encoder(encoder_inputs)\n\u001b[1;32m     <a href='vscode-notebook-cell://dev-container%2B7b22686f737450617468223a22633a5c5c55736572735c5c7966333833315c5c6769746875625c5c64796e6178222c226c6f63616c446f636b6572223a66616c73652c22636f6e66696746696c65223a7b22246d6964223a312c22667350617468223a22633a5c5c55736572735c5c7966333833315c5c6769746875625c5c64796e61785c5c2e646576636f6e7461696e65725c5c646576636f6e7461696e65722e6a736f6e222c225f736570223a312c2265787465726e616c223a2266696c653a2f2f2f632533412f55736572732f7966333833312f6769746875622f64796e61782f2e646576636f6e7461696e65722f646576636f6e7461696e65722e6a736f6e222c2270617468223a222f633a2f55736572732f7966333833312f6769746875622f64796e61782f2e646576636f6e7461696e65722f646576636f6e7461696e65722e6a736f6e222c22736368656d65223a2266696c65227d7d/workspaces/dynax/cases/cost-comfort/zone-encoder-decoder.ipynb#X46sdnNjb2RlLXJlbW90ZQ%3D%3D?line=15'>16</a>\u001b[0m     \u001b[39m# decoder \u001b[39;00m\n",
      "\u001b[0;31mAttributeError\u001b[0m: module 'flax.linen' has no attribute 'RNN'"
     ]
    }
   ],
   "source": [
    "# An encoder-decoder model to predict extegonous disturbances on the dynamic system such as solar gain and internal gains. \n",
    "class EncoderDecoder(nn.Module):\n",
    "    hidden_dim: int = 32\n",
    "    \n",
    "    @nn.compact\n",
    "    def __call__(self, encoder_inputs, decoder_inputs):\n",
    "        # encoder_inputs: (B, T, Ni)\n",
    "        # decoder_inputs: (B, T, No)\n",
    "        # encoder \n",
    "        encoder = nn.RNN(\n",
    "            nn.LSTMCell(features=self.hidden_dim),\n",
    "            return_carry=True,\n",
    "            name = \"encoder\"\n",
    "        )\n",
    "        encoder_state, _ = encoder(encoder_inputs)\n",
    "        # decoder \n",
    "        decoder = nn.RNN(\n",
    "            nn.LSTMCell(features=self.hidden_dim),\n",
    "            return_carry=False,\n",
    "            name = \"decoder\"\n",
    "        )\n",
    "        decoder_outputs = decoder(decoder_inputs, initial_carry=encoder_state)\n",
    "\n",
    "        return decoder_outputs\n",
    "\n",
    "encoder_decoder = EncoderDecoder(hidden_dim=16)\n",
    "key = jax.random.PRNGKey(2023)\n",
    "init_params = encoder_decoder.init(key, jnp.ones((4, 24, 8)), jnp.ones((4, 12, 8)))\n",
    "out = encoder_decoder.apply(init_params, jnp.ones((4, 24, 8)), jnp.ones((4, 12, 8)))\n",
    "out.shape"
   ]
  },
  {
   "cell_type": "code",
   "execution_count": 5,
   "metadata": {},
   "outputs": [
    {
     "data": {
      "text/plain": [
       "'0.6.4'"
      ]
     },
     "execution_count": 5,
     "metadata": {},
     "output_type": "execute_result"
    }
   ],
   "source": [
    "import flax\n",
    "flax.__version__"
   ]
  },
  {
   "cell_type": "code",
   "execution_count": null,
   "metadata": {},
   "outputs": [],
   "source": [
    "INPUT_DIM = u_train.shape[-1]\n",
    "class PINN(BaseContinuousBlockSSM):\n",
    "    state_dim: int = 1\n",
    "    input_dim: int = INPUT_DIM\n",
    "    output_dim: int = 1\n",
    "\n",
    "    def setup(self):\n",
    "        super().setup()\n",
    "        self._fx = self.fx(output_dim = self.state_dim)\n",
    "        self._fy = self.fy(output_dim = self.output_dim)\n",
    "    \n",
    "    def __call__(self, states, inputs):\n",
    "        # states: (B, nx)\n",
    "        # inputs: (B, ni)\n",
    "        return super().__call__(states, inputs)\n",
    "\n",
    "    class fx(nn.Module):\n",
    "        output_dim: int \n",
    "        def setup(self):\n",
    "            self.B = self.param('B', nn.initializers.constant(1000.), ()) # \n",
    "            self.C = self.param('C', nn.initializers.constant(1000.), ()) # room capacitance\n",
    "\n",
    "            self.disturbance = nn.Dense(features=self.output_dim, use_bias=False)\n",
    "        \n",
    "        def __call__(self, states, inputs):\n",
    "            # assumed the first input is q_hvac\n",
    "            q_hvac = jnp.take(inputs, jnp.array([0]), axis=-1)\n",
    "            others = jnp.take(inputs, jnp.arange(1, jnp.shape(inputs)[-1]), axis=-1)\n",
    "            # run model\n",
    "            disturbance = self.disturbance(others)\n",
    "            return 1./self.C * (q_hvac + disturbance)\n",
    "    \n",
    "    class fy(nn.Module):\n",
    "        output_dim: int \n",
    "\n",
    "        def __call__(self, states, inputs):\n",
    "            # a faked value\n",
    "            return states @ jnp.eye(1)\n",
    "\n",
    "ode = PINN()\n",
    "key = jax.random.PRNGKey(2023)\n",
    "init_params = ode.init(key, jnp.ones((4,1)), jnp.ones((4,32)))\n",
    "rhs, out = ode.apply(init_params, jnp.ones((4,1)), jnp.ones((4,32)))\n",
    "print(ode.tabulate(key, jnp.ones((4,1)), jnp.ones((4,32))))"
   ]
  },
  {
   "cell_type": "code",
   "execution_count": null,
   "metadata": {},
   "outputs": [],
   "source": [
    "class PINNModel(nn.Module):\n",
    "    \n",
    "    state_dim: int = 1\n",
    "    ts: int = 0\n",
    "    dt: int = 900\n",
    "    regularizer:callable = nn.relu\n",
    "\n",
    "    @nn.compact \n",
    "    def __call__(self, states, inputs):\n",
    "\n",
    "        dynamics = PINN(state_dim = self.state_dim, name='dynamic')\n",
    "        states_out, measures_out = DifferentiableSimulator(\n",
    "            dynamics, \n",
    "            dt=self.dt, \n",
    "            mode_interp='linear', \n",
    "            start_time=self.ts\n",
    "        )(states, inputs)\n",
    "        \n",
    "        # add regularizer for loss calculation\n",
    "        if self.regularizer is not None:\n",
    "            # a reduce function to get the last value in sow(), which stores previous value\n",
    "            reduce_fn = lambda a, b: b \n",
    "            param_dynamics = dynamics.variables['params']['_fx']['C']\n",
    "            self.sow('reg_loss', 'C', self.regularizer(param_dynamics), reduce_fn=reduce_fn)\n",
    "\n",
    "        return jnp.squeeze(states_out, axis=-1)"
   ]
  },
  {
   "cell_type": "code",
   "execution_count": null,
   "metadata": {},
   "outputs": [],
   "source": [
    "# added a parameter regulizer\n",
    "params_bounds = [500, 100000]\n",
    "def param_regularizer(params, params_bounds):\n",
    "    lb, ub = params_bounds\n",
    "    loss = nn.relu(params - ub) + nn.relu(lb - params)\n",
    "    return loss"
   ]
  },
  {
   "cell_type": "code",
   "execution_count": null,
   "metadata": {},
   "outputs": [],
   "source": [
    "model = PINNModel(state_dim=1, regularizer=lambda params: param_regularizer(params, params_bounds))\n",
    "\n",
    "key = jax.random.PRNGKey(2023)\n",
    "init_params = model.init(key, jnp.ones((1)), jnp.ones((4,32)))\n",
    "init_out, model_states = model.apply(init_params, jnp.ones((1,)), jnp.ones((4,32)), mutable=['reg_loss'])\n",
    "print(model_states)\n",
    "print(model.tabulate(key, jnp.ones((1,)), jnp.ones((4,32))))"
   ]
  },
  {
   "cell_type": "code",
   "execution_count": null,
   "metadata": {},
   "outputs": [],
   "source": [
    "# batch Model with shared parameters\n",
    "VModel = nn.vmap(PINNModel, in_axes=(0,0), out_axes=0, variable_axes={'params': None, 'reg_loss': None}, split_rngs={'params': False})\n",
    "vmodel = VModel(state_dim=1, regularizer=lambda params: param_regularizer(params, params_bounds))\n",
    "init_params = vmodel.init(key, jnp.ones((32,1)), jnp.ones((32,4,INPUT_DIM)))\n",
    "out, states = vmodel.apply(init_params, jnp.ones((32,1)), jnp.ones((32,4,INPUT_DIM)), mutable=['reg_loss'])\n",
    "print(out.shape)"
   ]
  },
  {
   "cell_type": "markdown",
   "metadata": {},
   "source": [
    "#### Training and Evaluation"
   ]
  },
  {
   "cell_type": "code",
   "execution_count": null,
   "metadata": {},
   "outputs": [],
   "source": [
    "u_train.shape"
   ]
  },
  {
   "cell_type": "code",
   "execution_count": null,
   "metadata": {},
   "outputs": [],
   "source": [
    "qhvac = jnp.take(u_train, jnp.array([0]), axis=-1)\n",
    "qhvac.shape\n",
    "\n",
    "others = jnp.take(u_train, jnp.arange(1, INPUT_DIM), axis=-1)\n",
    "others.shape"
   ]
  },
  {
   "cell_type": "code",
   "execution_count": null,
   "metadata": {},
   "outputs": [],
   "source": [
    "# inverse simulation train_step\n",
    "@jax.jit\n",
    "def train_step(train_state, state_init, u, target):\n",
    "    def mse_loss(params):\n",
    "        # prediction\n",
    "        outputs_pred, regulizers = train_state.apply_fn(params, state_init, u, mutable=['reg_loss'])\n",
    "        #outputs_pred = jnp.clip(outputs_pred, 16., 40.)\n",
    "        # mse loss: match dimensions\n",
    "        pred_loss = jnp.mean((outputs_pred - target)**2)\n",
    "        reg_loss = sum(jax.tree_util.tree_leaves(regulizers[\"reg_loss\"]))\n",
    "\n",
    "        return pred_loss + reg_loss\n",
    "    \n",
    "    loss, grad = jax.value_and_grad(mse_loss)(train_state.params)\n",
    "    train_state = train_state.apply_gradients(grads=grad)\n",
    "\n",
    "    return loss, grad, train_state\n",
    "\n",
    "schedule = optax.linear_schedule(\n",
    "    init_value = 1e-1, \n",
    "    transition_steps = 5000, \n",
    "    transition_begin=0, \n",
    "    end_value=1e-4\n",
    ")\n",
    "\n",
    "optim = optax.chain(\n",
    "    #optax.clip_by_global_norm(1.0),\n",
    "    #optax.clip(1.),\n",
    "    #optax.scale(1.2),\n",
    "    #optax.lamb(1e-04),\n",
    "    optax.adam(0.1)\n",
    ")\n",
    "\n",
    "train_state = TrainState.create(\n",
    "    apply_fn=vmodel.apply,\n",
    "    params=init_params,\n",
    "    tx = optim,\n",
    ")\n"
   ]
  },
  {
   "cell_type": "code",
   "execution_count": null,
   "metadata": {},
   "outputs": [],
   "source": [
    "optim = optax.chain(\n",
    "    #optax.clip_by_global_norm(1.0),\n",
    "    #optax.clip(1.),\n",
    "    #optax.scale(1.2),\n",
    "    #optax.lamb(1e-03),\n",
    "    optax.adam(0.01)\n",
    ")"
   ]
  },
  {
   "cell_type": "code",
   "execution_count": null,
   "metadata": {},
   "outputs": [],
   "source": [
    "n_epochs = 500000\n",
    "\n",
    "# train loop\n",
    "for epoch in range(n_epochs):\n",
    "    loss, grad, train_state = train_step(train_state, x_train, u_train, y_train)\n",
    "    if epoch % 1000 == 0:\n",
    "        print(f\"epoch: {epoch}, loss: {loss}\")"
   ]
  },
  {
   "cell_type": "code",
   "execution_count": null,
   "metadata": {},
   "outputs": [],
   "source": [
    "loss"
   ]
  },
  {
   "cell_type": "code",
   "execution_count": null,
   "metadata": {},
   "outputs": [],
   "source": [
    "grad"
   ]
  },
  {
   "cell_type": "code",
   "execution_count": null,
   "metadata": {},
   "outputs": [],
   "source": [
    "train_state.params"
   ]
  },
  {
   "cell_type": "code",
   "execution_count": null,
   "metadata": {},
   "outputs": [],
   "source": [
    "y_pred = vmodel.apply(train_state.params, x_train, u_train)\n",
    "y_pred_test = vmodel.apply(train_state.params, x_test, u_test)"
   ]
  },
  {
   "cell_type": "code",
   "execution_count": null,
   "metadata": {},
   "outputs": [],
   "source": [
    "plt.figure(figsize=(12,6))\n",
    "plt.plot(y_train[:,:], label='target')\n",
    "plt.plot(y_pred[:,:], label='pred')\n",
    "plt.legend()"
   ]
  },
  {
   "cell_type": "code",
   "execution_count": null,
   "metadata": {},
   "outputs": [],
   "source": [
    "plt.figure(figsize=(12,6))\n",
    "plt.plot(y_test[:,:], label='target')\n",
    "plt.plot(y_pred_test[:,:], label='pred')\n",
    "plt.xlabel('day', fontsize=14)\n",
    "plt.ylabel('temperature [C]', fontsize=14)\n",
    "plt.legend()"
   ]
  },
  {
   "cell_type": "code",
   "execution_count": null,
   "metadata": {},
   "outputs": [],
   "source": [
    "# simple free-floating test\n",
    "import numpy as np \n",
    "u_test1 = np.array(u_test)\n",
    "u_test1[:, 0] = 0\n",
    "\n",
    "y_pred_test1 = vmodel.apply(train_state.params, x_test, u_test1)"
   ]
  },
  {
   "cell_type": "code",
   "execution_count": null,
   "metadata": {},
   "outputs": [],
   "source": [
    "plt.figure(figsize=(12,6))\n",
    "plt.plot(y_test[:,:], label='target')\n",
    "plt.plot(y_pred_test[:,:], label='pred')\n",
    "plt.plot(y_pred_test1[:,:], label='-')\n",
    "plt.legend()"
   ]
  },
  {
   "cell_type": "markdown",
   "metadata": {},
   "source": [
    "### 1.4 Koopman Model"
   ]
  },
  {
   "cell_type": "markdown",
   "metadata": {},
   "source": [
    "## Physics-Consistent Check\n",
    "\n",
    "How to know if the learned model follows general physics? \n",
    "- the derivative of room temp with respect to the HVAC energy rate should be positive. The more heat injected to the room, the higher the room temperature."
   ]
  },
  {
   "cell_type": "code",
   "execution_count": null,
   "metadata": {},
   "outputs": [],
   "source": [
    "u_fake = u_train[[100], ::]\n",
    "x_fake = x_train[[100], ::]"
   ]
  },
  {
   "cell_type": "code",
   "execution_count": null,
   "metadata": {},
   "outputs": [],
   "source": [
    "u_fake.shape, x_fake.shape"
   ]
  },
  {
   "cell_type": "code",
   "execution_count": null,
   "metadata": {},
   "outputs": [],
   "source": [
    "#create 10 different points: 0-10 kW\n",
    "\n",
    "q_hvac = jnp.array([i for i in range(-10, 10)])\n",
    "n_points = len(q_hvac)\n",
    "\n",
    "others = jnp.tile(u_fake[:,:,1:], reps=(n_points, 1, 1))\n",
    "q_hvac = q_hvac.reshape(-1,1)[:, jnp.newaxis, :]\n",
    "q_hvac.shape, others.shape"
   ]
  },
  {
   "cell_type": "code",
   "execution_count": null,
   "metadata": {},
   "outputs": [],
   "source": [
    "u = jnp.concatenate((q_hvac, others), axis=-1)\n",
    "x = jnp.tile(x_fake, reps=(n_points, 1))"
   ]
  },
  {
   "cell_type": "code",
   "execution_count": null,
   "metadata": {},
   "outputs": [],
   "source": [
    "y_pred = vmodel.apply(train_state.params, x, u)"
   ]
  },
  {
   "cell_type": "code",
   "execution_count": null,
   "metadata": {},
   "outputs": [],
   "source": [
    "plt.figure()\n",
    "plt.plot(q_hvac.squeeze(), y_pred, label='predicted') #\n",
    "plt.plot(q_hvac.squeeze(), x, label='previous temp') # previous temperature\n",
    "plt.grid()"
   ]
  }
 ],
 "metadata": {
  "kernelspec": {
   "display_name": "base",
   "language": "python",
   "name": "python3"
  },
  "language_info": {
   "codemirror_mode": {
    "name": "ipython",
    "version": 3
   },
   "file_extension": ".py",
   "mimetype": "text/x-python",
   "name": "python",
   "nbconvert_exporter": "python",
   "pygments_lexer": "ipython3",
   "version": "3.8.16"
  }
 },
 "nbformat": 4,
 "nbformat_minor": 2
}
