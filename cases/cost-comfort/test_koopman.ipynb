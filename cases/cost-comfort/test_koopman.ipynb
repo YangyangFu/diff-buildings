{
 "cells": [
  {
   "cell_type": "code",
   "execution_count": 1,
   "metadata": {},
   "outputs": [
    {
     "ename": "ImportError",
     "evalue": "cannot import name 'vdp_osc' from 'pykoopman.common.examples' (/opt/conda/lib/python3.8/site-packages/pykoopman/common/examples.py)",
     "output_type": "error",
     "traceback": [
      "\u001b[0;31m---------------------------------------------------------------------------\u001b[0m",
      "\u001b[0;31mImportError\u001b[0m                               Traceback (most recent call last)",
      "Input \u001b[0;32mIn [1]\u001b[0m, in \u001b[0;36m<cell line: 3>\u001b[0;34m()\u001b[0m\n\u001b[1;32m      1\u001b[0m get_ipython()\u001b[38;5;241m.\u001b[39mrun_line_magic(\u001b[38;5;124m'\u001b[39m\u001b[38;5;124mmatplotlib\u001b[39m\u001b[38;5;124m'\u001b[39m, \u001b[38;5;124m'\u001b[39m\u001b[38;5;124minline\u001b[39m\u001b[38;5;124m'\u001b[39m)\n\u001b[1;32m      2\u001b[0m \u001b[38;5;28;01mimport\u001b[39;00m \u001b[38;5;21;01mpykoopman\u001b[39;00m \u001b[38;5;28;01mas\u001b[39;00m \u001b[38;5;21;01mpk\u001b[39;00m\n\u001b[0;32m----> 3\u001b[0m \u001b[38;5;28;01mfrom\u001b[39;00m \u001b[38;5;21;01mpykoopman\u001b[39;00m\u001b[38;5;21;01m.\u001b[39;00m\u001b[38;5;21;01mcommon\u001b[39;00m\u001b[38;5;21;01m.\u001b[39;00m\u001b[38;5;21;01mexamples\u001b[39;00m \u001b[38;5;28;01mimport\u001b[39;00m vdp_osc, rk4, square_wave  \u001b[38;5;66;03m# required for example system\u001b[39;00m\n\u001b[1;32m      4\u001b[0m \u001b[38;5;28;01mimport\u001b[39;00m \u001b[38;5;21;01mmatplotlib\u001b[39;00m\u001b[38;5;21;01m.\u001b[39;00m\u001b[38;5;21;01mpyplot\u001b[39;00m \u001b[38;5;28;01mas\u001b[39;00m \u001b[38;5;21;01mplt\u001b[39;00m\n\u001b[1;32m      5\u001b[0m \u001b[38;5;28;01mimport\u001b[39;00m \u001b[38;5;21;01mnumpy\u001b[39;00m \u001b[38;5;28;01mas\u001b[39;00m \u001b[38;5;21;01mnp\u001b[39;00m\n",
      "\u001b[0;31mImportError\u001b[0m: cannot import name 'vdp_osc' from 'pykoopman.common.examples' (/opt/conda/lib/python3.8/site-packages/pykoopman/common/examples.py)"
     ]
    }
   ],
   "source": [
    "%matplotlib inline\n",
    "import pykoopman as pk\n",
    "from pykoopman.common.examples import vdp_osc, rk4, square_wave  # required for example system\n",
    "import matplotlib.pyplot as plt\n",
    "import numpy as np\n",
    "import numpy.random as rnd\n",
    "np.random.seed(42)  # for reproducibility\n",
    "\n",
    "import warnings\n",
    "warnings.filterwarnings('ignore')"
   ]
  },
  {
   "cell_type": "code",
   "execution_count": null,
   "metadata": {},
   "outputs": [],
   "source": [
    "n_states = 2 # Number of states\n",
    "n_inputs = 1 # Number of control inputs\n",
    "dT = 0.01    # Timestep\n",
    "n_traj = 200  # Number of trajectories\n",
    "n_int = 1000  # Integration length"
   ]
  },
  {
   "cell_type": "code",
   "execution_count": null,
   "metadata": {},
   "outputs": [],
   "source": [
    "# Time vector\n",
    "t = np.arange(0, n_int*dT, dT)\n",
    "\n",
    "# Uniform random distributed forcing in [-1, 1]\n",
    "u = 2*rnd.random([n_int, n_traj])-1\n",
    "\n",
    "# Uniform distribution of initial conditions\n",
    "x = 2*rnd.random([n_states, n_traj])-1\n",
    "\n",
    "# Init\n",
    "X = np.zeros((n_states, n_int*n_traj))\n",
    "Y = np.zeros((n_states, n_int*n_traj))\n",
    "U = np.zeros((n_inputs, n_int*n_traj))\n",
    "\n",
    "# Integrate\n",
    "for step in range(n_int):\n",
    "    y = rk4(0, x, u[step, :], dT, vdp_osc)\n",
    "    X[:, (step)*n_traj:(step+1)*n_traj] = x\n",
    "    Y[:, (step)*n_traj:(step+1)*n_traj] = y\n",
    "    U[:, (step)*n_traj:(step+1)*n_traj] = u[step, :]\n",
    "    x = y"
   ]
  },
  {
   "cell_type": "code",
   "execution_count": null,
   "metadata": {},
   "outputs": [],
   "source": [
    "# Visualize first 100 steps of the training data\n",
    "fig, axs = plt.subplots(1, 1, tight_layout=True, figsize=(12, 4))\n",
    "for traj_idx in range(n_traj):\n",
    "    x = X[:, traj_idx::n_traj]\n",
    "    axs.plot(t[0:100], x[1, 0:100], 'k')\n",
    "axs.set(\n",
    "        ylabel=r'$x_2$',\n",
    "        xlabel=r'$t$')"
   ]
  }
 ],
 "metadata": {
  "kernelspec": {
   "display_name": "base",
   "language": "python",
   "name": "python3"
  },
  "language_info": {
   "codemirror_mode": {
    "name": "ipython",
    "version": 3
   },
   "file_extension": ".py",
   "mimetype": "text/x-python",
   "name": "python",
   "nbconvert_exporter": "python",
   "pygments_lexer": "ipython3",
   "version": "3.8.18"
  }
 },
 "nbformat": 4,
 "nbformat_minor": 2
}
