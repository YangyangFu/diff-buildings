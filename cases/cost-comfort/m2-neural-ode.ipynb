{
 "cells": [
  {
   "cell_type": "markdown",
   "metadata": {},
   "source": [
    "# Zone Temperature Dynamical Model\n",
    "\n",
    "Goals:\n",
    "- investigate different physics-informed dynamical models for zone temperature prediction\n",
    "- thermal dynamics should be captured"
   ]
  },
  {
   "cell_type": "markdown",
   "metadata": {},
   "source": [
    "ISSUES:\n",
    "- [ ] with long prediction horizon, the neural ODE is hard to predict due to error propoagtion?\n",
    "\n",
    "\n",
    "TODOS:\n",
    "- [ ] check if instance normalization can help training with long prediction horizon \n",
    "  "
   ]
  },
  {
   "cell_type": "code",
   "execution_count": 119,
   "metadata": {},
   "outputs": [],
   "source": [
    "from jax import config \n",
    "config.update(\"jax_debug_nans\", False)\n",
    "import matplotlib\n",
    "#matplotlib.use('Agg')\n",
    "import matplotlib.pyplot as plt\n",
    "import numpy as np\n",
    "\n",
    "import jax \n",
    "import jax.numpy as jnp \n",
    "import flax.linen as nn\n",
    "import optax \n",
    "import pandas as pd \n",
    "\n",
    "from dynax.core.base_block_state_space import BaseContinuousBlockSSM\n",
    "from dynax.simulators.simulator import DifferentiableSimulator\n",
    "from dynax.trainer.train_state import TrainState\n",
    "\n",
    "# need use double precision for numerical stability to training some networks\n",
    "jax.config.update(\"jax_enable_x64\", True)"
   ]
  },
  {
   "cell_type": "markdown",
   "metadata": {},
   "source": [
    "## 0. Data and DataLoader\n",
    "- EP data with prototypical building model\n",
    "- Real data from Lennox thermostat data"
   ]
  },
  {
   "cell_type": "code",
   "execution_count": 120,
   "metadata": {},
   "outputs": [
    {
     "data": {
      "text/plain": [
       "\"\\nimport pandas as pd \\n\\ndates = ['01-'+str(i)+'-18' for i in range(14, 28)]\\ndata = pd.read_excel('./data/real-world-data.xls', sheet_name=dates, header=3)\\n\\ncombined_data = pd.DataFrame()\\nfor key in data.keys():\\n    combined_data = pd.concat([combined_data, data[key]], axis=0, ignore_index=True)\\n\\ncombined_data.to_csv('./data/real-world-data.csv')\\n\""
      ]
     },
     "execution_count": 120,
     "metadata": {},
     "output_type": "execute_result"
    }
   ],
   "source": [
    "\"\"\"\n",
    "import pandas as pd \n",
    "\n",
    "dates = ['01-'+str(i)+'-18' for i in range(14, 28)]\n",
    "data = pd.read_excel('./data/real-world-data.xls', sheet_name=dates, header=3)\n",
    "\n",
    "combined_data = pd.DataFrame()\n",
    "for key in data.keys():\n",
    "    combined_data = pd.concat([combined_data, data[key]], axis=0, ignore_index=True)\n",
    "\n",
    "combined_data.to_csv('./data/real-world-data.csv')\n",
    "\"\"\""
   ]
  },
  {
   "cell_type": "code",
   "execution_count": 121,
   "metadata": {},
   "outputs": [],
   "source": [
    "data = pd.read_csv('./data/real-world-data.csv')\n",
    "\n",
    "columns_mapper = {'LocalTime':'time', 'tabtsense0':'temp_zone', 'SP_cool':'csp', 'SP_heat':'hsp', 'CoolDemand':'qcool', 'HeatDemand':'qheat', 'humidityindoor_0':'rh_zone', 'oupresentcompressorfreq':'freq', 'iuairflowrate':'cfm', 'surf_tempf':'temp_out', 'rad':'qsol'}\n",
    "\n",
    "data = data[columns_mapper.keys()].rename(columns = columns_mapper)\n",
    "data.index = pd.DatetimeIndex(data['time'], freq='1min')\n",
    "data = data.drop(columns=['time'])\n"
   ]
  },
  {
   "cell_type": "code",
   "execution_count": 122,
   "metadata": {},
   "outputs": [
    {
     "data": {
      "text/html": [
       "<div>\n",
       "<style scoped>\n",
       "    .dataframe tbody tr th:only-of-type {\n",
       "        vertical-align: middle;\n",
       "    }\n",
       "\n",
       "    .dataframe tbody tr th {\n",
       "        vertical-align: top;\n",
       "    }\n",
       "\n",
       "    .dataframe thead th {\n",
       "        text-align: right;\n",
       "    }\n",
       "</style>\n",
       "<table border=\"1\" class=\"dataframe\">\n",
       "  <thead>\n",
       "    <tr style=\"text-align: right;\">\n",
       "      <th></th>\n",
       "      <th>temp_zone</th>\n",
       "      <th>csp</th>\n",
       "      <th>hsp</th>\n",
       "      <th>qcool</th>\n",
       "      <th>qheat</th>\n",
       "      <th>rh_zone</th>\n",
       "      <th>freq</th>\n",
       "      <th>cfm</th>\n",
       "      <th>temp_out</th>\n",
       "      <th>qsol</th>\n",
       "    </tr>\n",
       "    <tr>\n",
       "      <th>time</th>\n",
       "      <th></th>\n",
       "      <th></th>\n",
       "      <th></th>\n",
       "      <th></th>\n",
       "      <th></th>\n",
       "      <th></th>\n",
       "      <th></th>\n",
       "      <th></th>\n",
       "      <th></th>\n",
       "      <th></th>\n",
       "    </tr>\n",
       "  </thead>\n",
       "  <tbody>\n",
       "    <tr>\n",
       "      <th>2018-01-14 18:01:00</th>\n",
       "      <td>69.6</td>\n",
       "      <td>77</td>\n",
       "      <td>70</td>\n",
       "      <td>0</td>\n",
       "      <td>100</td>\n",
       "      <td>35.5</td>\n",
       "      <td>NaN</td>\n",
       "      <td>0</td>\n",
       "      <td>41.531667</td>\n",
       "      <td>0.0</td>\n",
       "    </tr>\n",
       "    <tr>\n",
       "      <th>2018-01-14 18:02:00</th>\n",
       "      <td>69.5</td>\n",
       "      <td>77</td>\n",
       "      <td>70</td>\n",
       "      <td>0</td>\n",
       "      <td>100</td>\n",
       "      <td>36.0</td>\n",
       "      <td>NaN</td>\n",
       "      <td>0</td>\n",
       "      <td>41.563333</td>\n",
       "      <td>0.0</td>\n",
       "    </tr>\n",
       "    <tr>\n",
       "      <th>2018-01-14 18:03:00</th>\n",
       "      <td>69.5</td>\n",
       "      <td>77</td>\n",
       "      <td>70</td>\n",
       "      <td>0</td>\n",
       "      <td>100</td>\n",
       "      <td>36.0</td>\n",
       "      <td>NaN</td>\n",
       "      <td>0</td>\n",
       "      <td>41.595000</td>\n",
       "      <td>0.0</td>\n",
       "    </tr>\n",
       "    <tr>\n",
       "      <th>2018-01-14 18:04:00</th>\n",
       "      <td>69.6</td>\n",
       "      <td>77</td>\n",
       "      <td>70</td>\n",
       "      <td>0</td>\n",
       "      <td>100</td>\n",
       "      <td>36.0</td>\n",
       "      <td>NaN</td>\n",
       "      <td>0</td>\n",
       "      <td>41.626667</td>\n",
       "      <td>0.0</td>\n",
       "    </tr>\n",
       "    <tr>\n",
       "      <th>2018-01-14 18:05:00</th>\n",
       "      <td>69.6</td>\n",
       "      <td>77</td>\n",
       "      <td>70</td>\n",
       "      <td>0</td>\n",
       "      <td>100</td>\n",
       "      <td>36.0</td>\n",
       "      <td>NaN</td>\n",
       "      <td>0</td>\n",
       "      <td>41.658333</td>\n",
       "      <td>0.0</td>\n",
       "    </tr>\n",
       "  </tbody>\n",
       "</table>\n",
       "</div>"
      ],
      "text/plain": [
       "                     temp_zone  csp  hsp  qcool  qheat  rh_zone  freq  cfm  \\\n",
       "time                                                                         \n",
       "2018-01-14 18:01:00       69.6   77   70      0    100     35.5   NaN    0   \n",
       "2018-01-14 18:02:00       69.5   77   70      0    100     36.0   NaN    0   \n",
       "2018-01-14 18:03:00       69.5   77   70      0    100     36.0   NaN    0   \n",
       "2018-01-14 18:04:00       69.6   77   70      0    100     36.0   NaN    0   \n",
       "2018-01-14 18:05:00       69.6   77   70      0    100     36.0   NaN    0   \n",
       "\n",
       "                      temp_out  qsol  \n",
       "time                                  \n",
       "2018-01-14 18:01:00  41.531667   0.0  \n",
       "2018-01-14 18:02:00  41.563333   0.0  \n",
       "2018-01-14 18:03:00  41.595000   0.0  \n",
       "2018-01-14 18:04:00  41.626667   0.0  \n",
       "2018-01-14 18:05:00  41.658333   0.0  "
      ]
     },
     "execution_count": 122,
     "metadata": {},
     "output_type": "execute_result"
    }
   ],
   "source": [
    "data.head()"
   ]
  },
  {
   "cell_type": "markdown",
   "metadata": {},
   "source": [
    "This data is from Rohini's house, which has a Lennox thermostat but Carrier unit. Thus the equipment info are basically not available. \n",
    "- assume nominal heating capacity is 4 ton (e.g., 14 kW)"
   ]
  },
  {
   "cell_type": "code",
   "execution_count": 123,
   "metadata": {},
   "outputs": [],
   "source": [
    "# change IP unit to SI\n",
    "# F to C\n",
    "data[['temp_zone', 'csp', 'hsp', 'temp_out']] =  5./9*(data[['temp_zone', 'csp', 'hsp', 'temp_out']] - 32)\n",
    "# W to kW\n",
    "data['qsol'] /= 1000.\n",
    "# percentage to kW\n",
    "data[['qcool', 'qheat']] *= 14./100.\n",
    "\n",
    "data['qhvac'] = -1*data['qcool'] + data['qheat']"
   ]
  },
  {
   "cell_type": "code",
   "execution_count": 124,
   "metadata": {},
   "outputs": [
    {
     "data": {
      "text/html": [
       "<div>\n",
       "<style scoped>\n",
       "    .dataframe tbody tr th:only-of-type {\n",
       "        vertical-align: middle;\n",
       "    }\n",
       "\n",
       "    .dataframe tbody tr th {\n",
       "        vertical-align: top;\n",
       "    }\n",
       "\n",
       "    .dataframe thead th {\n",
       "        text-align: right;\n",
       "    }\n",
       "</style>\n",
       "<table border=\"1\" class=\"dataframe\">\n",
       "  <thead>\n",
       "    <tr style=\"text-align: right;\">\n",
       "      <th></th>\n",
       "      <th>temp_zone</th>\n",
       "      <th>csp</th>\n",
       "      <th>hsp</th>\n",
       "      <th>qcool</th>\n",
       "      <th>qheat</th>\n",
       "      <th>rh_zone</th>\n",
       "      <th>freq</th>\n",
       "      <th>cfm</th>\n",
       "      <th>temp_out</th>\n",
       "      <th>qsol</th>\n",
       "      <th>qhvac</th>\n",
       "    </tr>\n",
       "    <tr>\n",
       "      <th>time</th>\n",
       "      <th></th>\n",
       "      <th></th>\n",
       "      <th></th>\n",
       "      <th></th>\n",
       "      <th></th>\n",
       "      <th></th>\n",
       "      <th></th>\n",
       "      <th></th>\n",
       "      <th></th>\n",
       "      <th></th>\n",
       "      <th></th>\n",
       "    </tr>\n",
       "  </thead>\n",
       "  <tbody>\n",
       "    <tr>\n",
       "      <th>2018-01-14 18:00:00</th>\n",
       "      <td>21.206349</td>\n",
       "      <td>25.0</td>\n",
       "      <td>21.111111</td>\n",
       "      <td>0.0</td>\n",
       "      <td>7.0</td>\n",
       "      <td>35.178571</td>\n",
       "      <td>NaN</td>\n",
       "      <td>0.0</td>\n",
       "      <td>5.409722</td>\n",
       "      <td>0.0</td>\n",
       "      <td>7.0</td>\n",
       "    </tr>\n",
       "    <tr>\n",
       "      <th>2018-01-14 18:15:00</th>\n",
       "      <td>21.618519</td>\n",
       "      <td>25.0</td>\n",
       "      <td>21.111111</td>\n",
       "      <td>0.0</td>\n",
       "      <td>0.0</td>\n",
       "      <td>33.733333</td>\n",
       "      <td>NaN</td>\n",
       "      <td>0.0</td>\n",
       "      <td>5.664815</td>\n",
       "      <td>0.0</td>\n",
       "      <td>0.0</td>\n",
       "    </tr>\n",
       "    <tr>\n",
       "      <th>2018-01-14 18:30:00</th>\n",
       "      <td>21.329630</td>\n",
       "      <td>25.0</td>\n",
       "      <td>21.111111</td>\n",
       "      <td>0.0</td>\n",
       "      <td>0.0</td>\n",
       "      <td>35.333333</td>\n",
       "      <td>NaN</td>\n",
       "      <td>0.0</td>\n",
       "      <td>5.928704</td>\n",
       "      <td>0.0</td>\n",
       "      <td>0.0</td>\n",
       "    </tr>\n",
       "    <tr>\n",
       "      <th>2018-01-14 18:45:00</th>\n",
       "      <td>21.125926</td>\n",
       "      <td>25.0</td>\n",
       "      <td>21.111111</td>\n",
       "      <td>0.0</td>\n",
       "      <td>0.0</td>\n",
       "      <td>36.000000</td>\n",
       "      <td>NaN</td>\n",
       "      <td>0.0</td>\n",
       "      <td>6.192593</td>\n",
       "      <td>0.0</td>\n",
       "      <td>0.0</td>\n",
       "    </tr>\n",
       "    <tr>\n",
       "      <th>2018-01-14 19:00:00</th>\n",
       "      <td>21.118519</td>\n",
       "      <td>25.0</td>\n",
       "      <td>21.111111</td>\n",
       "      <td>0.0</td>\n",
       "      <td>0.0</td>\n",
       "      <td>36.333333</td>\n",
       "      <td>NaN</td>\n",
       "      <td>0.0</td>\n",
       "      <td>6.268519</td>\n",
       "      <td>0.0</td>\n",
       "      <td>0.0</td>\n",
       "    </tr>\n",
       "  </tbody>\n",
       "</table>\n",
       "</div>"
      ],
      "text/plain": [
       "                     temp_zone   csp        hsp  qcool  qheat    rh_zone  \\\n",
       "time                                                                       \n",
       "2018-01-14 18:00:00  21.206349  25.0  21.111111    0.0    7.0  35.178571   \n",
       "2018-01-14 18:15:00  21.618519  25.0  21.111111    0.0    0.0  33.733333   \n",
       "2018-01-14 18:30:00  21.329630  25.0  21.111111    0.0    0.0  35.333333   \n",
       "2018-01-14 18:45:00  21.125926  25.0  21.111111    0.0    0.0  36.000000   \n",
       "2018-01-14 19:00:00  21.118519  25.0  21.111111    0.0    0.0  36.333333   \n",
       "\n",
       "                     freq  cfm  temp_out  qsol  qhvac  \n",
       "time                                                   \n",
       "2018-01-14 18:00:00   NaN  0.0  5.409722   0.0    7.0  \n",
       "2018-01-14 18:15:00   NaN  0.0  5.664815   0.0    0.0  \n",
       "2018-01-14 18:30:00   NaN  0.0  5.928704   0.0    0.0  \n",
       "2018-01-14 18:45:00   NaN  0.0  6.192593   0.0    0.0  \n",
       "2018-01-14 19:00:00   NaN  0.0  6.268519   0.0    0.0  "
      ]
     },
     "execution_count": 124,
     "metadata": {},
     "output_type": "execute_result"
    }
   ],
   "source": [
    "# resampel to 15min \n",
    "data = data.resample('15min').mean()\n",
    "data.head()"
   ]
  },
  {
   "cell_type": "code",
   "execution_count": 125,
   "metadata": {},
   "outputs": [],
   "source": [
    "# time features\n",
    "def add_time_features(data):\n",
    "    data['hour'] = data.index.hour\n",
    "    data['dayofweek'] = data.index.dayofweek\n",
    "    return data\n",
    "\n",
    "# use cos and sin to encode cyclical features\n",
    "def encode_cyclical(data, col, max_val):\n",
    "    data[col+'_sin'] = np.sin(2*np.pi*data[col]/max_val)\n",
    "    data[col+'_cos'] = np.cos(2*np.pi*data[col]/max_val)\n",
    "    return data\n"
   ]
  },
  {
   "cell_type": "code",
   "execution_count": 126,
   "metadata": {},
   "outputs": [
    {
     "data": {
      "text/html": [
       "<div>\n",
       "<style scoped>\n",
       "    .dataframe tbody tr th:only-of-type {\n",
       "        vertical-align: middle;\n",
       "    }\n",
       "\n",
       "    .dataframe tbody tr th {\n",
       "        vertical-align: top;\n",
       "    }\n",
       "\n",
       "    .dataframe thead th {\n",
       "        text-align: right;\n",
       "    }\n",
       "</style>\n",
       "<table border=\"1\" class=\"dataframe\">\n",
       "  <thead>\n",
       "    <tr style=\"text-align: right;\">\n",
       "      <th></th>\n",
       "      <th>temp_zone</th>\n",
       "      <th>temp_out</th>\n",
       "      <th>qsol</th>\n",
       "      <th>qhvac</th>\n",
       "      <th>hour_sin</th>\n",
       "      <th>hour_cos</th>\n",
       "      <th>dayofweek_sin</th>\n",
       "      <th>dayofweek_cos</th>\n",
       "    </tr>\n",
       "    <tr>\n",
       "      <th>time</th>\n",
       "      <th></th>\n",
       "      <th></th>\n",
       "      <th></th>\n",
       "      <th></th>\n",
       "      <th></th>\n",
       "      <th></th>\n",
       "      <th></th>\n",
       "      <th></th>\n",
       "    </tr>\n",
       "  </thead>\n",
       "  <tbody>\n",
       "    <tr>\n",
       "      <th>2018-01-14 18:00:00</th>\n",
       "      <td>21.206349</td>\n",
       "      <td>5.409722</td>\n",
       "      <td>0.0</td>\n",
       "      <td>7.0</td>\n",
       "      <td>-0.979084</td>\n",
       "      <td>0.203456</td>\n",
       "      <td>-2.449294e-16</td>\n",
       "      <td>1.0</td>\n",
       "    </tr>\n",
       "    <tr>\n",
       "      <th>2018-01-14 18:15:00</th>\n",
       "      <td>21.618519</td>\n",
       "      <td>5.664815</td>\n",
       "      <td>0.0</td>\n",
       "      <td>0.0</td>\n",
       "      <td>-0.979084</td>\n",
       "      <td>0.203456</td>\n",
       "      <td>-2.449294e-16</td>\n",
       "      <td>1.0</td>\n",
       "    </tr>\n",
       "    <tr>\n",
       "      <th>2018-01-14 18:30:00</th>\n",
       "      <td>21.329630</td>\n",
       "      <td>5.928704</td>\n",
       "      <td>0.0</td>\n",
       "      <td>0.0</td>\n",
       "      <td>-0.979084</td>\n",
       "      <td>0.203456</td>\n",
       "      <td>-2.449294e-16</td>\n",
       "      <td>1.0</td>\n",
       "    </tr>\n",
       "    <tr>\n",
       "      <th>2018-01-14 18:45:00</th>\n",
       "      <td>21.125926</td>\n",
       "      <td>6.192593</td>\n",
       "      <td>0.0</td>\n",
       "      <td>0.0</td>\n",
       "      <td>-0.979084</td>\n",
       "      <td>0.203456</td>\n",
       "      <td>-2.449294e-16</td>\n",
       "      <td>1.0</td>\n",
       "    </tr>\n",
       "    <tr>\n",
       "      <th>2018-01-14 19:00:00</th>\n",
       "      <td>21.118519</td>\n",
       "      <td>6.268519</td>\n",
       "      <td>0.0</td>\n",
       "      <td>0.0</td>\n",
       "      <td>-0.887885</td>\n",
       "      <td>0.460065</td>\n",
       "      <td>-2.449294e-16</td>\n",
       "      <td>1.0</td>\n",
       "    </tr>\n",
       "  </tbody>\n",
       "</table>\n",
       "</div>"
      ],
      "text/plain": [
       "                     temp_zone  temp_out  qsol  qhvac  hour_sin  hour_cos  \\\n",
       "time                                                                        \n",
       "2018-01-14 18:00:00  21.206349  5.409722   0.0    7.0 -0.979084  0.203456   \n",
       "2018-01-14 18:15:00  21.618519  5.664815   0.0    0.0 -0.979084  0.203456   \n",
       "2018-01-14 18:30:00  21.329630  5.928704   0.0    0.0 -0.979084  0.203456   \n",
       "2018-01-14 18:45:00  21.125926  6.192593   0.0    0.0 -0.979084  0.203456   \n",
       "2018-01-14 19:00:00  21.118519  6.268519   0.0    0.0 -0.887885  0.460065   \n",
       "\n",
       "                     dayofweek_sin  dayofweek_cos  \n",
       "time                                               \n",
       "2018-01-14 18:00:00  -2.449294e-16            1.0  \n",
       "2018-01-14 18:15:00  -2.449294e-16            1.0  \n",
       "2018-01-14 18:30:00  -2.449294e-16            1.0  \n",
       "2018-01-14 18:45:00  -2.449294e-16            1.0  \n",
       "2018-01-14 19:00:00  -2.449294e-16            1.0  "
      ]
     },
     "execution_count": 126,
     "metadata": {},
     "output_type": "execute_result"
    }
   ],
   "source": [
    "target = [\"temp_zone\"]\n",
    "outdoor = [\"temp_out\", \"qsol\"]\n",
    "control = [\"qhvac\"]\n",
    "feature = target + outdoor + control\n",
    "\n",
    "data = data[feature]\n",
    "\n",
    "# add time features\n",
    "data = add_time_features(data)\n",
    "data = encode_cyclical(data, \"hour\", 23)\n",
    "data = encode_cyclical(data, \"dayofweek\", 6)\n",
    "time_feature = [\"hour_sin\", \"hour_cos\", \"dayofweek_sin\", \"dayofweek_cos\"]\n",
    "\n",
    "data = data[feature + time_feature]\n",
    "data.head()"
   ]
  },
  {
   "cell_type": "markdown",
   "metadata": {},
   "source": [
    "## 1. Models\n",
    "\n",
    "Try two different mdoels\n",
    "- lumped single zone dynamic model \n",
    "- neural ode\n"
   ]
  },
  {
   "cell_type": "markdown",
   "metadata": {},
   "source": [
    "### 1.2 Neural ODE\n",
    "\n",
    "For realistic settings, here I only assume known measurements, such as outdoor air temperature, solar radiation, and energy usage\n",
    "\n",
    "$$\n",
    "    \\frac{dT_z}{dt} = f(h_t, T_o, \\dot q_{sol}, \\dot q_{hvac}; \\theta)\n",
    "$$"
   ]
  },
  {
   "cell_type": "code",
   "execution_count": 127,
   "metadata": {},
   "outputs": [
    {
     "data": {
      "text/html": [
       "<div>\n",
       "<style scoped>\n",
       "    .dataframe tbody tr th:only-of-type {\n",
       "        vertical-align: middle;\n",
       "    }\n",
       "\n",
       "    .dataframe tbody tr th {\n",
       "        vertical-align: top;\n",
       "    }\n",
       "\n",
       "    .dataframe thead th {\n",
       "        text-align: right;\n",
       "    }\n",
       "</style>\n",
       "<table border=\"1\" class=\"dataframe\">\n",
       "  <thead>\n",
       "    <tr style=\"text-align: right;\">\n",
       "      <th></th>\n",
       "      <th>temp_zone</th>\n",
       "      <th>temp_out</th>\n",
       "      <th>qsol</th>\n",
       "      <th>qhvac</th>\n",
       "      <th>hour_sin</th>\n",
       "      <th>hour_cos</th>\n",
       "      <th>dayofweek_sin</th>\n",
       "      <th>dayofweek_cos</th>\n",
       "    </tr>\n",
       "    <tr>\n",
       "      <th>time</th>\n",
       "      <th></th>\n",
       "      <th></th>\n",
       "      <th></th>\n",
       "      <th></th>\n",
       "      <th></th>\n",
       "      <th></th>\n",
       "      <th></th>\n",
       "      <th></th>\n",
       "    </tr>\n",
       "  </thead>\n",
       "  <tbody>\n",
       "    <tr>\n",
       "      <th>2018-01-14 18:00:00</th>\n",
       "      <td>21.206349</td>\n",
       "      <td>5.409722</td>\n",
       "      <td>0.0</td>\n",
       "      <td>7.0</td>\n",
       "      <td>-0.979084</td>\n",
       "      <td>0.203456</td>\n",
       "      <td>-2.449294e-16</td>\n",
       "      <td>1.0</td>\n",
       "    </tr>\n",
       "    <tr>\n",
       "      <th>2018-01-14 18:15:00</th>\n",
       "      <td>21.618519</td>\n",
       "      <td>5.664815</td>\n",
       "      <td>0.0</td>\n",
       "      <td>0.0</td>\n",
       "      <td>-0.979084</td>\n",
       "      <td>0.203456</td>\n",
       "      <td>-2.449294e-16</td>\n",
       "      <td>1.0</td>\n",
       "    </tr>\n",
       "    <tr>\n",
       "      <th>2018-01-14 18:30:00</th>\n",
       "      <td>21.329630</td>\n",
       "      <td>5.928704</td>\n",
       "      <td>0.0</td>\n",
       "      <td>0.0</td>\n",
       "      <td>-0.979084</td>\n",
       "      <td>0.203456</td>\n",
       "      <td>-2.449294e-16</td>\n",
       "      <td>1.0</td>\n",
       "    </tr>\n",
       "    <tr>\n",
       "      <th>2018-01-14 18:45:00</th>\n",
       "      <td>21.125926</td>\n",
       "      <td>6.192593</td>\n",
       "      <td>0.0</td>\n",
       "      <td>0.0</td>\n",
       "      <td>-0.979084</td>\n",
       "      <td>0.203456</td>\n",
       "      <td>-2.449294e-16</td>\n",
       "      <td>1.0</td>\n",
       "    </tr>\n",
       "    <tr>\n",
       "      <th>2018-01-14 19:00:00</th>\n",
       "      <td>21.118519</td>\n",
       "      <td>6.268519</td>\n",
       "      <td>0.0</td>\n",
       "      <td>0.0</td>\n",
       "      <td>-0.887885</td>\n",
       "      <td>0.460065</td>\n",
       "      <td>-2.449294e-16</td>\n",
       "      <td>1.0</td>\n",
       "    </tr>\n",
       "  </tbody>\n",
       "</table>\n",
       "</div>"
      ],
      "text/plain": [
       "                     temp_zone  temp_out  qsol  qhvac  hour_sin  hour_cos  \\\n",
       "time                                                                        \n",
       "2018-01-14 18:00:00  21.206349  5.409722   0.0    7.0 -0.979084  0.203456   \n",
       "2018-01-14 18:15:00  21.618519  5.664815   0.0    0.0 -0.979084  0.203456   \n",
       "2018-01-14 18:30:00  21.329630  5.928704   0.0    0.0 -0.979084  0.203456   \n",
       "2018-01-14 18:45:00  21.125926  6.192593   0.0    0.0 -0.979084  0.203456   \n",
       "2018-01-14 19:00:00  21.118519  6.268519   0.0    0.0 -0.887885  0.460065   \n",
       "\n",
       "                     dayofweek_sin  dayofweek_cos  \n",
       "time                                               \n",
       "2018-01-14 18:00:00  -2.449294e-16            1.0  \n",
       "2018-01-14 18:15:00  -2.449294e-16            1.0  \n",
       "2018-01-14 18:30:00  -2.449294e-16            1.0  \n",
       "2018-01-14 18:45:00  -2.449294e-16            1.0  \n",
       "2018-01-14 19:00:00  -2.449294e-16            1.0  "
      ]
     },
     "execution_count": 127,
     "metadata": {},
     "output_type": "execute_result"
    }
   ],
   "source": [
    "data.head()"
   ]
  },
  {
   "cell_type": "markdown",
   "metadata": {},
   "source": [
    "#### Prepare Data"
   ]
  },
  {
   "cell_type": "code",
   "execution_count": 128,
   "metadata": {},
   "outputs": [],
   "source": [
    "# get window data\n",
    "def get_batch_data_at(batch_index, data_df, n_lags, n_future, encoder_features, decoder_features, target_col):\n",
    "    encoder_inputs = data_df.iloc[batch_index-n_lags:batch_index][encoder_features].values\n",
    "    decoder_inputs = data_df.iloc[batch_index:batch_index+n_future][decoder_features].values \n",
    "    target = data_df.iloc[batch_index:batch_index+n_future][target_col].values\n",
    "\n",
    "    return encoder_inputs, decoder_inputs, target\n",
    "\n",
    "# get batched data\n",
    "def get_batch_data(idx, data_df, n_lags, n_future, encoder_features, decoder_features, target_col):\n",
    "    encoder_inputs = []\n",
    "    decoder_inputs = []\n",
    "    targets = []\n",
    "    for i in idx:\n",
    "        ei, di, t = get_batch_data_at(i, data_df, n_lags, n_future, encoder_features, decoder_features, target_col)\n",
    "        encoder_inputs.append(ei)\n",
    "        decoder_inputs.append(di)\n",
    "        targets.append(t)\n",
    "    return np.array(encoder_inputs), np.array(decoder_inputs), np.array(targets)\n",
    "\n",
    "\n",
    "data2 = data.copy()\n",
    "\n",
    "# data processing parameters\n",
    "n_lags = 1\n",
    "n_futures = 4\n",
    "\n",
    "ratio = 0.75\n",
    "n_samples = data2.shape[0]\n",
    "n_train = int(ratio * n_samples)\n",
    "\n",
    "# get data\n",
    "state_features = [\"temp_zone\"]\n",
    "feature = [\"temp_out\", \"qsol\", \"qhvac\"]\n",
    "time_feature = [\"hour_sin\", \"hour_cos\", \"dayofweek_sin\", \"dayofweek_cos\"]\n",
    "input_features = time_feature + feature\n",
    "target = ['temp_zone']\n",
    "\n",
    "# data format\n",
    "# state: (B, Nx)\n",
    "# inputs: (B, T, Ni)\n",
    "# outputs: (B, T, No)\n",
    "# generate training data\n",
    "batch_index_train = np.arange(n_lags, n_train-n_futures)\n",
    "state_train, inputs_train, target_train = get_batch_data(batch_index_train, data2, n_lags, n_futures, state_features, input_features, target)\n",
    "state_train = state_train.squeeze(axis=-2) # (B, 1, Nx) -> (B, Nx)\n",
    "\n",
    "# generate testing data\n",
    "batch_index_test = np.arange(n_train+n_lags, data2.shape[0]-n_futures)\n",
    "state_test, inputs_test, target_test = get_batch_data(batch_index_test, data2, n_lags, n_futures, state_features, input_features, target)\n",
    "state_test = state_test.squeeze(axis=-2) # (B, 1, Nx) -> (B, Nx)\n",
    "\n",
    "normalize = False\n",
    "if normalize:\n",
    "    # normalize data\n",
    "    state_mean = state_train.mean(axis=0)\n",
    "    state_std = state_train.std(axis=0)\n",
    "    inputs_mean = inputs_train.mean(axis=0)\n",
    "    inputs_std = inputs_train.std(axis=0)\n",
    "    target_mean = target_train.mean(axis=0)\n",
    "    target_std = target_train.std(axis=0)\n",
    "\n",
    "    state_train = (state_train - state_mean)/state_std\n",
    "    inputs_train = (inputs_train - inputs_mean)/inputs_std\n",
    "    target_train = (target_train - target_mean)/target_std\n",
    "\n",
    "    state_test = (state_test - state_mean)/state_std\n",
    "    inputs_test = (inputs_test - inputs_mean)/inputs_std\n",
    "    target_test = (target_test - target_mean)/target_std\n",
    "\n",
    "# define denormalize function\n",
    "def denormalize(X, mean, std):\n",
    "    return X*std + mean"
   ]
  },
  {
   "cell_type": "code",
   "execution_count": 129,
   "metadata": {},
   "outputs": [
    {
     "data": {
      "text/plain": [
       "((931, 1), (931, 4, 7), (931, 4, 1))"
      ]
     },
     "execution_count": 129,
     "metadata": {},
     "output_type": "execute_result"
    }
   ],
   "source": [
    "state_train.shape, inputs_train.shape, target_train.shape"
   ]
  },
  {
   "cell_type": "code",
   "execution_count": 130,
   "metadata": {},
   "outputs": [
    {
     "data": {
      "text/plain": [
       "((307, 1), (307, 4, 7), (307, 4, 1))"
      ]
     },
     "execution_count": 130,
     "metadata": {},
     "output_type": "execute_result"
    }
   ],
   "source": [
    "state_test.shape, inputs_test.shape, target_test.shape"
   ]
  },
  {
   "cell_type": "markdown",
   "metadata": {},
   "source": [
    "#### Define Model"
   ]
  },
  {
   "cell_type": "code",
   "execution_count": 140,
   "metadata": {},
   "outputs": [
    {
     "name": "stdout",
     "output_type": "stream",
     "text": [
      "\n",
      "\u001b[3m                               NeuralODE Summary                               \u001b[0m\n",
      "┏━━━━━━━━━━━━┳━━━━━━━━━━━┳━━━━━━━━━━━━━━┳━━━━━━━━━━━━━━┳━━━━━━━━━━━━━━━━━━━━━━┓\n",
      "┃\u001b[1m \u001b[0m\u001b[1mpath      \u001b[0m\u001b[1m \u001b[0m┃\u001b[1m \u001b[0m\u001b[1mmodule   \u001b[0m\u001b[1m \u001b[0m┃\u001b[1m \u001b[0m\u001b[1minputs      \u001b[0m\u001b[1m \u001b[0m┃\u001b[1m \u001b[0m\u001b[1moutputs     \u001b[0m\u001b[1m \u001b[0m┃\u001b[1m \u001b[0m\u001b[1mparams              \u001b[0m\u001b[1m \u001b[0m┃\n",
      "┡━━━━━━━━━━━━╇━━━━━━━━━━━╇━━━━━━━━━━━━━━╇━━━━━━━━━━━━━━╇━━━━━━━━━━━━━━━━━━━━━━┩\n",
      "│            │ NeuralODE │ - \u001b[2mfloat64\u001b[0m[1] │ - \u001b[2mfloat64\u001b[0m[1] │                      │\n",
      "│            │           │ - \u001b[2mfloat64\u001b[0m[7] │ - \u001b[2mfloat64\u001b[0m[1] │                      │\n",
      "├────────────┼───────────┼──────────────┼──────────────┼──────────────────────┤\n",
      "│ _fx        │ fx        │ - \u001b[2mfloat64\u001b[0m[1] │ \u001b[2mfloat64\u001b[0m[1]   │                      │\n",
      "│            │           │ - \u001b[2mfloat64\u001b[0m[7] │              │                      │\n",
      "├────────────┼───────────┼──────────────┼──────────────┼──────────────────────┤\n",
      "│ _fx/dense1 │ Dense     │ \u001b[2mfloat64\u001b[0m[8]   │ \u001b[2mfloat64\u001b[0m[8]   │ bias: \u001b[2mfloat32\u001b[0m[8]     │\n",
      "│            │           │              │              │ kernel: \u001b[2mfloat32\u001b[0m[8,8] │\n",
      "│            │           │              │              │                      │\n",
      "│            │           │              │              │ \u001b[1m72 \u001b[0m\u001b[1;2m(288 B)\u001b[0m           │\n",
      "├────────────┼───────────┼──────────────┼──────────────┼──────────────────────┤\n",
      "│ _fx/dense  │ Dense     │ \u001b[2mfloat64\u001b[0m[8]   │ \u001b[2mfloat64\u001b[0m[1]   │ bias: \u001b[2mfloat32\u001b[0m[1]     │\n",
      "│            │           │              │              │ kernel: \u001b[2mfloat32\u001b[0m[8,1] │\n",
      "│            │           │              │              │                      │\n",
      "│            │           │              │              │ \u001b[1m9 \u001b[0m\u001b[1;2m(36 B)\u001b[0m             │\n",
      "├────────────┼───────────┼──────────────┼──────────────┼──────────────────────┤\n",
      "│ _fy        │ fy        │ - \u001b[2mfloat64\u001b[0m[1] │ \u001b[2mfloat64\u001b[0m[1]   │                      │\n",
      "│            │           │ - \u001b[2mfloat64\u001b[0m[7] │              │                      │\n",
      "├────────────┼───────────┼──────────────┼──────────────┼──────────────────────┤\n",
      "│\u001b[1m \u001b[0m\u001b[1m          \u001b[0m\u001b[1m \u001b[0m│\u001b[1m \u001b[0m\u001b[1m         \u001b[0m\u001b[1m \u001b[0m│\u001b[1m \u001b[0m\u001b[1m            \u001b[0m\u001b[1m \u001b[0m│\u001b[1m \u001b[0m\u001b[1m       Total\u001b[0m\u001b[1m \u001b[0m│\u001b[1m \u001b[0m\u001b[1m81 \u001b[0m\u001b[1;2m(324 B)\u001b[0m\u001b[1m          \u001b[0m\u001b[1m \u001b[0m│\n",
      "└────────────┴───────────┴──────────────┴──────────────┴──────────────────────┘\n",
      "\u001b[1m                                                                               \u001b[0m\n",
      "\u001b[1m                         Total Parameters: 81 \u001b[0m\u001b[1;2m(324 B)\u001b[0m\u001b[1m                          \u001b[0m\n",
      "\n",
      "\n"
     ]
    },
    {
     "data": {
      "text/plain": [
       "(1,)"
      ]
     },
     "execution_count": 140,
     "metadata": {},
     "output_type": "execute_result"
    }
   ],
   "source": [
    "configs = {\"state_dim\": 1, \n",
    "           \"input_dim\": 7, \n",
    "           \"output_dim\": 1\n",
    "        }\n",
    "\n",
    "# TODO: use einsum for batched ODE solving\n",
    "# Dynamical ODE should not support batched inputs, batching will be done using vmap()\n",
    "# Dynamical ODE should not support multiple time steps, rollout will be done using simulator\n",
    "class NeuralODE(BaseContinuousBlockSSM):\n",
    "    state_dim: int = configs[\"state_dim\"]\n",
    "    input_dim: int = configs[\"input_dim\"]\n",
    "    output_dim: int = configs[\"output_dim\"]\n",
    "\n",
    "    def setup(self):\n",
    "        super().setup()\n",
    "        self._fx = self.fx(output_dim = self.state_dim)\n",
    "        self._fy = self.fy(output_dim = self.output_dim)\n",
    "    \n",
    "    def __call__(self, states, inputs):\n",
    "        # states: (B, nx)\n",
    "        # inputs: (B, ni)\n",
    "        assert self.input_dim == jnp.shape(inputs)[-1]\n",
    "        return super().__call__(states, inputs)\n",
    "\n",
    "    class fx(nn.Module):\n",
    "        output_dim: int \n",
    "        def setup(self):\n",
    "            self.dense1 = nn.Dense(features=8)\n",
    "            #self.dense2 = nn.Dense(features=4, use_bias=False)\n",
    "            self.dense = nn.Dense(features=self.output_dim)\n",
    "        \n",
    "        def __call__(self, states, inputs):\n",
    "            # combine statse and inputs\n",
    "            out = jnp.concatenate([states, inputs], axis=-1)\n",
    "            out = self.dense1(out)\n",
    "            out = nn.relu(out)\n",
    "            #out = self.dense2(out)\n",
    "            out = self.dense(out)\n",
    "            #out = nn.relu(out)\n",
    "            #out = self.dense(out)\n",
    "            return out\n",
    "\n",
    "    \n",
    "    class fy(nn.Module):\n",
    "        output_dim: int \n",
    "\n",
    "        def __call__(self, states, inputs):\n",
    "            # a faked value\n",
    "            return states\n",
    "\n",
    "STATE_DIM = configs[\"state_dim\"]\n",
    "INPUT_DIM = configs[\"input_dim\"]\n",
    "ode = NeuralODE(state_dim = STATE_DIM)\n",
    "key = jax.random.PRNGKey(2023)\n",
    "init_params = ode.init(key, jnp.ones((STATE_DIM,)), jnp.ones((INPUT_DIM,)))\n",
    "rhs, out = ode.apply(init_params, jnp.ones((STATE_DIM,)), jnp.ones((INPUT_DIM, )))\n",
    "print(ode.tabulate(key, jnp.ones((STATE_DIM,)), jnp.ones((INPUT_DIM, ))))\n",
    "out.shape"
   ]
  },
  {
   "cell_type": "code",
   "execution_count": 141,
   "metadata": {},
   "outputs": [
    {
     "name": "stdout",
     "output_type": "stream",
     "text": [
      "\n",
      "\u001b[3m                              NeuralModel Summary                               \u001b[0m\n",
      "┏━━━━━━━━━━━━━━━┳━━━━━━━━━━━━━━━┳━━━━━━━━━━━━━━━┳━━━━━━━━━━━━━━┳━━━━━━━━━━━━━━━┓\n",
      "┃\u001b[1m \u001b[0m\u001b[1mpath         \u001b[0m\u001b[1m \u001b[0m┃\u001b[1m \u001b[0m\u001b[1mmodule       \u001b[0m\u001b[1m \u001b[0m┃\u001b[1m \u001b[0m\u001b[1minputs       \u001b[0m\u001b[1m \u001b[0m┃\u001b[1m \u001b[0m\u001b[1moutputs     \u001b[0m\u001b[1m \u001b[0m┃\u001b[1m \u001b[0m\u001b[1mparams       \u001b[0m\u001b[1m \u001b[0m┃\n",
      "┡━━━━━━━━━━━━━━━╇━━━━━━━━━━━━━━━╇━━━━━━━━━━━━━━━╇━━━━━━━━━━━━━━╇━━━━━━━━━━━━━━━┩\n",
      "│               │ NeuralModel   │ - \u001b[2mfloat64\u001b[0m[1]  │ \u001b[2mfloat64\u001b[0m[2,1] │               │\n",
      "│               │               │ -             │              │               │\n",
      "│               │               │ \u001b[2mfloat64\u001b[0m[2,7]  │              │               │\n",
      "├───────────────┼───────────────┼───────────────┼──────────────┼───────────────┤\n",
      "│ Differentiab… │ Differentiab… │ - \u001b[2mfloat64\u001b[0m[1]  │ -            │               │\n",
      "│               │               │ -             │ \u001b[2mfloat64\u001b[0m[2,1] │               │\n",
      "│               │               │ \u001b[2mfloat64\u001b[0m[2,7]  │ -            │               │\n",
      "│               │               │               │ \u001b[2mfloat64\u001b[0m[2,1] │               │\n",
      "├───────────────┼───────────────┼───────────────┼──────────────┼───────────────┤\n",
      "│ NeuralODE_0   │ NeuralODE     │ - - \u001b[2mint64\u001b[0m[]   │ - - \u001b[2mint64\u001b[0m[]  │               │\n",
      "│               │ \u001b[2m(rollout)\u001b[0m     │   -           │   -          │               │\n",
      "│               │               │ \u001b[2mfloat64\u001b[0m[1]    │ \u001b[2mfloat64\u001b[0m[1]   │               │\n",
      "│               │               │ - \u001b[2mfloat64\u001b[0m[7]  │ - -          │               │\n",
      "│               │               │               │ \u001b[2mfloat64\u001b[0m[1]   │               │\n",
      "│               │               │               │   -          │               │\n",
      "│               │               │               │ \u001b[2mfloat64\u001b[0m[1]   │               │\n",
      "├───────────────┼───────────────┼───────────────┼──────────────┼───────────────┤\n",
      "│ NeuralODE_0/… │ fx            │ - \u001b[2mfloat64\u001b[0m[1]  │ \u001b[2mfloat64\u001b[0m[1]   │               │\n",
      "│               │               │ - \u001b[2mfloat64\u001b[0m[7]  │              │               │\n",
      "├───────────────┼───────────────┼───────────────┼──────────────┼───────────────┤\n",
      "│ NeuralODE_0/… │ Dense         │ \u001b[2mfloat64\u001b[0m[8]    │ \u001b[2mfloat64\u001b[0m[8]   │ bias:         │\n",
      "│               │               │               │              │ \u001b[2mfloat32\u001b[0m[8]    │\n",
      "│               │               │               │              │ kernel:       │\n",
      "│               │               │               │              │ \u001b[2mfloat32\u001b[0m[8,8]  │\n",
      "│               │               │               │              │               │\n",
      "│               │               │               │              │ \u001b[1m72 \u001b[0m\u001b[1;2m(288 B)\u001b[0m    │\n",
      "├───────────────┼───────────────┼───────────────┼──────────────┼───────────────┤\n",
      "│ NeuralODE_0/… │ Dense         │ \u001b[2mfloat64\u001b[0m[8]    │ \u001b[2mfloat64\u001b[0m[1]   │ bias:         │\n",
      "│               │               │               │              │ \u001b[2mfloat32\u001b[0m[1]    │\n",
      "│               │               │               │              │ kernel:       │\n",
      "│               │               │               │              │ \u001b[2mfloat32\u001b[0m[8,1]  │\n",
      "│               │               │               │              │               │\n",
      "│               │               │               │              │ \u001b[1m9 \u001b[0m\u001b[1;2m(36 B)\u001b[0m      │\n",
      "├───────────────┼───────────────┼───────────────┼──────────────┼───────────────┤\n",
      "│ NeuralODE_0/… │ fy            │ - \u001b[2mfloat64\u001b[0m[1]  │ \u001b[2mfloat64\u001b[0m[1]   │               │\n",
      "│               │               │ - \u001b[2mfloat64\u001b[0m[7]  │              │               │\n",
      "├───────────────┼───────────────┼───────────────┼──────────────┼───────────────┤\n",
      "│\u001b[1m \u001b[0m\u001b[1m             \u001b[0m\u001b[1m \u001b[0m│\u001b[1m \u001b[0m\u001b[1m             \u001b[0m\u001b[1m \u001b[0m│\u001b[1m \u001b[0m\u001b[1m             \u001b[0m\u001b[1m \u001b[0m│\u001b[1m \u001b[0m\u001b[1m       Total\u001b[0m\u001b[1m \u001b[0m│\u001b[1m \u001b[0m\u001b[1m81 \u001b[0m\u001b[1;2m(324 B)\u001b[0m\u001b[1m   \u001b[0m\u001b[1m \u001b[0m│\n",
      "└───────────────┴───────────────┴───────────────┴──────────────┴───────────────┘\n",
      "\u001b[1m                                                                                \u001b[0m\n",
      "\u001b[1m                          Total Parameters: 81 \u001b[0m\u001b[1;2m(324 B)\u001b[0m\u001b[1m                          \u001b[0m\n",
      "\n",
      "\n"
     ]
    },
    {
     "data": {
      "text/plain": [
       "(2, 1)"
      ]
     },
     "execution_count": 141,
     "metadata": {},
     "output_type": "execute_result"
    }
   ],
   "source": [
    "class NeuralModel(nn.Module):\n",
    "    \n",
    "    state_dim: int = configs[\"state_dim\"]\n",
    "    ts: int = 0\n",
    "    dt: int = 900\n",
    "\n",
    "    @nn.compact \n",
    "    def __call__(self, states, inputs):\n",
    "        \"\"\"\n",
    "        params:\n",
    "            states: (Nx,)\n",
    "            inputs: (T, Ni)\n",
    "        return:\n",
    "            states: (T, Nx)\n",
    "        \"\"\"\n",
    "        dynamics = NeuralODE(state_dim = self.state_dim)\n",
    "        states_out, measures_out = DifferentiableSimulator(\n",
    "            dynamics, \n",
    "            dt=self.dt, \n",
    "            mode_interp='linear', \n",
    "            start_time=self.ts\n",
    "        )(states, inputs)\n",
    "        \n",
    "        return states_out\n",
    "\n",
    "model = NeuralModel(state_dim=STATE_DIM)\n",
    "\n",
    "key = jax.random.PRNGKey(1000)\n",
    "init_params = model.init(key, jnp.ones((STATE_DIM,)), jnp.ones((2, INPUT_DIM)))\n",
    "init_out = model.apply(init_params, jnp.ones((STATE_DIM,)), jnp.ones((2, INPUT_DIM)))\n",
    "print(model.tabulate(key, jnp.ones((STATE_DIM,)), jnp.ones((2, INPUT_DIM))))\n",
    "init_out.shape"
   ]
  },
  {
   "cell_type": "code",
   "execution_count": 142,
   "metadata": {},
   "outputs": [
    {
     "name": "stdout",
     "output_type": "stream",
     "text": [
      "(32, 4, 1)\n"
     ]
    }
   ],
   "source": [
    "# batch Model with shared parameters\n",
    "VModel = nn.vmap(NeuralModel, in_axes=(0,0), out_axes=0, variable_axes={'params': None}, split_rngs={'params': False})\n",
    "vmodel = VModel(state_dim=STATE_DIM)\n",
    "init_params = vmodel.init(key, jnp.ones((32,STATE_DIM)), jnp.ones((32,4,INPUT_DIM)))\n",
    "out = vmodel.apply(init_params, jnp.ones((32,STATE_DIM)), jnp.ones((32,4,INPUT_DIM)))\n",
    "print(out.shape)"
   ]
  },
  {
   "cell_type": "markdown",
   "metadata": {},
   "source": [
    "#### Training and Evaluation"
   ]
  },
  {
   "cell_type": "code",
   "execution_count": 143,
   "metadata": {},
   "outputs": [],
   "source": [
    "# inverse simulation train_step\n",
    "@jax.jit\n",
    "def train_step(train_state, state_prev, inputs, target):\n",
    "    def mse_loss(params):\n",
    "        # prediction\n",
    "        outputs_pred = train_state.apply_fn(params, state_prev, inputs)\n",
    "        # mse loss: match dimensions\n",
    "        pred_loss = jnp.mean((outputs_pred - target)**2)\n",
    "        return pred_loss\n",
    "    \n",
    "    loss, grad = jax.value_and_grad(mse_loss)(train_state.params)\n",
    "    train_state = train_state.apply_gradients(grads=grad)\n",
    "\n",
    "    return loss, grad, train_state\n",
    "\n",
    "\n",
    "@jax.jit\n",
    "def test_step(train_state, state_prev, inputs, target):\n",
    "    def mse_loss(params):\n",
    "        # prediction\n",
    "        outputs_pred = train_state.apply_fn(params, state_prev, inputs)\n",
    "        #outputs_pred = jnp.clip(outputs_pred, 16., 40.)\n",
    "        # mse loss: match dimensions\n",
    "        pred_loss = jnp.mean((outputs_pred - target)**2)\n",
    "        return pred_loss\n",
    "    \n",
    "    loss = mse_loss(train_state.params)\n",
    "\n",
    "\n",
    "    return loss\n",
    "\n",
    "schedule = optax.linear_schedule(\n",
    "    init_value = 1e-1, \n",
    "    transition_steps = 5000, \n",
    "    transition_begin=0, \n",
    "    end_value=1e-4\n",
    ")\n",
    "\n",
    "optim = optax.chain(\n",
    "    #optax.clip_by_global_norm(1.0),\n",
    "    #optax.clip(1.),\n",
    "    #optax.scale(1.2),\n",
    "    #optax.lamb(1e-02),\n",
    "    optax.adamw(0.1)\n",
    ")\n"
   ]
  },
  {
   "cell_type": "code",
   "execution_count": 144,
   "metadata": {},
   "outputs": [],
   "source": [
    "train_state = TrainState.create(\n",
    "    apply_fn=vmodel.apply,\n",
    "    params=init_params,\n",
    "    tx = optim,\n",
    ")\n"
   ]
  },
  {
   "cell_type": "code",
   "execution_count": 145,
   "metadata": {},
   "outputs": [],
   "source": [
    "outputs_pred = train_state.apply_fn(train_state.params, state_train, inputs_train)"
   ]
  },
  {
   "cell_type": "code",
   "execution_count": 146,
   "metadata": {},
   "outputs": [
    {
     "data": {
      "text/plain": [
       "((931, 4, 1), (931, 4, 7), (931, 1))"
      ]
     },
     "execution_count": 146,
     "metadata": {},
     "output_type": "execute_result"
    }
   ],
   "source": [
    "outputs_pred.shape, inputs_train.shape, state_train.shape"
   ]
  },
  {
   "cell_type": "code",
   "execution_count": 147,
   "metadata": {},
   "outputs": [
    {
     "data": {
      "text/plain": [
       "Array(3.88595938e+20, dtype=float64)"
      ]
     },
     "execution_count": 147,
     "metadata": {},
     "output_type": "execute_result"
    }
   ],
   "source": [
    "# check if there is nan\n",
    "pred_loss = jnp.mean((outputs_pred - target_train)**2)\n",
    "pred_loss"
   ]
  },
  {
   "cell_type": "code",
   "execution_count": 179,
   "metadata": {},
   "outputs": [
    {
     "name": "stdout",
     "output_type": "stream",
     "text": [
      "epoch: 0, training loss: 0.14155852832718577, testing loss: 0.11375358890874777\n",
      "epoch: 1000, training loss: 0.14132472221251785, testing loss: 0.11767623015308991\n",
      "epoch: 2000, training loss: 0.16841219272927896, testing loss: 0.19048978327694555\n",
      "epoch: 3000, training loss: 0.14009530226272324, testing loss: 0.11274342840980452\n",
      "epoch: 4000, training loss: 0.14240241628050807, testing loss: 0.12231444567619197\n",
      "epoch: 5000, training loss: 0.14049591334458023, testing loss: 0.10731541924309672\n",
      "epoch: 6000, training loss: 0.13922608111242993, testing loss: 0.1135117355920001\n",
      "epoch: 7000, training loss: 0.14086884025142352, testing loss: 0.10533484607993071\n",
      "epoch: 8000, training loss: 0.15273782355679427, testing loss: 0.10157866769668718\n",
      "epoch: 9000, training loss: 0.23207506215782206, testing loss: 0.17690969007668156\n",
      "epoch: 10000, training loss: 0.13745350706941892, testing loss: 0.10776548503813267\n",
      "epoch: 11000, training loss: 0.13718755021879683, testing loss: 0.11231140268237105\n",
      "epoch: 12000, training loss: 0.13810153494657731, testing loss: 0.11351283417626945\n",
      "epoch: 13000, training loss: 0.15333471556976552, testing loss: 0.11535257585247656\n",
      "epoch: 14000, training loss: 0.16829011238819544, testing loss: 0.13481855004969628\n",
      "epoch: 15000, training loss: 0.16800185315229918, testing loss: 0.11489131489471016\n",
      "epoch: 16000, training loss: 0.13743850964554105, testing loss: 0.10230035553256356\n",
      "epoch: 17000, training loss: 0.13721999800160728, testing loss: 0.11158152656299589\n",
      "epoch: 18000, training loss: 0.14131328003789015, testing loss: 0.11367897668833736\n",
      "epoch: 19000, training loss: 0.135524069953404, testing loss: 0.11032163765524508\n",
      "epoch: 20000, training loss: 0.14109319495912384, testing loss: 0.1175382596986402\n",
      "epoch: 21000, training loss: 0.1472793666407589, testing loss: 0.11268827500578245\n",
      "epoch: 22000, training loss: 0.13218042772765712, testing loss: 0.1016297283939378\n",
      "epoch: 23000, training loss: 0.13292434871237038, testing loss: 0.09187658002593542\n",
      "epoch: 24000, training loss: 0.15168119380992887, testing loss: 0.15791190232929334\n",
      "epoch: 25000, training loss: 0.1475484958309175, testing loss: 0.11981560282166177\n",
      "epoch: 26000, training loss: 0.13522530544800568, testing loss: 0.11025373461439418\n",
      "epoch: 27000, training loss: 0.15155651786659513, testing loss: 0.09287254710624093\n",
      "epoch: 28000, training loss: 0.1345973418257348, testing loss: 0.10353137250491344\n",
      "epoch: 29000, training loss: 0.14001374349422036, testing loss: 0.09558687948284156\n",
      "epoch: 30000, training loss: 0.13141341081963623, testing loss: 0.10510693514585587\n",
      "epoch: 31000, training loss: 0.1299328450630763, testing loss: 0.09455718601128595\n",
      "epoch: 32000, training loss: 0.13852122398619054, testing loss: 0.10908690678367369\n",
      "epoch: 33000, training loss: 0.14097929801540676, testing loss: 0.1249003966805\n",
      "epoch: 34000, training loss: 0.2240612416084418, testing loss: 0.17613661467345257\n",
      "epoch: 35000, training loss: 0.12926848685444994, testing loss: 0.0975255209651934\n",
      "epoch: 36000, training loss: 0.19341437172488055, testing loss: 0.14570698710624805\n",
      "epoch: 37000, training loss: 0.14604542364821446, testing loss: 0.12089456111023904\n",
      "epoch: 38000, training loss: 0.1279439650400989, testing loss: 0.09438863737044122\n",
      "epoch: 39000, training loss: 0.14767200027438926, testing loss: 0.1307746151700699\n",
      "epoch: 40000, training loss: 0.12978119202159938, testing loss: 0.09588896768866581\n",
      "epoch: 41000, training loss: 0.19504859249963505, testing loss: 0.16113451419764688\n",
      "epoch: 42000, training loss: 0.1367322508925991, testing loss: 0.08854324051999535\n",
      "epoch: 43000, training loss: 0.13889096833957357, testing loss: 0.08590354735314036\n",
      "epoch: 44000, training loss: 0.13705568414402663, testing loss: 0.10166015721540712\n",
      "epoch: 45000, training loss: 0.19560592057494855, testing loss: 0.14552856986582222\n",
      "epoch: 46000, training loss: 0.13955936868001936, testing loss: 0.08885014246651321\n",
      "epoch: 47000, training loss: 0.13821906832372788, testing loss: 0.10810385104000501\n",
      "epoch: 48000, training loss: 0.1446240492053221, testing loss: 0.13144517077341816\n",
      "epoch: 49000, training loss: 0.12642753720638547, testing loss: 0.08687839218659162\n",
      "epoch: 50000, training loss: 0.16730238803502545, testing loss: 0.10048019033950627\n",
      "epoch: 51000, training loss: 0.13181501581894756, testing loss: 0.10256707127350882\n",
      "epoch: 52000, training loss: 0.12450924353729993, testing loss: 0.09315114788936765\n",
      "epoch: 53000, training loss: 0.13553199436125027, testing loss: 0.1146770357870719\n",
      "epoch: 54000, training loss: 0.12950412253776167, testing loss: 0.09251955197719222\n",
      "epoch: 55000, training loss: 0.14947474442511544, testing loss: 0.10044263348849963\n",
      "epoch: 56000, training loss: 0.14333417988260155, testing loss: 0.11610518323948184\n",
      "epoch: 57000, training loss: 0.13504678701822598, testing loss: 0.11208355116987985\n",
      "epoch: 58000, training loss: 0.1265517055680906, testing loss: 0.09029240699598905\n",
      "epoch: 59000, training loss: 0.1336032612392706, testing loss: 0.11969880623483449\n",
      "epoch: 60000, training loss: 0.12345840747857566, testing loss: 0.09031021990432128\n",
      "epoch: 61000, training loss: 0.16909014790652813, testing loss: 0.09417456685972088\n",
      "epoch: 62000, training loss: 0.13657300202550382, testing loss: 0.11222655687979449\n",
      "epoch: 63000, training loss: 0.1263091815758357, testing loss: 0.09355467755150142\n",
      "epoch: 64000, training loss: 0.12915790634717225, testing loss: 0.11993067691935362\n",
      "epoch: 65000, training loss: 0.17905015536916005, testing loss: 0.11482091507381519\n",
      "epoch: 66000, training loss: 0.12740140765131952, testing loss: 0.0922906521284032\n",
      "epoch: 67000, training loss: 0.13492838090783046, testing loss: 0.11111738836166656\n",
      "epoch: 68000, training loss: 0.1231711224057249, testing loss: 0.09200290035148607\n",
      "epoch: 69000, training loss: 0.14170997521187492, testing loss: 0.11858853251259968\n",
      "epoch: 70000, training loss: 0.1435507861419431, testing loss: 0.12656792045847748\n",
      "epoch: 71000, training loss: 0.14141474344847327, testing loss: 0.09856729746841063\n",
      "epoch: 72000, training loss: 0.15153993652652728, testing loss: 0.09689944688958763\n",
      "epoch: 73000, training loss: 0.12362745591638034, testing loss: 0.09119478579720637\n",
      "epoch: 74000, training loss: 0.1303187818042551, testing loss: 0.0927829292737098\n",
      "epoch: 75000, training loss: 0.13004505280190887, testing loss: 0.10049128696228106\n",
      "epoch: 76000, training loss: 0.12726318093402453, testing loss: 0.0958654164321397\n",
      "epoch: 77000, training loss: 0.14145809878235402, testing loss: 0.09864867869076929\n",
      "epoch: 78000, training loss: 0.12134878088488815, testing loss: 0.08788489885606858\n",
      "epoch: 79000, training loss: 0.1313259200568222, testing loss: 0.09021090505059737\n",
      "epoch: 80000, training loss: 0.1229726956849188, testing loss: 0.09160079140986672\n",
      "epoch: 81000, training loss: 0.14275095033799368, testing loss: 0.10659489689886097\n",
      "epoch: 82000, training loss: 0.13571988976277247, testing loss: 0.10172157592226494\n",
      "epoch: 83000, training loss: 0.1336207723750311, testing loss: 0.0911087136542706\n",
      "epoch: 84000, training loss: 0.1315516863133897, testing loss: 0.11057737823836708\n",
      "epoch: 85000, training loss: 0.125573399153195, testing loss: 0.09897443097020835\n",
      "epoch: 86000, training loss: 0.13470245863027408, testing loss: 0.10164219306365167\n",
      "epoch: 87000, training loss: 0.1216409499209871, testing loss: 0.09478963163366727\n",
      "epoch: 88000, training loss: 0.13973531788090607, testing loss: 0.10105393397658205\n",
      "epoch: 89000, training loss: 0.12737206228976752, testing loss: 0.0922881526522885\n",
      "epoch: 90000, training loss: 0.12705392975647897, testing loss: 0.09753626832459418\n",
      "epoch: 91000, training loss: 0.13364605723327333, testing loss: 0.0994528756996643\n",
      "epoch: 92000, training loss: 0.1281068642729394, testing loss: 0.10342410689621413\n",
      "epoch: 93000, training loss: 0.12520027574898912, testing loss: 0.09827635884235554\n",
      "epoch: 94000, training loss: 0.12308035159364254, testing loss: 0.09415970314356298\n",
      "epoch: 95000, training loss: 0.12418042837273983, testing loss: 0.09463130528130588\n",
      "epoch: 96000, training loss: 0.12922806866590827, testing loss: 0.1024272571531354\n",
      "epoch: 97000, training loss: 0.12163587463066691, testing loss: 0.094630144285615\n",
      "epoch: 98000, training loss: 0.1253336461151238, testing loss: 0.10045148971682462\n",
      "epoch: 99000, training loss: 0.13634917464947152, testing loss: 0.10492080712250976\n"
     ]
    }
   ],
   "source": [
    "n_epochs = 400000\n",
    "\n",
    "# train loop\n",
    "steps = []\n",
    "train_losses = []\n",
    "test_losses = []\n",
    "\n",
    "for epoch in range(n_epochs):\n",
    "    loss, grad, train_state = train_step(train_state, state_train, inputs_train, target_train)\n",
    "    if epoch % 1000 == 0:\n",
    "        test_loss = test_step(train_state, state_test, inputs_test, target_test)\n",
    "        print(f\"epoch: {epoch}, training loss: {loss}, testing loss: {test_loss}\")\n",
    "    \n",
    "    # save for plot\n",
    "    steps.append(epoch)\n",
    "    train_losses.append(loss)\n",
    "    test_losses.append(test_loss)\n"
   ]
  },
  {
   "cell_type": "code",
   "execution_count": 180,
   "metadata": {},
   "outputs": [
    {
     "data": {
      "image/png": "[encoded data removed]",
      "text/plain": [
       "<Figure size 640x480 with 1 Axes>"
      ]
     },
     "metadata": {},
     "output_type": "display_data"
    }
   ],
   "source": [
    "# plot loss\n",
    "result_folder = f'./models/m2-neural-ode/ph={n_futures}/'\n",
    "plt.figure()\n",
    "plt.plot(steps, train_losses, label=f\"train: {train_losses[-1]:.2f}\")\n",
    "plt.plot(steps, test_losses, label=f\"test: {test_losses[-1]:.2f}\")\n",
    "#plt.ylim([0, 10])\n",
    "plt.legend()\n",
    "plt.savefig(result_folder + \"loss.png\")"
   ]
  },
  {
   "cell_type": "code",
   "execution_count": 181,
   "metadata": {},
   "outputs": [],
   "source": [
    "y_pred = vmodel.apply(train_state.params, state_train, inputs_train)\n",
    "y_pred_test = vmodel.apply(train_state.params, state_test, inputs_test)"
   ]
  },
  {
   "cell_type": "code",
   "execution_count": 182,
   "metadata": {},
   "outputs": [
    {
     "data": {
      "text/plain": [
       "(931, 4, 1)"
      ]
     },
     "execution_count": 182,
     "metadata": {},
     "output_type": "execute_result"
    }
   ],
   "source": [
    "y_pred.shape"
   ]
  },
  {
   "cell_type": "code",
   "execution_count": 183,
   "metadata": {},
   "outputs": [
    {
     "data": {
      "text/plain": [
       "<matplotlib.legend.Legend at 0x7fc4e0345d90>"
      ]
     },
     "execution_count": 183,
     "metadata": {},
     "output_type": "execute_result"
    },
    {
     "data": {
      "image/png": "[encoded data removed]",
      "text/plain": [
       "<Figure size 1200x600 with 1 Axes>"
      ]
     },
     "metadata": {},
     "output_type": "display_data"
    }
   ],
   "source": [
    "plt.figure(figsize=(12,6))\n",
    "plt.plot(target_train[:,0], label='target')\n",
    "plt.plot(y_pred[:,0], label='pred')\n",
    "plt.legend()"
   ]
  },
  {
   "cell_type": "code",
   "execution_count": 184,
   "metadata": {},
   "outputs": [
    {
     "data": {
      "text/plain": [
       "<matplotlib.legend.Legend at 0x7fc4e8437160>"
      ]
     },
     "execution_count": 184,
     "metadata": {},
     "output_type": "execute_result"
    },
    {
     "data": {
      "image/png": "[encoded data removed]",
      "text/plain": [
       "<Figure size 1200x600 with 1 Axes>"
      ]
     },
     "metadata": {},
     "output_type": "display_data"
    }
   ],
   "source": [
    "plt.figure(figsize=(12,6))\n",
    "plt.plot(target_test[:,3], label='target')\n",
    "plt.plot(y_pred_test[:,3], label='pred')\n",
    "plt.legend()"
   ]
  },
  {
   "cell_type": "markdown",
   "metadata": {},
   "source": [
    "## Physics-Consistent Check\n",
    "\n",
    "How to know if the learned model follows general physics? \n",
    "- the derivative of room temp with respect to the HVAC energy rate should be positive. The more heat injected to the room, the higher the room temperature."
   ]
  },
  {
   "cell_type": "code",
   "execution_count": 185,
   "metadata": {},
   "outputs": [],
   "source": [
    "# state: (B, Nx)\n",
    "# inputs: (B, T, Ni)\n",
    "state_fake = state_train[[100], ::]\n",
    "inputs_fake = inputs_train[[100], ::]\n"
   ]
  },
  {
   "cell_type": "code",
   "execution_count": 186,
   "metadata": {},
   "outputs": [
    {
     "data": {
      "text/plain": [
       "((1, 1), (1, 4, 7))"
      ]
     },
     "execution_count": 186,
     "metadata": {},
     "output_type": "execute_result"
    }
   ],
   "source": [
    "state_fake.shape, inputs_fake.shape"
   ]
  },
  {
   "cell_type": "code",
   "execution_count": 187,
   "metadata": {},
   "outputs": [
    {
     "data": {
      "text/plain": [
       "array([[0.93333333, 9.33333333, 0.        , 9.33333333]])"
      ]
     },
     "execution_count": 187,
     "metadata": {},
     "output_type": "execute_result"
    }
   ],
   "source": [
    "inputs_fake[:, :, -1]"
   ]
  },
  {
   "cell_type": "code",
   "execution_count": 188,
   "metadata": {},
   "outputs": [
    {
     "data": {
      "text/plain": [
       "((20, 4, 1), (20, 4, 6))"
      ]
     },
     "execution_count": 188,
     "metadata": {},
     "output_type": "execute_result"
    }
   ],
   "source": [
    "#create 10 different points: 0-10 kW\n",
    "q_hvac = np.array([i for i in range(-10, 10)])\n",
    "n_points = len(q_hvac)\n",
    "\n",
    "others = np.tile(inputs_fake[:,:,:-1], reps=(n_points, 1, 1))\n",
    "q_hvac = q_hvac.reshape(-1,1)[:, np.newaxis, :]\n",
    "q_hvac = np.tile(q_hvac, reps=(1, inputs_fake.shape[1], 1))\n",
    "q_hvac.shape, others.shape"
   ]
  },
  {
   "cell_type": "code",
   "execution_count": 189,
   "metadata": {},
   "outputs": [
    {
     "data": {
      "text/plain": [
       "((20, 1), (20, 4, 7))"
      ]
     },
     "execution_count": 189,
     "metadata": {},
     "output_type": "execute_result"
    }
   ],
   "source": [
    "state = np.tile(state_fake, reps=(n_points, 1))\n",
    "inputs = np.concatenate([others, q_hvac], axis=-1)\n",
    "state.shape, inputs.shape"
   ]
  },
  {
   "cell_type": "code",
   "execution_count": 190,
   "metadata": {},
   "outputs": [
    {
     "data": {
      "text/plain": [
       "(20, 4, 1)"
      ]
     },
     "execution_count": 190,
     "metadata": {},
     "output_type": "execute_result"
    }
   ],
   "source": [
    "y_pred = vmodel.apply(train_state.params, state, inputs)\n",
    "y_pred.shape"
   ]
  },
  {
   "cell_type": "code",
   "execution_count": 191,
   "metadata": {},
   "outputs": [
    {
     "data": {
      "image/png": "[encoded data removed]",
      "text/plain": [
       "<Figure size 640x480 with 1 Axes>"
      ]
     },
     "metadata": {},
     "output_type": "display_data"
    }
   ],
   "source": [
    "time = 0\n",
    "\n",
    "plt.figure()\n",
    "plt.plot(q_hvac[:, time, :], y_pred[:, time, :], label='predicted') #\n",
    "plt.plot(q_hvac[:, time, :], state, label='previous temp') # previous temperature\n",
    "plt.legend()\n",
    "plt.grid()\n",
    "plt.xlabel('q_hvac [kW]')\n",
    "plt.ylabel('zone temp [C]')\n",
    "plt.savefig(result_folder + \"physics-consistency.png\")"
   ]
  },
  {
   "cell_type": "code",
   "execution_count": 192,
   "metadata": {},
   "outputs": [
    {
     "data": {
      "text/plain": [
       "(20, 4, 1)"
      ]
     },
     "execution_count": 192,
     "metadata": {},
     "output_type": "execute_result"
    }
   ],
   "source": [
    "q_hvac.shape"
   ]
  },
  {
   "cell_type": "code",
   "execution_count": 193,
   "metadata": {},
   "outputs": [
    {
     "data": {
      "text/plain": [
       "array([[[ -0.88788522,   0.46006504,   0.        ,   1.        ,\n",
       "           2.11111111,   0.        , -10.        ],\n",
       "        [ -0.88788522,   0.46006504,   0.        ,   1.        ,\n",
       "           1.69444444,   0.        , -10.        ],\n",
       "        [ -0.88788522,   0.46006504,   0.        ,   1.        ,\n",
       "           1.27777778,   0.        , -10.        ],\n",
       "        [ -0.73083596,   0.68255314,   0.        ,   1.        ,\n",
       "           0.78333333,   0.        , -10.        ]],\n",
       "\n",
       "       [[ -0.88788522,   0.46006504,   0.        ,   1.        ,\n",
       "           2.11111111,   0.        ,  -9.        ],\n",
       "        [ -0.88788522,   0.46006504,   0.        ,   1.        ,\n",
       "           1.69444444,   0.        ,  -9.        ],\n",
       "        [ -0.88788522,   0.46006504,   0.        ,   1.        ,\n",
       "           1.27777778,   0.        ,  -9.        ],\n",
       "        [ -0.73083596,   0.68255314,   0.        ,   1.        ,\n",
       "           0.78333333,   0.        ,  -9.        ]],\n",
       "\n",
       "       [[ -0.88788522,   0.46006504,   0.        ,   1.        ,\n",
       "           2.11111111,   0.        ,  -8.        ],\n",
       "        [ -0.88788522,   0.46006504,   0.        ,   1.        ,\n",
       "           1.69444444,   0.        ,  -8.        ],\n",
       "        [ -0.88788522,   0.46006504,   0.        ,   1.        ,\n",
       "           1.27777778,   0.        ,  -8.        ],\n",
       "        [ -0.73083596,   0.68255314,   0.        ,   1.        ,\n",
       "           0.78333333,   0.        ,  -8.        ]],\n",
       "\n",
       "       [[ -0.88788522,   0.46006504,   0.        ,   1.        ,\n",
       "           2.11111111,   0.        ,  -7.        ],\n",
       "        [ -0.88788522,   0.46006504,   0.        ,   1.        ,\n",
       "           1.69444444,   0.        ,  -7.        ],\n",
       "        [ -0.88788522,   0.46006504,   0.        ,   1.        ,\n",
       "           1.27777778,   0.        ,  -7.        ],\n",
       "        [ -0.73083596,   0.68255314,   0.        ,   1.        ,\n",
       "           0.78333333,   0.        ,  -7.        ]],\n",
       "\n",
       "       [[ -0.88788522,   0.46006504,   0.        ,   1.        ,\n",
       "           2.11111111,   0.        ,  -6.        ],\n",
       "        [ -0.88788522,   0.46006504,   0.        ,   1.        ,\n",
       "           1.69444444,   0.        ,  -6.        ],\n",
       "        [ -0.88788522,   0.46006504,   0.        ,   1.        ,\n",
       "           1.27777778,   0.        ,  -6.        ],\n",
       "        [ -0.73083596,   0.68255314,   0.        ,   1.        ,\n",
       "           0.78333333,   0.        ,  -6.        ]],\n",
       "\n",
       "       [[ -0.88788522,   0.46006504,   0.        ,   1.        ,\n",
       "           2.11111111,   0.        ,  -5.        ],\n",
       "        [ -0.88788522,   0.46006504,   0.        ,   1.        ,\n",
       "           1.69444444,   0.        ,  -5.        ],\n",
       "        [ -0.88788522,   0.46006504,   0.        ,   1.        ,\n",
       "           1.27777778,   0.        ,  -5.        ],\n",
       "        [ -0.73083596,   0.68255314,   0.        ,   1.        ,\n",
       "           0.78333333,   0.        ,  -5.        ]],\n",
       "\n",
       "       [[ -0.88788522,   0.46006504,   0.        ,   1.        ,\n",
       "           2.11111111,   0.        ,  -4.        ],\n",
       "        [ -0.88788522,   0.46006504,   0.        ,   1.        ,\n",
       "           1.69444444,   0.        ,  -4.        ],\n",
       "        [ -0.88788522,   0.46006504,   0.        ,   1.        ,\n",
       "           1.27777778,   0.        ,  -4.        ],\n",
       "        [ -0.73083596,   0.68255314,   0.        ,   1.        ,\n",
       "           0.78333333,   0.        ,  -4.        ]],\n",
       "\n",
       "       [[ -0.88788522,   0.46006504,   0.        ,   1.        ,\n",
       "           2.11111111,   0.        ,  -3.        ],\n",
       "        [ -0.88788522,   0.46006504,   0.        ,   1.        ,\n",
       "           1.69444444,   0.        ,  -3.        ],\n",
       "        [ -0.88788522,   0.46006504,   0.        ,   1.        ,\n",
       "           1.27777778,   0.        ,  -3.        ],\n",
       "        [ -0.73083596,   0.68255314,   0.        ,   1.        ,\n",
       "           0.78333333,   0.        ,  -3.        ]],\n",
       "\n",
       "       [[ -0.88788522,   0.46006504,   0.        ,   1.        ,\n",
       "           2.11111111,   0.        ,  -2.        ],\n",
       "        [ -0.88788522,   0.46006504,   0.        ,   1.        ,\n",
       "           1.69444444,   0.        ,  -2.        ],\n",
       "        [ -0.88788522,   0.46006504,   0.        ,   1.        ,\n",
       "           1.27777778,   0.        ,  -2.        ],\n",
       "        [ -0.73083596,   0.68255314,   0.        ,   1.        ,\n",
       "           0.78333333,   0.        ,  -2.        ]],\n",
       "\n",
       "       [[ -0.88788522,   0.46006504,   0.        ,   1.        ,\n",
       "           2.11111111,   0.        ,  -1.        ],\n",
       "        [ -0.88788522,   0.46006504,   0.        ,   1.        ,\n",
       "           1.69444444,   0.        ,  -1.        ],\n",
       "        [ -0.88788522,   0.46006504,   0.        ,   1.        ,\n",
       "           1.27777778,   0.        ,  -1.        ],\n",
       "        [ -0.73083596,   0.68255314,   0.        ,   1.        ,\n",
       "           0.78333333,   0.        ,  -1.        ]],\n",
       "\n",
       "       [[ -0.88788522,   0.46006504,   0.        ,   1.        ,\n",
       "           2.11111111,   0.        ,   0.        ],\n",
       "        [ -0.88788522,   0.46006504,   0.        ,   1.        ,\n",
       "           1.69444444,   0.        ,   0.        ],\n",
       "        [ -0.88788522,   0.46006504,   0.        ,   1.        ,\n",
       "           1.27777778,   0.        ,   0.        ],\n",
       "        [ -0.73083596,   0.68255314,   0.        ,   1.        ,\n",
       "           0.78333333,   0.        ,   0.        ]],\n",
       "\n",
       "       [[ -0.88788522,   0.46006504,   0.        ,   1.        ,\n",
       "           2.11111111,   0.        ,   1.        ],\n",
       "        [ -0.88788522,   0.46006504,   0.        ,   1.        ,\n",
       "           1.69444444,   0.        ,   1.        ],\n",
       "        [ -0.88788522,   0.46006504,   0.        ,   1.        ,\n",
       "           1.27777778,   0.        ,   1.        ],\n",
       "        [ -0.73083596,   0.68255314,   0.        ,   1.        ,\n",
       "           0.78333333,   0.        ,   1.        ]],\n",
       "\n",
       "       [[ -0.88788522,   0.46006504,   0.        ,   1.        ,\n",
       "           2.11111111,   0.        ,   2.        ],\n",
       "        [ -0.88788522,   0.46006504,   0.        ,   1.        ,\n",
       "           1.69444444,   0.        ,   2.        ],\n",
       "        [ -0.88788522,   0.46006504,   0.        ,   1.        ,\n",
       "           1.27777778,   0.        ,   2.        ],\n",
       "        [ -0.73083596,   0.68255314,   0.        ,   1.        ,\n",
       "           0.78333333,   0.        ,   2.        ]],\n",
       "\n",
       "       [[ -0.88788522,   0.46006504,   0.        ,   1.        ,\n",
       "           2.11111111,   0.        ,   3.        ],\n",
       "        [ -0.88788522,   0.46006504,   0.        ,   1.        ,\n",
       "           1.69444444,   0.        ,   3.        ],\n",
       "        [ -0.88788522,   0.46006504,   0.        ,   1.        ,\n",
       "           1.27777778,   0.        ,   3.        ],\n",
       "        [ -0.73083596,   0.68255314,   0.        ,   1.        ,\n",
       "           0.78333333,   0.        ,   3.        ]],\n",
       "\n",
       "       [[ -0.88788522,   0.46006504,   0.        ,   1.        ,\n",
       "           2.11111111,   0.        ,   4.        ],\n",
       "        [ -0.88788522,   0.46006504,   0.        ,   1.        ,\n",
       "           1.69444444,   0.        ,   4.        ],\n",
       "        [ -0.88788522,   0.46006504,   0.        ,   1.        ,\n",
       "           1.27777778,   0.        ,   4.        ],\n",
       "        [ -0.73083596,   0.68255314,   0.        ,   1.        ,\n",
       "           0.78333333,   0.        ,   4.        ]],\n",
       "\n",
       "       [[ -0.88788522,   0.46006504,   0.        ,   1.        ,\n",
       "           2.11111111,   0.        ,   5.        ],\n",
       "        [ -0.88788522,   0.46006504,   0.        ,   1.        ,\n",
       "           1.69444444,   0.        ,   5.        ],\n",
       "        [ -0.88788522,   0.46006504,   0.        ,   1.        ,\n",
       "           1.27777778,   0.        ,   5.        ],\n",
       "        [ -0.73083596,   0.68255314,   0.        ,   1.        ,\n",
       "           0.78333333,   0.        ,   5.        ]],\n",
       "\n",
       "       [[ -0.88788522,   0.46006504,   0.        ,   1.        ,\n",
       "           2.11111111,   0.        ,   6.        ],\n",
       "        [ -0.88788522,   0.46006504,   0.        ,   1.        ,\n",
       "           1.69444444,   0.        ,   6.        ],\n",
       "        [ -0.88788522,   0.46006504,   0.        ,   1.        ,\n",
       "           1.27777778,   0.        ,   6.        ],\n",
       "        [ -0.73083596,   0.68255314,   0.        ,   1.        ,\n",
       "           0.78333333,   0.        ,   6.        ]],\n",
       "\n",
       "       [[ -0.88788522,   0.46006504,   0.        ,   1.        ,\n",
       "           2.11111111,   0.        ,   7.        ],\n",
       "        [ -0.88788522,   0.46006504,   0.        ,   1.        ,\n",
       "           1.69444444,   0.        ,   7.        ],\n",
       "        [ -0.88788522,   0.46006504,   0.        ,   1.        ,\n",
       "           1.27777778,   0.        ,   7.        ],\n",
       "        [ -0.73083596,   0.68255314,   0.        ,   1.        ,\n",
       "           0.78333333,   0.        ,   7.        ]],\n",
       "\n",
       "       [[ -0.88788522,   0.46006504,   0.        ,   1.        ,\n",
       "           2.11111111,   0.        ,   8.        ],\n",
       "        [ -0.88788522,   0.46006504,   0.        ,   1.        ,\n",
       "           1.69444444,   0.        ,   8.        ],\n",
       "        [ -0.88788522,   0.46006504,   0.        ,   1.        ,\n",
       "           1.27777778,   0.        ,   8.        ],\n",
       "        [ -0.73083596,   0.68255314,   0.        ,   1.        ,\n",
       "           0.78333333,   0.        ,   8.        ]],\n",
       "\n",
       "       [[ -0.88788522,   0.46006504,   0.        ,   1.        ,\n",
       "           2.11111111,   0.        ,   9.        ],\n",
       "        [ -0.88788522,   0.46006504,   0.        ,   1.        ,\n",
       "           1.69444444,   0.        ,   9.        ],\n",
       "        [ -0.88788522,   0.46006504,   0.        ,   1.        ,\n",
       "           1.27777778,   0.        ,   9.        ],\n",
       "        [ -0.73083596,   0.68255314,   0.        ,   1.        ,\n",
       "           0.78333333,   0.        ,   9.        ]]])"
      ]
     },
     "execution_count": 193,
     "metadata": {},
     "output_type": "execute_result"
    }
   ],
   "source": [
    "inputs"
   ]
  }
 ],
 "metadata": {
  "kernelspec": {
   "display_name": "base",
   "language": "python",
   "name": "python3"
  },
  "language_info": {
   "codemirror_mode": {
    "name": "ipython",
    "version": 3
   },
   "file_extension": ".py",
   "mimetype": "text/x-python",
   "name": "python",
   "nbconvert_exporter": "python",
   "pygments_lexer": "ipython3",
   "version": "3.10.13"
  }
 },
 "nbformat": 4,
 "nbformat_minor": 2
}
