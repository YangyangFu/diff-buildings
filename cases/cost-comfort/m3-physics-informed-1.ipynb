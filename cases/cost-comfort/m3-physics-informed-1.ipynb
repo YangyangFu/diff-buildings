{
 "cells": [
  {
   "cell_type": "markdown",
   "metadata": {},
   "source": [
    "# Zone Temperature Dynamical Model\n",
    "\n",
    "Goals:\n",
    "- investigate different physics-informed dynamical models for zone temperature prediction\n",
    "- thermal dynamics should be captured"
   ]
  },
  {
   "cell_type": "code",
   "execution_count": 1,
   "metadata": {},
   "outputs": [],
   "source": [
    "from jax import config \n",
    "config.update(\"jax_debug_nans\", False)\n",
    "import matplotlib\n",
    "#matplotlib.use('Agg')\n",
    "import matplotlib.pyplot as plt\n",
    "import numpy as np\n",
    "\n",
    "import jax \n",
    "import jax.numpy as jnp \n",
    "import flax.linen as nn\n",
    "import optax \n",
    "import pandas as pd \n",
    "\n",
    "from dynax.core.base_block_state_space import BaseContinuousBlockSSM\n",
    "from dynax.simulators.simulator import DifferentiableSimulator\n",
    "from dynax.trainer.train_state import TrainState"
   ]
  },
  {
   "cell_type": "markdown",
   "metadata": {},
   "source": [
    "## 0. Data and DataLoader\n",
    "- EP data with prototypical building model\n",
    "- Real data from Lennox thermostat data"
   ]
  },
  {
   "cell_type": "code",
   "execution_count": 2,
   "metadata": {},
   "outputs": [
    {
     "data": {
      "text/plain": [
       "\"\\nimport pandas as pd \\n\\ndates = ['01-'+str(i)+'-18' for i in range(14, 28)]\\ndata = pd.read_excel('./data/real-world-data.xls', sheet_name=dates, header=3)\\n\\ncombined_data = pd.DataFrame()\\nfor key in data.keys():\\n    combined_data = pd.concat([combined_data, data[key]], axis=0, ignore_index=True)\\n\\ncombined_data.to_csv('./data/real-world-data.csv')\\n\""
      ]
     },
     "execution_count": 2,
     "metadata": {},
     "output_type": "execute_result"
    }
   ],
   "source": [
    "\"\"\"\n",
    "import pandas as pd \n",
    "\n",
    "dates = ['01-'+str(i)+'-18' for i in range(14, 28)]\n",
    "data = pd.read_excel('./data/real-world-data.xls', sheet_name=dates, header=3)\n",
    "\n",
    "combined_data = pd.DataFrame()\n",
    "for key in data.keys():\n",
    "    combined_data = pd.concat([combined_data, data[key]], axis=0, ignore_index=True)\n",
    "\n",
    "combined_data.to_csv('./data/real-world-data.csv')\n",
    "\"\"\""
   ]
  },
  {
   "cell_type": "code",
   "execution_count": 3,
   "metadata": {},
   "outputs": [],
   "source": [
    "data = pd.read_csv('./data/real-world-data.csv')\n",
    "\n",
    "columns_mapper = {'LocalTime':'time', 'tabtsense0':'temp_zone', 'SP_cool':'csp', 'SP_heat':'hsp', 'CoolDemand':'qcool', 'HeatDemand':'qheat', 'humidityindoor_0':'rh_zone', 'oupresentcompressorfreq':'freq', 'iuairflowrate':'cfm', 'surf_tempf':'temp_out', 'rad':'qsol'}\n",
    "\n",
    "data = data[columns_mapper.keys()].rename(columns = columns_mapper)\n",
    "data.index = pd.DatetimeIndex(data['time'], freq='1min')\n",
    "data = data.drop(columns=['time'])\n"
   ]
  },
  {
   "cell_type": "code",
   "execution_count": 4,
   "metadata": {},
   "outputs": [
    {
     "data": {
      "text/html": [
       "<div>\n",
       "<style scoped>\n",
       "    .dataframe tbody tr th:only-of-type {\n",
       "        vertical-align: middle;\n",
       "    }\n",
       "\n",
       "    .dataframe tbody tr th {\n",
       "        vertical-align: top;\n",
       "    }\n",
       "\n",
       "    .dataframe thead th {\n",
       "        text-align: right;\n",
       "    }\n",
       "</style>\n",
       "<table border=\"1\" class=\"dataframe\">\n",
       "  <thead>\n",
       "    <tr style=\"text-align: right;\">\n",
       "      <th></th>\n",
       "      <th>temp_zone</th>\n",
       "      <th>csp</th>\n",
       "      <th>hsp</th>\n",
       "      <th>qcool</th>\n",
       "      <th>qheat</th>\n",
       "      <th>rh_zone</th>\n",
       "      <th>freq</th>\n",
       "      <th>cfm</th>\n",
       "      <th>temp_out</th>\n",
       "      <th>qsol</th>\n",
       "    </tr>\n",
       "    <tr>\n",
       "      <th>time</th>\n",
       "      <th></th>\n",
       "      <th></th>\n",
       "      <th></th>\n",
       "      <th></th>\n",
       "      <th></th>\n",
       "      <th></th>\n",
       "      <th></th>\n",
       "      <th></th>\n",
       "      <th></th>\n",
       "      <th></th>\n",
       "    </tr>\n",
       "  </thead>\n",
       "  <tbody>\n",
       "    <tr>\n",
       "      <th>2018-01-14 18:01:00</th>\n",
       "      <td>69.6</td>\n",
       "      <td>77</td>\n",
       "      <td>70</td>\n",
       "      <td>0</td>\n",
       "      <td>100</td>\n",
       "      <td>35.5</td>\n",
       "      <td>NaN</td>\n",
       "      <td>0</td>\n",
       "      <td>41.531667</td>\n",
       "      <td>0.0</td>\n",
       "    </tr>\n",
       "    <tr>\n",
       "      <th>2018-01-14 18:02:00</th>\n",
       "      <td>69.5</td>\n",
       "      <td>77</td>\n",
       "      <td>70</td>\n",
       "      <td>0</td>\n",
       "      <td>100</td>\n",
       "      <td>36.0</td>\n",
       "      <td>NaN</td>\n",
       "      <td>0</td>\n",
       "      <td>41.563333</td>\n",
       "      <td>0.0</td>\n",
       "    </tr>\n",
       "    <tr>\n",
       "      <th>2018-01-14 18:03:00</th>\n",
       "      <td>69.5</td>\n",
       "      <td>77</td>\n",
       "      <td>70</td>\n",
       "      <td>0</td>\n",
       "      <td>100</td>\n",
       "      <td>36.0</td>\n",
       "      <td>NaN</td>\n",
       "      <td>0</td>\n",
       "      <td>41.595000</td>\n",
       "      <td>0.0</td>\n",
       "    </tr>\n",
       "    <tr>\n",
       "      <th>2018-01-14 18:04:00</th>\n",
       "      <td>69.6</td>\n",
       "      <td>77</td>\n",
       "      <td>70</td>\n",
       "      <td>0</td>\n",
       "      <td>100</td>\n",
       "      <td>36.0</td>\n",
       "      <td>NaN</td>\n",
       "      <td>0</td>\n",
       "      <td>41.626667</td>\n",
       "      <td>0.0</td>\n",
       "    </tr>\n",
       "    <tr>\n",
       "      <th>2018-01-14 18:05:00</th>\n",
       "      <td>69.6</td>\n",
       "      <td>77</td>\n",
       "      <td>70</td>\n",
       "      <td>0</td>\n",
       "      <td>100</td>\n",
       "      <td>36.0</td>\n",
       "      <td>NaN</td>\n",
       "      <td>0</td>\n",
       "      <td>41.658333</td>\n",
       "      <td>0.0</td>\n",
       "    </tr>\n",
       "  </tbody>\n",
       "</table>\n",
       "</div>"
      ],
      "text/plain": [
       "                     temp_zone  csp  hsp  qcool  qheat  rh_zone  freq  cfm  \\\n",
       "time                                                                         \n",
       "2018-01-14 18:01:00       69.6   77   70      0    100     35.5   NaN    0   \n",
       "2018-01-14 18:02:00       69.5   77   70      0    100     36.0   NaN    0   \n",
       "2018-01-14 18:03:00       69.5   77   70      0    100     36.0   NaN    0   \n",
       "2018-01-14 18:04:00       69.6   77   70      0    100     36.0   NaN    0   \n",
       "2018-01-14 18:05:00       69.6   77   70      0    100     36.0   NaN    0   \n",
       "\n",
       "                      temp_out  qsol  \n",
       "time                                  \n",
       "2018-01-14 18:01:00  41.531667   0.0  \n",
       "2018-01-14 18:02:00  41.563333   0.0  \n",
       "2018-01-14 18:03:00  41.595000   0.0  \n",
       "2018-01-14 18:04:00  41.626667   0.0  \n",
       "2018-01-14 18:05:00  41.658333   0.0  "
      ]
     },
     "execution_count": 4,
     "metadata": {},
     "output_type": "execute_result"
    }
   ],
   "source": [
    "data.head()"
   ]
  },
  {
   "cell_type": "markdown",
   "metadata": {},
   "source": [
    "This data is from Rohini's house, which has a Lennox thermostat but Carrier unit. Thus the equipment info are basically not available. \n",
    "- assume nominal heating capacity is 4 ton (e.g., 14 kW)"
   ]
  },
  {
   "cell_type": "code",
   "execution_count": 5,
   "metadata": {},
   "outputs": [],
   "source": [
    "# change IP unit to SI\n",
    "# F to C\n",
    "data[['temp_zone', 'csp', 'hsp', 'temp_out']] =  5./9*(data[['temp_zone', 'csp', 'hsp', 'temp_out']] - 32)\n",
    "# W to kW\n",
    "data['qsol'] /= 1000.\n",
    "# percentage to kW\n",
    "data[['qcool', 'qheat']] *= 14./100.\n",
    "\n",
    "data['qhvac'] = -1*data['qcool'] + data['qheat']"
   ]
  },
  {
   "cell_type": "code",
   "execution_count": 6,
   "metadata": {},
   "outputs": [
    {
     "data": {
      "text/html": [
       "<div>\n",
       "<style scoped>\n",
       "    .dataframe tbody tr th:only-of-type {\n",
       "        vertical-align: middle;\n",
       "    }\n",
       "\n",
       "    .dataframe tbody tr th {\n",
       "        vertical-align: top;\n",
       "    }\n",
       "\n",
       "    .dataframe thead th {\n",
       "        text-align: right;\n",
       "    }\n",
       "</style>\n",
       "<table border=\"1\" class=\"dataframe\">\n",
       "  <thead>\n",
       "    <tr style=\"text-align: right;\">\n",
       "      <th></th>\n",
       "      <th>temp_zone</th>\n",
       "      <th>csp</th>\n",
       "      <th>hsp</th>\n",
       "      <th>qcool</th>\n",
       "      <th>qheat</th>\n",
       "      <th>rh_zone</th>\n",
       "      <th>freq</th>\n",
       "      <th>cfm</th>\n",
       "      <th>temp_out</th>\n",
       "      <th>qsol</th>\n",
       "      <th>qhvac</th>\n",
       "    </tr>\n",
       "    <tr>\n",
       "      <th>time</th>\n",
       "      <th></th>\n",
       "      <th></th>\n",
       "      <th></th>\n",
       "      <th></th>\n",
       "      <th></th>\n",
       "      <th></th>\n",
       "      <th></th>\n",
       "      <th></th>\n",
       "      <th></th>\n",
       "      <th></th>\n",
       "      <th></th>\n",
       "    </tr>\n",
       "  </thead>\n",
       "  <tbody>\n",
       "    <tr>\n",
       "      <th>2018-01-14 18:00:00</th>\n",
       "      <td>21.206349</td>\n",
       "      <td>25.0</td>\n",
       "      <td>21.111111</td>\n",
       "      <td>0.0</td>\n",
       "      <td>7.0</td>\n",
       "      <td>35.178571</td>\n",
       "      <td>NaN</td>\n",
       "      <td>0.0</td>\n",
       "      <td>5.409722</td>\n",
       "      <td>0.0</td>\n",
       "      <td>7.0</td>\n",
       "    </tr>\n",
       "    <tr>\n",
       "      <th>2018-01-14 18:15:00</th>\n",
       "      <td>21.618519</td>\n",
       "      <td>25.0</td>\n",
       "      <td>21.111111</td>\n",
       "      <td>0.0</td>\n",
       "      <td>0.0</td>\n",
       "      <td>33.733333</td>\n",
       "      <td>NaN</td>\n",
       "      <td>0.0</td>\n",
       "      <td>5.664815</td>\n",
       "      <td>0.0</td>\n",
       "      <td>0.0</td>\n",
       "    </tr>\n",
       "    <tr>\n",
       "      <th>2018-01-14 18:30:00</th>\n",
       "      <td>21.329630</td>\n",
       "      <td>25.0</td>\n",
       "      <td>21.111111</td>\n",
       "      <td>0.0</td>\n",
       "      <td>0.0</td>\n",
       "      <td>35.333333</td>\n",
       "      <td>NaN</td>\n",
       "      <td>0.0</td>\n",
       "      <td>5.928704</td>\n",
       "      <td>0.0</td>\n",
       "      <td>0.0</td>\n",
       "    </tr>\n",
       "    <tr>\n",
       "      <th>2018-01-14 18:45:00</th>\n",
       "      <td>21.125926</td>\n",
       "      <td>25.0</td>\n",
       "      <td>21.111111</td>\n",
       "      <td>0.0</td>\n",
       "      <td>0.0</td>\n",
       "      <td>36.000000</td>\n",
       "      <td>NaN</td>\n",
       "      <td>0.0</td>\n",
       "      <td>6.192593</td>\n",
       "      <td>0.0</td>\n",
       "      <td>0.0</td>\n",
       "    </tr>\n",
       "    <tr>\n",
       "      <th>2018-01-14 19:00:00</th>\n",
       "      <td>21.118519</td>\n",
       "      <td>25.0</td>\n",
       "      <td>21.111111</td>\n",
       "      <td>0.0</td>\n",
       "      <td>0.0</td>\n",
       "      <td>36.333333</td>\n",
       "      <td>NaN</td>\n",
       "      <td>0.0</td>\n",
       "      <td>6.268519</td>\n",
       "      <td>0.0</td>\n",
       "      <td>0.0</td>\n",
       "    </tr>\n",
       "  </tbody>\n",
       "</table>\n",
       "</div>"
      ],
      "text/plain": [
       "                     temp_zone   csp        hsp  qcool  qheat    rh_zone  \\\n",
       "time                                                                       \n",
       "2018-01-14 18:00:00  21.206349  25.0  21.111111    0.0    7.0  35.178571   \n",
       "2018-01-14 18:15:00  21.618519  25.0  21.111111    0.0    0.0  33.733333   \n",
       "2018-01-14 18:30:00  21.329630  25.0  21.111111    0.0    0.0  35.333333   \n",
       "2018-01-14 18:45:00  21.125926  25.0  21.111111    0.0    0.0  36.000000   \n",
       "2018-01-14 19:00:00  21.118519  25.0  21.111111    0.0    0.0  36.333333   \n",
       "\n",
       "                     freq  cfm  temp_out  qsol  qhvac  \n",
       "time                                                   \n",
       "2018-01-14 18:00:00   NaN  0.0  5.409722   0.0    7.0  \n",
       "2018-01-14 18:15:00   NaN  0.0  5.664815   0.0    0.0  \n",
       "2018-01-14 18:30:00   NaN  0.0  5.928704   0.0    0.0  \n",
       "2018-01-14 18:45:00   NaN  0.0  6.192593   0.0    0.0  \n",
       "2018-01-14 19:00:00   NaN  0.0  6.268519   0.0    0.0  "
      ]
     },
     "execution_count": 6,
     "metadata": {},
     "output_type": "execute_result"
    }
   ],
   "source": [
    "# resampel to 15min \n",
    "data = data.resample('15min').mean()\n",
    "data.head()"
   ]
  },
  {
   "cell_type": "code",
   "execution_count": 7,
   "metadata": {},
   "outputs": [],
   "source": [
    "# time features\n",
    "def add_time_features(data):\n",
    "    data['hour'] = data.index.hour\n",
    "    data['dayofweek'] = data.index.dayofweek\n",
    "    return data\n",
    "\n",
    "# use cos and sin to encode cyclical features\n",
    "def encode_cyclical(data, col, max_val):\n",
    "    data[col+'_sin'] = np.sin(2*np.pi*data[col]/max_val)\n",
    "    data[col+'_cos'] = np.cos(2*np.pi*data[col]/max_val)\n",
    "    return data\n"
   ]
  },
  {
   "cell_type": "code",
   "execution_count": 8,
   "metadata": {},
   "outputs": [
    {
     "data": {
      "text/html": [
       "<div>\n",
       "<style scoped>\n",
       "    .dataframe tbody tr th:only-of-type {\n",
       "        vertical-align: middle;\n",
       "    }\n",
       "\n",
       "    .dataframe tbody tr th {\n",
       "        vertical-align: top;\n",
       "    }\n",
       "\n",
       "    .dataframe thead th {\n",
       "        text-align: right;\n",
       "    }\n",
       "</style>\n",
       "<table border=\"1\" class=\"dataframe\">\n",
       "  <thead>\n",
       "    <tr style=\"text-align: right;\">\n",
       "      <th></th>\n",
       "      <th>temp_zone</th>\n",
       "      <th>temp_out</th>\n",
       "      <th>qsol</th>\n",
       "      <th>qhvac</th>\n",
       "      <th>hour_sin</th>\n",
       "      <th>hour_cos</th>\n",
       "      <th>dayofweek_sin</th>\n",
       "      <th>dayofweek_cos</th>\n",
       "    </tr>\n",
       "    <tr>\n",
       "      <th>time</th>\n",
       "      <th></th>\n",
       "      <th></th>\n",
       "      <th></th>\n",
       "      <th></th>\n",
       "      <th></th>\n",
       "      <th></th>\n",
       "      <th></th>\n",
       "      <th></th>\n",
       "    </tr>\n",
       "  </thead>\n",
       "  <tbody>\n",
       "    <tr>\n",
       "      <th>2018-01-14 18:00:00</th>\n",
       "      <td>21.206349</td>\n",
       "      <td>5.409722</td>\n",
       "      <td>0.0</td>\n",
       "      <td>7.0</td>\n",
       "      <td>-0.979084</td>\n",
       "      <td>0.203456</td>\n",
       "      <td>-2.449294e-16</td>\n",
       "      <td>1.0</td>\n",
       "    </tr>\n",
       "    <tr>\n",
       "      <th>2018-01-14 18:15:00</th>\n",
       "      <td>21.618519</td>\n",
       "      <td>5.664815</td>\n",
       "      <td>0.0</td>\n",
       "      <td>0.0</td>\n",
       "      <td>-0.979084</td>\n",
       "      <td>0.203456</td>\n",
       "      <td>-2.449294e-16</td>\n",
       "      <td>1.0</td>\n",
       "    </tr>\n",
       "    <tr>\n",
       "      <th>2018-01-14 18:30:00</th>\n",
       "      <td>21.329630</td>\n",
       "      <td>5.928704</td>\n",
       "      <td>0.0</td>\n",
       "      <td>0.0</td>\n",
       "      <td>-0.979084</td>\n",
       "      <td>0.203456</td>\n",
       "      <td>-2.449294e-16</td>\n",
       "      <td>1.0</td>\n",
       "    </tr>\n",
       "    <tr>\n",
       "      <th>2018-01-14 18:45:00</th>\n",
       "      <td>21.125926</td>\n",
       "      <td>6.192593</td>\n",
       "      <td>0.0</td>\n",
       "      <td>0.0</td>\n",
       "      <td>-0.979084</td>\n",
       "      <td>0.203456</td>\n",
       "      <td>-2.449294e-16</td>\n",
       "      <td>1.0</td>\n",
       "    </tr>\n",
       "    <tr>\n",
       "      <th>2018-01-14 19:00:00</th>\n",
       "      <td>21.118519</td>\n",
       "      <td>6.268519</td>\n",
       "      <td>0.0</td>\n",
       "      <td>0.0</td>\n",
       "      <td>-0.887885</td>\n",
       "      <td>0.460065</td>\n",
       "      <td>-2.449294e-16</td>\n",
       "      <td>1.0</td>\n",
       "    </tr>\n",
       "  </tbody>\n",
       "</table>\n",
       "</div>"
      ],
      "text/plain": [
       "                     temp_zone  temp_out  qsol  qhvac  hour_sin  hour_cos  \\\n",
       "time                                                                        \n",
       "2018-01-14 18:00:00  21.206349  5.409722   0.0    7.0 -0.979084  0.203456   \n",
       "2018-01-14 18:15:00  21.618519  5.664815   0.0    0.0 -0.979084  0.203456   \n",
       "2018-01-14 18:30:00  21.329630  5.928704   0.0    0.0 -0.979084  0.203456   \n",
       "2018-01-14 18:45:00  21.125926  6.192593   0.0    0.0 -0.979084  0.203456   \n",
       "2018-01-14 19:00:00  21.118519  6.268519   0.0    0.0 -0.887885  0.460065   \n",
       "\n",
       "                     dayofweek_sin  dayofweek_cos  \n",
       "time                                               \n",
       "2018-01-14 18:00:00  -2.449294e-16            1.0  \n",
       "2018-01-14 18:15:00  -2.449294e-16            1.0  \n",
       "2018-01-14 18:30:00  -2.449294e-16            1.0  \n",
       "2018-01-14 18:45:00  -2.449294e-16            1.0  \n",
       "2018-01-14 19:00:00  -2.449294e-16            1.0  "
      ]
     },
     "execution_count": 8,
     "metadata": {},
     "output_type": "execute_result"
    }
   ],
   "source": [
    "target_col = [\"temp_zone\"]\n",
    "outdoor_col = [\"temp_out\", \"qsol\"]\n",
    "control_col = [\"qhvac\"]\n",
    "feature = target_col + outdoor_col + control_col\n",
    "\n",
    "data = data[feature]\n",
    "\n",
    "# add time features\n",
    "data = add_time_features(data)\n",
    "data = encode_cyclical(data, \"hour\", 23)\n",
    "data = encode_cyclical(data, \"dayofweek\", 6)\n",
    "time_feature = [\"hour_sin\", \"hour_cos\", \"dayofweek_sin\", \"dayofweek_cos\"]\n",
    "\n",
    "data = data[feature + time_feature]\n",
    "data.head()"
   ]
  },
  {
   "cell_type": "markdown",
   "metadata": {},
   "source": [
    "#### Prepare Data\n",
    "\n",
    "`states`: $T_z$\n",
    "\n",
    "`inputs`: $(\\dot q_{hvac}|_{t}^{t+H}, (t, \\dot q_{sol}, T_{out})|_{t-P}^{t+H})$"
   ]
  },
  {
   "cell_type": "code",
   "execution_count": 10,
   "metadata": {},
   "outputs": [],
   "source": [
    "# lag features \n",
    "n_lags = 1\n",
    "n_futures = 1\n",
    "\n",
    "# shift for future steps\n",
    "target = data[target_col].shift(-n_futures)\n",
    "target.columns = [col+'_next' for col in target.columns]\n",
    "data = pd.concat([data, target], axis=1).dropna()\n",
    "\n",
    "# split for training and validation and testing\n",
    "split_ratio = [0.7, 0.15, 0.15]\n",
    "n_samples = data.shape[0]\n",
    "n_train = int(n_samples * split_ratio[0])\n",
    "n_val = int(n_samples * split_ratio[1])\n",
    "n_test = n_samples - n_train - n_val\n",
    "\n",
    "train_data = data.iloc[:n_train]\n",
    "val_data = data.iloc[n_train:n_train+n_val]\n",
    "test_data = data.iloc[n_train+n_val:]\n",
    "\n"
   ]
  },
  {
   "cell_type": "markdown",
   "metadata": {},
   "source": [
    "## 1. Models\n",
    "\n"
   ]
  },
  {
   "cell_type": "code",
   "execution_count": 30,
   "metadata": {},
   "outputs": [],
   "source": [
    "def mse(y_true, y_pred):\n",
    "    return jnp.mean(jnp.square(y_true - y_pred))\n",
    "\n",
    "def rmse(y_true, y_pred):\n",
    "    return jnp.sqrt(mse(y_true, y_pred))\n"
   ]
  },
  {
   "cell_type": "markdown",
   "metadata": {},
   "source": [
    "### 1.1 Baseline Model\n",
    "\n",
    "This model simply predicts the next steo using the current step value"
   ]
  },
  {
   "cell_type": "code",
   "execution_count": 34,
   "metadata": {},
   "outputs": [
    {
     "name": "stdout",
     "output_type": "stream",
     "text": [
      "Baseline model: \n",
      "Train MSE: 0.0591, Val MSE: 0.0736, Test MSE: 0.0391\n",
      "Train RMSE: 0.2431, Val RMSE: 0.2713, Test RMSE: 0.1978\n"
     ]
    }
   ],
   "source": [
    "# train loss\n",
    "y_pred_train = train_data[target_col].values\n",
    "y_target_train = train_data[[col+'_next' for col in target_col]].values\n",
    "mse_train = mse(y_target_train, y_pred_train)\n",
    "rmse_train = rmse(y_target_train, y_pred_train)\n",
    "\n",
    "# val loss\n",
    "y_pred_val = val_data[target_col].values\n",
    "y_target_val = val_data[[col+'_next' for col in target_col]].values\n",
    "mse_val = mse(y_target_val, y_pred_val)\n",
    "rmse_val = rmse(y_target_val, y_pred_val)\n",
    "\n",
    "# test loss \n",
    "y_pred_test = test_data[target_col].values\n",
    "y_target_test = test_data[[col+'_next' for col in target_col]].values\n",
    "mse_test = mse(y_target_test, y_pred_test)\n",
    "rmse_test = rmse(y_target_test, y_pred_test)\n",
    "\n",
    "print(\"Baseline model: \")\n",
    "print(f\"Train MSE: {mse_train:.4f}, Val MSE: {mse_val:.4f}, Test MSE: {mse_test:.4f}\")\n",
    "print(f\"Train RMSE: {rmse_train:.4f}, Val RMSE: {rmse_val:.4f}, Test RMSE: {rmse_test:.4f}\")\n"
   ]
  },
  {
   "cell_type": "markdown",
   "metadata": {},
   "source": [
    "### 1.2 Physics-informed Neural ODE"
   ]
  },
  {
   "cell_type": "markdown",
   "metadata": {},
   "source": [
    "In this section, I will use physics-informed neural ODE to learn the dynamics of the system.\n",
    "\n",
    "$$\n",
    "\n",
    "    mC_{p,a}\\frac{dT_z}{dt} = q_{hvac} + q_{int} + q_{intz} + q_{inf} + q_{surf}\n",
    "$$\n",
    "\n",
    "or \n",
    "\n",
    "$$\n",
    "    \\frac{dT_z}{dt} = \\frac{1}{C}(q_{hvac} + q_{inf} + q_{int} + q_{intz} + q_{surf})  \n",
    "$$\n",
    "\n",
    "$$\n",
    "    \\frac{dT_z}{dt} = a \\dot q_{hvac} + b (T_{out} - T_z) + c(T_{z,i} - T_z) + \\frac{1}{C} (\\dot q_{int} + \\dot q_{surf}) =  a \\dot q_{hvac} + b (T_{out} - T_z) + c(T_{z,i} - T_z) + D_{ann}(t, \\dot q_{sol}, T_{out}) = -(b+c)T_z + a\\dot q_{hvac} + bT_{out} + cT_{z,i} + D_{ann}(t, \\dot q_{sol}, T_{out})\n",
    "\n",
    "$$\n",
    "\n",
    "Here we wll model this in dynax as a differentiable equation.\n",
    "\n",
    "To simplify for residential buildings, where there is typically one zone, we can set $c=0$.\n",
    "\n",
    "\n",
    "**Thoughts to try**:\n",
    "- the $a, b, c$ might be too small, here I use the inverse\n",
    "- the influence of solar/internal heat gain should not depend on zone temperature. Therefore, the nonlinear disturbance has no dependency on states.\n",
    "- try out physics-informed deep koopman modeling\n",
    "\n",
    "\n",
    "Discretetize the continous-time model using forward Euler method, we have\n",
    "\n",
    "$$\n",
    "    T_{z, t+1} = (1-b-c)T_{z,t} + a\\dot q_{hvac, t} + bT_{out, t} + cT_{z,i,t} + D_{ann}(t, \\dot q_{sol}, T_{out})\n",
    "$$\n"
   ]
  },
  {
   "cell_type": "markdown",
   "metadata": {},
   "source": [
    "#### Define Model"
   ]
  },
  {
   "cell_type": "code",
   "execution_count": 35,
   "metadata": {},
   "outputs": [],
   "source": [
    "class Model(nn.Module):\n",
    "    state_dim: int\n",
    "    control_dim: int\n",
    "    disturb_dim: int\n",
    "    \n",
    "    a_init = nn.initializers.ones_init()\n",
    "    b_init = nn.initializers.zeros_init()\n",
    "    \n",
    "\n",
    "    @nn.compact\n",
    "    def __call__(self, prev_state, u, d):\n",
    "        # prev_state: (batch, state_dim)\n",
    "        # u: (batch, control_dim)\n",
    "        # d: (batch, disturb_dim)\n",
    "        # TODO: why not working?\n",
    "        #b = self.param('b', self.b_init, (self.state_dim, self.state_dim))\n",
    "        #a = self.param('a', self.a_init, (self.control_dim, self.state_dim))\n",
    "        b = self.param('b', nn.initializers.zeros_init(), (self.state_dim, self.state_dim))\n",
    "        a = self.param('a', nn.initializers.ones_init(), (self.control_dim, self.state_dim))\n",
    "\n",
    "        # disturbance model\n",
    "        x = nn.Dense(self.disturb_dim, kernel_init=nn.initializers.lecun_normal(), use_bias=True)(d)\n",
    "        # leaky relu layer\n",
    "        x = nn.activation.leaky_relu(x)\n",
    "        x = nn.Dense(self.state_dim)(x) # one state_dim\n",
    "        \n",
    "        # prediction\n",
    "        au = jnp.einsum('bi,ij->bj', u, a)\n",
    "        bd = jnp.einsum('bi,ij->bj', d[:, -1].reshape(-1,self.state_dim), b)\n",
    "        x_prev = jnp.einsum('bi,ij->bj', prev_state, (1-b))\n",
    "        \n",
    "        x = x_prev + au + bd + x\n",
    "\n",
    "        return x"
   ]
  },
  {
   "cell_type": "code",
   "execution_count": 36,
   "metadata": {},
   "outputs": [
    {
     "name": "stdout",
     "output_type": "stream",
     "text": [
      "(4, 1)\n",
      "\n",
      "\u001b[3m                               Model Summary                               \u001b[0m\n",
      "┏━━━━━━━━━┳━━━━━━━━┳━━━━━━━━━━━━━━━━┳━━━━━━━━━━━━━━┳━━━━━━━━━━━━━━━━━━━━━━┓\n",
      "┃\u001b[1m \u001b[0m\u001b[1mpath   \u001b[0m\u001b[1m \u001b[0m┃\u001b[1m \u001b[0m\u001b[1mmodule\u001b[0m\u001b[1m \u001b[0m┃\u001b[1m \u001b[0m\u001b[1minputs        \u001b[0m\u001b[1m \u001b[0m┃\u001b[1m \u001b[0m\u001b[1moutputs     \u001b[0m\u001b[1m \u001b[0m┃\u001b[1m \u001b[0m\u001b[1mparams              \u001b[0m\u001b[1m \u001b[0m┃\n",
      "┡━━━━━━━━━╇━━━━━━━━╇━━━━━━━━━━━━━━━━╇━━━━━━━━━━━━━━╇━━━━━━━━━━━━━━━━━━━━━━┩\n",
      "│         │ Model  │ - \u001b[2mfloat32\u001b[0m[4,1] │ \u001b[2mfloat32\u001b[0m[4,1] │ a: \u001b[2mfloat32\u001b[0m[1,1]      │\n",
      "│         │        │ - \u001b[2mfloat32\u001b[0m[4,1] │              │ b: \u001b[2mfloat32\u001b[0m[1,1]      │\n",
      "│         │        │ - \u001b[2mfloat32\u001b[0m[4,6] │              │                      │\n",
      "│         │        │                │              │ \u001b[1m2 \u001b[0m\u001b[1;2m(8 B)\u001b[0m              │\n",
      "├─────────┼────────┼────────────────┼──────────────┼──────────────────────┤\n",
      "│ Dense_0 │ Dense  │ \u001b[2mfloat32\u001b[0m[4,6]   │ \u001b[2mfloat32\u001b[0m[4,6] │ bias: \u001b[2mfloat32\u001b[0m[6]     │\n",
      "│         │        │                │              │ kernel: \u001b[2mfloat32\u001b[0m[6,6] │\n",
      "│         │        │                │              │                      │\n",
      "│         │        │                │              │ \u001b[1m42 \u001b[0m\u001b[1;2m(168 B)\u001b[0m           │\n",
      "├─────────┼────────┼────────────────┼──────────────┼──────────────────────┤\n",
      "│ Dense_1 │ Dense  │ \u001b[2mfloat32\u001b[0m[4,6]   │ \u001b[2mfloat32\u001b[0m[4,1] │ bias: \u001b[2mfloat32\u001b[0m[1]     │\n",
      "│         │        │                │              │ kernel: \u001b[2mfloat32\u001b[0m[6,1] │\n",
      "│         │        │                │              │                      │\n",
      "│         │        │                │              │ \u001b[1m7 \u001b[0m\u001b[1;2m(28 B)\u001b[0m             │\n",
      "├─────────┼────────┼────────────────┼──────────────┼──────────────────────┤\n",
      "│\u001b[1m \u001b[0m\u001b[1m       \u001b[0m\u001b[1m \u001b[0m│\u001b[1m \u001b[0m\u001b[1m      \u001b[0m\u001b[1m \u001b[0m│\u001b[1m \u001b[0m\u001b[1m              \u001b[0m\u001b[1m \u001b[0m│\u001b[1m \u001b[0m\u001b[1m       Total\u001b[0m\u001b[1m \u001b[0m│\u001b[1m \u001b[0m\u001b[1m51 \u001b[0m\u001b[1;2m(204 B)\u001b[0m\u001b[1m          \u001b[0m\u001b[1m \u001b[0m│\n",
      "└─────────┴────────┴────────────────┴──────────────┴──────────────────────┘\n",
      "\u001b[1m                                                                           \u001b[0m\n",
      "\u001b[1m                       Total Parameters: 51 \u001b[0m\u001b[1;2m(204 B)\u001b[0m\u001b[1m                        \u001b[0m\n",
      "\n",
      "\n"
     ]
    }
   ],
   "source": [
    "model = Model(state_dim=1, control_dim=1, disturb_dim=6)\n",
    "\n",
    "key = jax.random.PRNGKey(2023)\n",
    "init_params = model.init(key, jnp.ones((4, 1)), jnp.zeros((4, 1)), jnp.ones((4, 6)))\n",
    "init_out = model.apply(init_params, jnp.ones((4, 1)), jnp.zeros((4, 1)), jnp.ones((4, 6)))\n",
    "print(init_out.shape)\n",
    "print(model.tabulate(key, jnp.ones((4, 1)), jnp.zeros((4, 1)), jnp.ones((4, 6))))"
   ]
  },
  {
   "cell_type": "markdown",
   "metadata": {},
   "source": [
    "#### Training and Evaluation"
   ]
  },
  {
   "cell_type": "code",
   "execution_count": 13,
   "metadata": {},
   "outputs": [
    {
     "data": {
      "text/html": [
       "<div>\n",
       "<style scoped>\n",
       "    .dataframe tbody tr th:only-of-type {\n",
       "        vertical-align: middle;\n",
       "    }\n",
       "\n",
       "    .dataframe tbody tr th {\n",
       "        vertical-align: top;\n",
       "    }\n",
       "\n",
       "    .dataframe thead th {\n",
       "        text-align: right;\n",
       "    }\n",
       "</style>\n",
       "<table border=\"1\" class=\"dataframe\">\n",
       "  <thead>\n",
       "    <tr style=\"text-align: right;\">\n",
       "      <th></th>\n",
       "      <th>temp_zone</th>\n",
       "      <th>temp_out</th>\n",
       "      <th>qsol</th>\n",
       "      <th>qhvac</th>\n",
       "      <th>hour_sin</th>\n",
       "      <th>hour_cos</th>\n",
       "      <th>dayofweek_sin</th>\n",
       "      <th>dayofweek_cos</th>\n",
       "      <th>temp_zone_next</th>\n",
       "    </tr>\n",
       "    <tr>\n",
       "      <th>time</th>\n",
       "      <th></th>\n",
       "      <th></th>\n",
       "      <th></th>\n",
       "      <th></th>\n",
       "      <th></th>\n",
       "      <th></th>\n",
       "      <th></th>\n",
       "      <th></th>\n",
       "      <th></th>\n",
       "    </tr>\n",
       "  </thead>\n",
       "  <tbody>\n",
       "    <tr>\n",
       "      <th>2018-01-14 18:00:00</th>\n",
       "      <td>21.206349</td>\n",
       "      <td>5.409722</td>\n",
       "      <td>0.0</td>\n",
       "      <td>7.0</td>\n",
       "      <td>-0.979084</td>\n",
       "      <td>0.203456</td>\n",
       "      <td>-2.449294e-16</td>\n",
       "      <td>1.0</td>\n",
       "      <td>21.618519</td>\n",
       "    </tr>\n",
       "    <tr>\n",
       "      <th>2018-01-14 18:15:00</th>\n",
       "      <td>21.618519</td>\n",
       "      <td>5.664815</td>\n",
       "      <td>0.0</td>\n",
       "      <td>0.0</td>\n",
       "      <td>-0.979084</td>\n",
       "      <td>0.203456</td>\n",
       "      <td>-2.449294e-16</td>\n",
       "      <td>1.0</td>\n",
       "      <td>21.329630</td>\n",
       "    </tr>\n",
       "    <tr>\n",
       "      <th>2018-01-14 18:30:00</th>\n",
       "      <td>21.329630</td>\n",
       "      <td>5.928704</td>\n",
       "      <td>0.0</td>\n",
       "      <td>0.0</td>\n",
       "      <td>-0.979084</td>\n",
       "      <td>0.203456</td>\n",
       "      <td>-2.449294e-16</td>\n",
       "      <td>1.0</td>\n",
       "      <td>21.125926</td>\n",
       "    </tr>\n",
       "    <tr>\n",
       "      <th>2018-01-14 18:45:00</th>\n",
       "      <td>21.125926</td>\n",
       "      <td>6.192593</td>\n",
       "      <td>0.0</td>\n",
       "      <td>0.0</td>\n",
       "      <td>-0.979084</td>\n",
       "      <td>0.203456</td>\n",
       "      <td>-2.449294e-16</td>\n",
       "      <td>1.0</td>\n",
       "      <td>21.118519</td>\n",
       "    </tr>\n",
       "    <tr>\n",
       "      <th>2018-01-14 19:00:00</th>\n",
       "      <td>21.118519</td>\n",
       "      <td>6.268519</td>\n",
       "      <td>0.0</td>\n",
       "      <td>0.0</td>\n",
       "      <td>-0.887885</td>\n",
       "      <td>0.460065</td>\n",
       "      <td>-2.449294e-16</td>\n",
       "      <td>1.0</td>\n",
       "      <td>20.925926</td>\n",
       "    </tr>\n",
       "  </tbody>\n",
       "</table>\n",
       "</div>"
      ],
      "text/plain": [
       "                     temp_zone  temp_out  qsol  qhvac  hour_sin  hour_cos  \\\n",
       "time                                                                        \n",
       "2018-01-14 18:00:00  21.206349  5.409722   0.0    7.0 -0.979084  0.203456   \n",
       "2018-01-14 18:15:00  21.618519  5.664815   0.0    0.0 -0.979084  0.203456   \n",
       "2018-01-14 18:30:00  21.329630  5.928704   0.0    0.0 -0.979084  0.203456   \n",
       "2018-01-14 18:45:00  21.125926  6.192593   0.0    0.0 -0.979084  0.203456   \n",
       "2018-01-14 19:00:00  21.118519  6.268519   0.0    0.0 -0.887885  0.460065   \n",
       "\n",
       "                     dayofweek_sin  dayofweek_cos  temp_zone_next  \n",
       "time                                                               \n",
       "2018-01-14 18:00:00  -2.449294e-16            1.0       21.618519  \n",
       "2018-01-14 18:15:00  -2.449294e-16            1.0       21.329630  \n",
       "2018-01-14 18:30:00  -2.449294e-16            1.0       21.125926  \n",
       "2018-01-14 18:45:00  -2.449294e-16            1.0       21.118519  \n",
       "2018-01-14 19:00:00  -2.449294e-16            1.0       20.925926  "
      ]
     },
     "execution_count": 13,
     "metadata": {},
     "output_type": "execute_result"
    }
   ],
   "source": [
    "train_data.head()"
   ]
  },
  {
   "cell_type": "code",
   "execution_count": 14,
   "metadata": {},
   "outputs": [],
   "source": [
    "state_init_train = jnp.array(train_data[target_col]).reshape(-1, model.state_dim)\n",
    "u_train = jnp.array(train_data[control_col]).reshape(-1, model.control_dim)\n",
    "d_train = jnp.array(train_data[outdoor_col + time_feature]).reshape(-1, model.disturb_dim)\n",
    "target_train = jnp.array(train_data[[col+'_next' for col in target_col]]).reshape(-1, 1)\n",
    "\n",
    "state_init_val = jnp.array(val_data[target_col]).reshape(-1, model.state_dim)\n",
    "u_val = jnp.array(val_data[control_col]).reshape(-1, model.control_dim)\n",
    "d_val = jnp.array(val_data[outdoor_col + time_feature]).reshape(-1, model.disturb_dim)\n",
    "target_val = jnp.array(val_data[[col+'_next' for col in target_col]]).reshape(-1, 1)\n",
    "\n",
    "state_init_test = jnp.array(test_data[target_col]).reshape(-1, model.state_dim)\n",
    "u_test = jnp.array(test_data[control_col]).reshape(-1, model.control_dim)\n",
    "d_test = jnp.array(test_data[outdoor_col + time_feature]).reshape(-1, model.disturb_dim)\n",
    "target_test = jnp.array(test_data[[col+'_next' for col in target_col]]).reshape(-1, 1)"
   ]
  },
  {
   "cell_type": "code",
   "execution_count": 37,
   "metadata": {},
   "outputs": [],
   "source": [
    "# inverse simulation train_step\n",
    "@jax.jit\n",
    "def train_step(train_state, state_init, u, d, target):\n",
    "    def mse_loss(params):\n",
    "        # prediction\n",
    "        outputs_pred = train_state.apply_fn(params, state_init, u, d)\n",
    "        # mse loss: match dimensions\n",
    "        pred_loss = jnp.mean((outputs_pred - target)**2)\n",
    "        reg_loss = 0\n",
    "\n",
    "        return pred_loss + reg_loss\n",
    "    \n",
    "    loss, grad = jax.value_and_grad(mse_loss)(train_state.params)\n",
    "    train_state = train_state.apply_gradients(grads=grad)\n",
    "\n",
    "    return loss, grad, train_state\n",
    "\n",
    "\n",
    "@jax.jit\n",
    "def test_step(train_state, state_init, u, d, target):\n",
    "    def mse_loss(params):\n",
    "        # prediction\n",
    "        outputs_pred = train_state.apply_fn(params, state_init, u, d)\n",
    "        # mse loss: match dimensions\n",
    "        pred_loss = jnp.mean((outputs_pred - target)**2)\n",
    "        reg_loss = 0\n",
    "\n",
    "        return pred_loss + reg_loss\n",
    "    \n",
    "    loss = mse_loss(train_state.params)\n",
    "\n",
    "    return loss\n",
    "\n",
    "schedule = optax.linear_schedule(\n",
    "    init_value = 1e-1, \n",
    "    transition_steps = 5000, \n",
    "    transition_begin=0, \n",
    "    end_value=1e-4\n",
    ")\n",
    "\n",
    "optim = optax.chain(\n",
    "    #optax.clip_by_global_norm(1.0),\n",
    "    #optax.clip(1.),\n",
    "    #optax.scale(1.2),\n",
    "    #optax.lamb(1e-04),\n",
    "    optax.adam(0.1)\n",
    ")\n",
    "\n",
    "train_state = TrainState.create(\n",
    "    apply_fn=model.apply,\n",
    "    params=init_params,\n",
    "    tx = optim,\n",
    ")\n"
   ]
  },
  {
   "cell_type": "code",
   "execution_count": 38,
   "metadata": {},
   "outputs": [],
   "source": [
    "optim = optax.chain(\n",
    "    #optax.clip_by_global_norm(1.0),\n",
    "    #optax.clip(1.),\n",
    "    #optax.scale(1.2),\n",
    "    #optax.lamb(1e-03),\n",
    "    optax.adam(0.01)\n",
    ")"
   ]
  },
  {
   "cell_type": "code",
   "execution_count": 39,
   "metadata": {},
   "outputs": [
    {
     "name": "stdout",
     "output_type": "stream",
     "text": [
      "Epoch 0, train_loss: 40.94482421875, val_loss: 11.24889087677002, test_loss: 10.664958000183105\n",
      "Epoch 100, train_loss: 0.029878435656428337, val_loss: 0.035252995789051056, test_loss: 0.021790800616145134\n",
      "Epoch 200, train_loss: 0.028908463194966316, val_loss: 0.033858176320791245, test_loss: 0.021708671003580093\n",
      "Epoch 300, train_loss: 0.02870635688304901, val_loss: 0.033617787063121796, test_loss: 0.021731730550527573\n",
      "Epoch 400, train_loss: 0.028532516211271286, val_loss: 0.03348503261804581, test_loss: 0.021727655082941055\n",
      "Epoch 500, train_loss: 0.02836611308157444, val_loss: 0.03341161832213402, test_loss: 0.021706512197852135\n",
      "Epoch 600, train_loss: 0.030290840193629265, val_loss: 0.03633376210927963, test_loss: 0.0270040575414896\n",
      "Epoch 700, train_loss: 0.027950270101428032, val_loss: 0.03366241976618767, test_loss: 0.021590787917375565\n",
      "Epoch 800, train_loss: 0.027660436928272247, val_loss: 0.03371833264827728, test_loss: 0.021562818437814713\n",
      "Epoch 900, train_loss: 0.027686402201652527, val_loss: 0.03310609981417656, test_loss: 0.0218475591391325\n"
     ]
    }
   ],
   "source": [
    "n_epochs = 1000\n",
    "\n",
    "# train loop\n",
    "steps = []\n",
    "train_losses = []\n",
    "val_losses = []\n",
    "\n",
    "for epoch in range(n_epochs):\n",
    "    loss, grad, train_state = train_step(train_state, state_init_train, u_train, d_train, target_train)\n",
    "    if epoch % 100 == 0:\n",
    "        val_loss = test_step(train_state, state_init_val, u_val, d_val, target_val)\n",
    "        test_loss = test_step(train_state, state_init_test, u_test, d_test, target_test)\n",
    "        print(f\"Epoch {epoch}, train_loss: {loss}, val_loss: {val_loss}, test_loss: {test_loss}\")\n",
    "    \n",
    "    # save for plot\n",
    "    steps.append(epoch)\n",
    "    train_losses.append(loss)\n",
    "    val_losses.append(val_loss)"
   ]
  },
  {
   "cell_type": "code",
   "execution_count": null,
   "metadata": {},
   "outputs": [],
   "source": [
    "# plot loss\n",
    "result_folder = f'./models/m3-physics-informed/'\n",
    "plt.figure()\n",
    "plt.plot(steps, train_losses, label=f\"train: {train_losses[-1]:.2f}\")\n",
    "plt.plot(steps, val_losses, label=f\"test: {val_losses[-1]:.2f}\")\n",
    "plt.ylim([0, 1])\n",
    "plt.legend()\n",
    "plt.savefig(result_folder + \"loss.png\")"
   ]
  },
  {
   "cell_type": "code",
   "execution_count": 26,
   "metadata": {},
   "outputs": [],
   "source": [
    "y_pred = model.apply(train_state.params, state_init_train, u_train, d_train)\n",
    "y_pred_test = model.apply(train_state.params, state_init_test, u_test, d_test)"
   ]
  },
  {
   "cell_type": "code",
   "execution_count": 27,
   "metadata": {},
   "outputs": [
    {
     "data": {
      "text/plain": [
       "<matplotlib.legend.Legend at 0x7f0b10637100>"
      ]
     },
     "execution_count": 27,
     "metadata": {},
     "output_type": "execute_result"
    },
    {
     "data": {
      "image/png": "[encoded data removed]",
      "text/plain": [
       "<Figure size 1200x600 with 1 Axes>"
      ]
     },
     "metadata": {},
     "output_type": "display_data"
    }
   ],
   "source": [
    "plt.figure(figsize=(12,6))\n",
    "plt.plot(target_train[:,:], label='target')\n",
    "plt.plot(y_pred[:,:], label='pred')\n",
    "plt.legend()"
   ]
  },
  {
   "cell_type": "code",
   "execution_count": 28,
   "metadata": {},
   "outputs": [
    {
     "data": {
      "text/plain": [
       "<matplotlib.legend.Legend at 0x7f0b101c2ee0>"
      ]
     },
     "execution_count": 28,
     "metadata": {},
     "output_type": "execute_result"
    },
    {
     "data": {
      "image/png": "[encoded data removed]",
      "text/plain": [
       "<Figure size 1200x600 with 1 Axes>"
      ]
     },
     "metadata": {},
     "output_type": "display_data"
    }
   ],
   "source": [
    "plt.figure(figsize=(12,6))\n",
    "plt.plot(target_test[:,:], label='target')\n",
    "plt.plot(y_pred_test[:,:], label='pred')\n",
    "plt.xlabel('day', fontsize=14)\n",
    "plt.ylabel('temperature [C]', fontsize=14)\n",
    "plt.legend()"
   ]
  },
  {
   "cell_type": "markdown",
   "metadata": {},
   "source": [
    "#### Multi-step Predictions\n"
   ]
  },
  {
   "cell_type": "code",
   "execution_count": null,
   "metadata": {},
   "outputs": [],
   "source": [
    "horizon = 96 #target_test.shape[0]\n",
    "\n",
    "# recursively predict future using auto-regressive approach\n",
    "y_pred_horizon = []\n",
    "target_horizon = []\n",
    "num_samples = target_test.shape[0]\n",
    "for t in range(num_samples - horizon + 1):\n",
    "    y_pred_future = []\n",
    "    target_future = []\n",
    "    \n",
    "    state_prev = state_init_test[[t]] # (1, Nx)\n",
    "    for h in range(horizon):\n",
    "        # state_init_train, u_train, d_train\n",
    "        state_next = model.apply(train_state.params, state_prev, u_test[[t+h]], d_test[[t+h]])\n",
    "        # save for plot\n",
    "        y_pred_future.append(state_next)\n",
    "        target_future.append(target_test[[t+h]])\n",
    "        # update\n",
    "        state_prev = state_next[:]\n",
    "\n",
    "    y_pred_future = jnp.concatenate(y_pred_future, axis=0)\n",
    "    target_future = jnp.concatenate(target_future, axis=0)\n",
    "\n",
    "    y_pred_horizon.append(y_pred_future)\n",
    "    target_horizon.append(target_future)\n",
    "\n",
    "y_pred_horizon = jnp.stack(y_pred_horizon, axis=0)\n",
    "target_horizon = jnp.stack(target_horizon, axis=0)\n",
    "\n",
    "print(y_pred_horizon.shape)\n",
    "print(\"ph={}: test mse is {}\".format(horizon, jnp.mean((y_pred_horizon - target_horizon)**2)))"
   ]
  },
  {
   "cell_type": "code",
   "execution_count": null,
   "metadata": {},
   "outputs": [],
   "source": [
    "# add five subplots: at each step, predict the next horizon steps\n",
    "samples = [0, 24, 48, 72, 96]\n",
    "plt.subplots(len(samples), 1, figsize=(12, 3*len(samples)))\n",
    "for i in len(samples):\n",
    "    plt.subplot(len(samples), 1, 1)\n",
    "    plt.plot(target_horizon[samples[0]], label='target')\n",
    "    plt.plot(y_pred_horizon[samples[0]], label='pred')\n",
    "    plt.legend()\n",
    "    plt.title(f\"step {samples[0]}\")\n",
    "    plt.xlabel('step', fontsize=14)\n",
    "    plt.ylabel('temperature [C]', fontsize=14)\n",
    "    plt.tight_layout()\n",
    "\n",
    "plt.savefig(result_folder + \"/test_predict.png\")\n"
   ]
  },
  {
   "cell_type": "markdown",
   "metadata": {},
   "source": [
    "## Physics-Consistent Check\n",
    "\n",
    "How to know if the learned model follows general physics? \n",
    "- the derivative of room temp with respect to the HVAC energy rate should be positive. The more heat injected to the room, the higher the room temperature."
   ]
  },
  {
   "cell_type": "code",
   "execution_count": 47,
   "metadata": {},
   "outputs": [],
   "source": [
    "sample_index = [200]\n",
    "\n",
    "u_fake = u_train[sample_index, :]\n",
    "state_init_fake = state_init_train[sample_index, :]\n",
    "d_fake = d_train[sample_index, :]\n",
    "\n"
   ]
  },
  {
   "cell_type": "code",
   "execution_count": 48,
   "metadata": {},
   "outputs": [
    {
     "data": {
      "text/plain": [
       "((1, 1), (1, 1), (1, 6))"
      ]
     },
     "execution_count": 48,
     "metadata": {},
     "output_type": "execute_result"
    }
   ],
   "source": [
    "state_init_fake.shape, u_fake.shape, d_fake.shape"
   ]
  },
  {
   "cell_type": "code",
   "execution_count": 49,
   "metadata": {},
   "outputs": [],
   "source": [
    "# prepare faked inputs for physical simukation check\n",
    "u = jnp.array([i for i in range(-10, 10)]).reshape(-1, 1) # (B, nu)\n",
    "n_points = len(u)\n",
    "\n",
    "state_init = jnp.tile(state_init_fake, (n_points, 1)) # (B, nx)\n",
    "d = jnp.tile(d_fake, (n_points, 1)) # (B, nd)\n"
   ]
  },
  {
   "cell_type": "code",
   "execution_count": 50,
   "metadata": {},
   "outputs": [],
   "source": [
    "y_pred = model.apply(train_state.params, state_init, u, d)"
   ]
  },
  {
   "cell_type": "code",
   "execution_count": 51,
   "metadata": {},
   "outputs": [
    {
     "data": {
      "image/png": "[encoded data removed]",
      "text/plain": [
       "<Figure size 640x480 with 1 Axes>"
      ]
     },
     "metadata": {},
     "output_type": "display_data"
    }
   ],
   "source": [
    "plt.figure()\n",
    "plt.plot(u.squeeze(), y_pred, label='predicted') #\n",
    "plt.plot(u.squeeze(), state_init, label='previous temp') # previous temperature\n",
    "plt.grid()"
   ]
  }
 ],
 "metadata": {
  "kernelspec": {
   "display_name": "base",
   "language": "python",
   "name": "python3"
  },
  "language_info": {
   "codemirror_mode": {
    "name": "ipython",
    "version": 3
   },
   "file_extension": ".py",
   "mimetype": "text/x-python",
   "name": "python",
   "nbconvert_exporter": "python",
   "pygments_lexer": "ipython3",
   "version": "3.10.13"
  }
 },
 "nbformat": 4,
 "nbformat_minor": 2
}
