{
 "cells": [
  {
   "cell_type": "code",
   "execution_count": 4,
   "metadata": {},
   "outputs": [
    {
     "name": "stdout",
     "output_type": "stream",
     "text": [
      "[[-0.1876402 ]\n",
      " [-0.15630104]\n",
      " [-0.12310665]\n",
      " [-0.07324953]\n",
      " [ 0.02656857]\n",
      " [ 0.1655008 ]\n",
      " [ 0.28269923]\n",
      " [ 0.36686522]\n",
      " [ 0.4351038 ]\n",
      " [ 0.4980237 ]]\n"
     ]
    }
   ],
   "source": [
    "from dynax.solvers import odeint \n",
    "\n",
    "import jax.numpy as jnp\n",
    "from jax import vmap\n",
    "import numpy.random as npr\n",
    "from jax import jit, grad\n",
    "import matplotlib\n",
    "import matplotlib.pyplot as plt \n",
    "\n",
    "def mlp(params, inputs):\n",
    "  # A multi-layer perceptron, i.e. a fully-connected neural network.\n",
    "  for w, b in params:\n",
    "    outputs = jnp.dot(inputs, w) + b  # Linear transform\n",
    "    inputs = jnp.tanh(outputs)        # Nonlinearity\n",
    "  return outputs\n",
    "\n",
    "def nn_dynamics(state, time, params):\n",
    "  state_and_time = jnp.hstack([state, jnp.array(time)])\n",
    "  return mlp(params, state_and_time)\n",
    "\n",
    "def odenet(params, input):\n",
    "  start_and_end_times = jnp.array([0.0, 1.0])\n",
    "  init_state, final_state = odeint(nn_dynamics, input, start_and_end_times, params)\n",
    "\n",
    "  return final_state\n",
    "\n",
    "\n",
    "\n",
    "batched_odenet = vmap(odenet, in_axes=(None, 0))\n",
    "\n",
    "# We need to change the input dimension to 2, to allow time-dependent dynamics.\n",
    "odenet_layer_sizes = [2, 20, 1]\n",
    "\n",
    "def odenet_loss(params, inputs, targets):\n",
    "  preds = batched_odenet(params, inputs)\n",
    "  return jnp.mean(jnp.sum((preds - targets)**2, axis=1))\n",
    "\n",
    "def init_random_params(scale, layer_sizes, rng=npr.RandomState(0)):\n",
    "  return [(scale * rng.randn(m, n), scale * rng.randn(n))\n",
    "          for m, n, in zip(layer_sizes[:-1], layer_sizes[1:])]\n",
    "\n",
    "@jit\n",
    "def train_step(params, inputs, targets):\n",
    "  grads = grad(odenet_loss)(params, inputs, targets)\n",
    "  return [(w - step_size * dw, b - step_size * db)\n",
    "          for (w, b), (dw, db) in zip(params, grads)]\n",
    "\n",
    "# Toy 1D dataset.\n",
    "# y = x^3 + 0.1*x\n",
    "inputs = jnp.reshape(jnp.linspace(-2.0, 2.0, 10), (10, 1))\n",
    "targets = inputs**3 + 0.1 * inputs\n",
    "\n",
    "# Hyperparameters.\n",
    "layer_sizes = [1, 20, 1]\n",
    "param_scale = 1.0\n",
    "step_size = 0.01\n",
    "train_iters = 1000\n",
    "\n",
    "\n",
    "\n",
    "# Initialize and train ODE-Net.\n",
    "odenet_params = init_random_params(param_scale, odenet_layer_sizes)\n",
    "\n",
    "preds = batched_odenet(odenet_params, inputs)\n",
    "print(preds)\n"
   ]
  },
  {
   "cell_type": "code",
   "execution_count": null,
   "metadata": {},
   "outputs": [],
   "source": [
    "\n",
    "for i in range(train_iters):\n",
    "  odenet_params = train_step(odenet_params, inputs, targets)\n",
    "\n",
    "# Plot resulting model.\n",
    "fig = plt.figure(figsize=(6, 4), dpi=150)\n",
    "ax = fig.gca()\n",
    "ax.scatter(inputs, targets, lw=0.5, color='green')\n",
    "fine_inputs = jnp.reshape(jnp.linspace(-4.0, 4.0, 100), (100, 1))\n",
    "#ax.plot(fine_inputs, resnet(resnet_params, fine_inputs, resnet_depth), lw=0.5, color='blue')\n",
    "ax.plot(fine_inputs, batched_odenet(odenet_params, fine_inputs), lw=0.5, color='red')\n",
    "ax.plot(fine_inputs, fine_inputs**3 + 0.1*fine_inputs)\n",
    "ax.set_xlabel('input')\n",
    "ax.set_ylabel('output')\n",
    "plt.legend(('Target', 'ODE Net predictions'))"
   ]
  }
 ],
 "metadata": {
  "kernelspec": {
   "display_name": "base",
   "language": "python",
   "name": "python3"
  },
  "language_info": {
   "codemirror_mode": {
    "name": "ipython",
    "version": 3
   },
   "file_extension": ".py",
   "mimetype": "text/x-python",
   "name": "python",
   "nbconvert_exporter": "python",
   "pygments_lexer": "ipython3",
   "version": "3.8.16"
  },
  "orig_nbformat": 4
 },
 "nbformat": 4,
 "nbformat_minor": 2
}
