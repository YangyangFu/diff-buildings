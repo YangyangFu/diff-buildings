{
  "cells": [
    {
      "cell_type": "markdown",
      "metadata": {
        "id": "YeOPAaXtQ9dv"
      },
      "source": [
        "# Parameter Inference\n",
        "\n",
        "This is a script for running parameter inference for a RC model based on given measurement data. \n",
        "The main purposes are:\n",
        "1. enable differentiable parameter inference based on differential programming\n",
        "2. check if GPU can be faster than CPU application\n",
        "    - on my local machine, GPU run time is thousand time slower than CPU\n",
        "    - need run more tests on Google Colab\n",
        "        - single GPU\n",
        "        - multiple TPUs"
      ]
    },
    {
      "cell_type": "code",
      "source": [
        "from jax.tools import colab_tpu\n",
        "colab_tpu.setup_tpu()"
      ],
      "metadata": {
        "id": "kPLzQNHNdfml"
      },
      "execution_count": 1,
      "outputs": []
    },
    {
      "cell_type": "code",
      "execution_count": 2,
      "metadata": {
        "colab": {
          "base_uri": "https://localhost:8080/"
        },
        "id": "lB70bBV7Q9dx",
        "outputId": "68a6c0c7-6636-448f-8bb8-6c8f2e4ffd53"
      },
      "outputs": [
        {
          "output_type": "stream",
          "name": "stdout",
          "text": [
            "Looking in indexes: https://pypi.org/simple, https://us-python.pkg.dev/colab-wheels/public/simple/\n",
            "Collecting diffrax\n",
            "  Downloading diffrax-0.2.2-py3-none-any.whl (138 kB)\n",
            "\u001b[K     |████████████████████████████████| 138 kB 4.8 MB/s \n",
            "\u001b[?25hCollecting optax\n",
            "  Downloading optax-0.1.4-py3-none-any.whl (154 kB)\n",
            "\u001b[K     |████████████████████████████████| 154 kB 30.1 MB/s \n",
            "\u001b[?25hRequirement already satisfied: jax>=0.3.4 in /usr/local/lib/python3.8/dist-packages (from diffrax) (0.3.25)\n",
            "Collecting equinox>=0.9.1\n",
            "  Downloading equinox-0.9.2-py3-none-any.whl (88 kB)\n",
            "\u001b[K     |████████████████████████████████| 88 kB 8.1 MB/s \n",
            "\u001b[?25hCollecting jaxtyping>=0.2.5\n",
            "  Downloading jaxtyping-0.2.10-py3-none-any.whl (18 kB)\n",
            "Requirement already satisfied: numpy>=1.20 in /usr/local/lib/python3.8/dist-packages (from jax>=0.3.4->diffrax) (1.21.6)\n",
            "Requirement already satisfied: opt-einsum in /usr/local/lib/python3.8/dist-packages (from jax>=0.3.4->diffrax) (3.3.0)\n",
            "Requirement already satisfied: typing-extensions in /usr/local/lib/python3.8/dist-packages (from jax>=0.3.4->diffrax) (4.4.0)\n",
            "Requirement already satisfied: scipy>=1.5 in /usr/local/lib/python3.8/dist-packages (from jax>=0.3.4->diffrax) (1.7.3)\n",
            "Collecting typeguard>=2.13.3\n",
            "  Downloading typeguard-2.13.3-py3-none-any.whl (17 kB)\n",
            "Requirement already satisfied: jaxlib>=0.1.37 in /usr/local/lib/python3.8/dist-packages (from optax) (0.3.25+cuda11.cudnn805)\n",
            "Requirement already satisfied: absl-py>=0.7.1 in /usr/local/lib/python3.8/dist-packages (from optax) (1.3.0)\n",
            "Collecting chex>=0.1.5\n",
            "  Downloading chex-0.1.5-py3-none-any.whl (85 kB)\n",
            "\u001b[K     |████████████████████████████████| 85 kB 4.7 MB/s \n",
            "\u001b[?25hRequirement already satisfied: toolz>=0.9.0 in /usr/local/lib/python3.8/dist-packages (from chex>=0.1.5->optax) (0.12.0)\n",
            "Requirement already satisfied: dm-tree>=0.1.5 in /usr/local/lib/python3.8/dist-packages (from chex>=0.1.5->optax) (0.1.7)\n",
            "Installing collected packages: typeguard, jaxtyping, equinox, chex, optax, diffrax\n",
            "  Attempting uninstall: typeguard\n",
            "    Found existing installation: typeguard 2.7.1\n",
            "    Uninstalling typeguard-2.7.1:\n",
            "      Successfully uninstalled typeguard-2.7.1\n",
            "Successfully installed chex-0.1.5 diffrax-0.2.2 equinox-0.9.2 jaxtyping-0.2.10 optax-0.1.4 typeguard-2.13.3\n"
          ]
        }
      ],
      "source": [
        "!pip install diffrax optax\n",
        "import os\n",
        "# Limit ourselves to single-threaded jax/xla operations to avoid thrashing. See\n",
        "# https://github.com/google/jax/issues/743.\n",
        "#os.environ[\"XLA_FLAGS\"] = (\"--xla_cpu_multi_thread_eigen=false \"\n",
        "#                           \"intra_op_parallelism_threads=1\")\n",
        "\n",
        "import jax\n",
        "import jax.numpy as jnp\n",
        "import pandas as pd \n",
        "import numpy as np\n",
        "from jax import jit, lax, config\n",
        "from jax import grad\n",
        "from diffrax import diffeqsolve, ODETerm, Euler, Dopri5, SaveAt, PIDController\n",
        "import optax \n",
        "import matplotlib.pyplot as plt\n",
        "import time \n",
        "import json\n",
        "from functools import partial \n",
        "\n",
        "# The following is required to use TPU Driver as JAX's backend.\n",
        "config.FLAGS.jax_xla_backend = \"tpu_driver\"\n",
        "config.FLAGS.jax_backend_target = \"grpc://\" + os.environ['COLAB_TPU_ADDR']"
      ]
    },
    {
      "cell_type": "code",
      "execution_count": 3,
      "metadata": {
        "colab": {
          "base_uri": "https://localhost:8080/"
        },
        "id": "luVQOF67Q9dz",
        "outputId": "8824e8fb-7d04-4c7d-9019-9ba24c4a97a4"
      },
      "outputs": [
        {
          "output_type": "stream",
          "name": "stdout",
          "text": [
            "8\n",
            "[TpuDevice(id=0, process_index=0, coords=(0,0,0), core_on_chip=0), TpuDevice(id=1, process_index=0, coords=(0,0,0), core_on_chip=1), TpuDevice(id=2, process_index=0, coords=(1,0,0), core_on_chip=0), TpuDevice(id=3, process_index=0, coords=(1,0,0), core_on_chip=1), TpuDevice(id=4, process_index=0, coords=(0,1,0), core_on_chip=0), TpuDevice(id=5, process_index=0, coords=(0,1,0), core_on_chip=1), TpuDevice(id=6, process_index=0, coords=(1,1,0), core_on_chip=0), TpuDevice(id=7, process_index=0, coords=(1,1,0), core_on_chip=1)]\n"
          ]
        }
      ],
      "source": [
        "n_devices = jax.local_device_count()\n",
        "print(n_devices) \n",
        "print(jax.devices())"
      ]
    },
    {
      "cell_type": "markdown",
      "metadata": {
        "id": "S83uBdbyQ9dz"
      },
      "source": [
        "This is a 4r3c model for zone temperature prediction\n",
        "```\n",
        "ODE::   xdot = Ax + Bd\n",
        "        y = Cx\n",
        "States:\n",
        "        x = [Tai, Twe, Twi]'\n",
        "Disturbances:\n",
        "        u = [Tao, qCon_i, qHVAC, qRad_e, qRad_i]'\n",
        "Output:\n",
        "        y = [Tai]\n",
        "\n",
        "```"
      ]
    },
    {
      "cell_type": "code",
      "execution_count": 4,
      "metadata": {
        "id": "qkdkZRphQ9d0"
      },
      "outputs": [],
      "source": [
        "@jit\n",
        "def get_ABCD(Cai, Cwe, Cwi, Re, Ri, Rw, Rg):\n",
        "    A = jnp.zeros((3, 3))\n",
        "    B = jnp.zeros((3, 5))\n",
        "    C = jnp.zeros((1, 3))\n",
        "    A = A.at[0, 0].set(-1/Cai*(1/Rg+1/Ri))\n",
        "    A = A.at[0, 2].set(1/(Cai*Ri))\n",
        "    A = A.at[1, 1].set(-1/Cwe*(1/Re+1/Rw))\n",
        "    A = A.at[1, 2].set(1/(Cwe*Rw))\n",
        "    A = A.at[2, 0].set(1/(Cwi*Ri))\n",
        "    A = A.at[2, 1].set(1/(Cwi*Rw))\n",
        "    A = A.at[2, 2].set(-1/Cwi*(1/Rw+1/Ri))\n",
        "\n",
        "    B = B.at[0, 0].set(1/(Cai*Rg))\n",
        "    B = B.at[0, 1].set(1/Cai)\n",
        "    B = B.at[0, 2].set(1/Cai)\n",
        "    B = B.at[1, 0].set(1/(Cwe*Re))\n",
        "    B = B.at[1, 3].set(1/Cwe)\n",
        "    B = B.at[2, 4].set(1/Cwi)\n",
        "\n",
        "    C = C.at[0, 0].set(1)\n",
        "\n",
        "    D = 0\n",
        "\n",
        "    return A, B, C, D\n",
        "\n",
        "@jit\n",
        "def zone_state_space(t, x, A, B, d):\n",
        "    x = x.reshape(-1, 1)\n",
        "    d = d.reshape(-1, 1)\n",
        "    dx = jnp.matmul(A, x) + jnp.matmul(B, d)\n",
        "    dx = dx.reshape(-1)\n",
        "\n",
        "    return dx"
      ]
    },
    {
      "cell_type": "markdown",
      "metadata": {
        "id": "PEel_pWEQ9d0"
      },
      "source": [
        "## Forward Simulation\n"
      ]
    },
    {
      "cell_type": "code",
      "execution_count": 5,
      "metadata": {
        "id": "8wB8uthXQ9d1"
      },
      "outputs": [],
      "source": [
        "@partial(jit, static_argnums=(0, 1, 2, 3,))\n",
        "def forward(func, ts, te, dt, x0, solver, args):\n",
        "    # unpack args\n",
        "    A, B, d = args\n",
        "\n",
        "    # ode formulation\n",
        "    term = ODETerm(func)\n",
        "\n",
        "    # initial step\n",
        "    t = ts\n",
        "    tnext = t + dt\n",
        "    dprev = d[0, :]\n",
        "    args = (A, B, dprev)\n",
        "    state = solver.init(term, t, tnext, x0, args)\n",
        "\n",
        "    # initialize output\n",
        "    #t_all = [t]\n",
        "    #x_all = [x0]\n",
        "\n",
        "    # main loop\n",
        "    i = 0\n",
        "    #x = x0\n",
        "\n",
        "    # jit-ed scan to replace while loop\n",
        "#    cond_func = lambda t: t < te\n",
        "    def step_at_t(carryover, t, term, dt, te, A, B, d):\n",
        "        # the lax.scannable function to computer ODE/DAE systems\n",
        "        x = carryover[0]\n",
        "        state = carryover[1]\n",
        "        i = carryover[2]\n",
        "        args = (A, B, d[i, :])\n",
        "        tnext = jnp.minimum(t + dt, te)\n",
        "\n",
        "        xnext, _, _, state, _ = solver.step(\n",
        "            term, t, tnext, x, args, state, made_jump=False)\n",
        "        i += 1\n",
        "\n",
        "        return (xnext, state, i), x\n",
        "\n",
        "    carryover_init = (x0, state, i)\n",
        "    step_func = partial(step_at_t, term=term, dt=dt, te=te, A=A, B=B, d=d)\n",
        "    time_steps = np.arange(ts, te+1, dt)\n",
        "    carryover_final, x_all = lax.scan(\n",
        "        step_func, init=carryover_init, xs=time_steps)\n",
        "\n",
        "    return time_steps, x_all"
      ]
    },
    {
      "cell_type": "markdown",
      "metadata": {
        "id": "UvyCgmPqQ9d1"
      },
      "source": [
        "## Inference\n",
        "\n",
        "### Load Data"
      ]
    },
    {
      "cell_type": "code",
      "execution_count": 6,
      "metadata": {
        "colab": {
          "base_uri": "https://localhost:8080/"
        },
        "id": "NsFmMKt0Q9d2",
        "outputId": "7c6df388-b501-49a2-fa26-fb37e4a37fe0"
      },
      "outputs": [
        {
          "output_type": "stream",
          "name": "stdout",
          "text": [
            "504\n"
          ]
        }
      ],
      "source": [
        "# load training data - 1-min sampling rate\n",
        "data = pd.read_csv('/home/disturbance_1min.csv', index_col=[0])\n",
        "index = range(0, len(data)*60, 60)\n",
        "data.index = index\n",
        "\n",
        "# sample every hour\n",
        "dt = 3600\n",
        "data = data.groupby([data.index // dt]).mean()\n",
        "n = len(data)\n",
        "\n",
        "# split training and testing\n",
        "ratio = 0.75\n",
        "n_train = int(len(data)*ratio)\n",
        "print(n_train)\n",
        "data_train = data.iloc[:n_train, :]\n",
        "data_test = data.iloc[n_train:, :]\n",
        "\n",
        "# define training parameters \n",
        "ts = 0\n",
        "te = ts + n_train*dt\n",
        "solver = Euler()\n"
      ]
    },
    {
      "cell_type": "markdown",
      "metadata": {
        "id": "6zpyL1riQ9d2"
      },
      "source": [
        "### Model\n"
      ]
    },
    {
      "cell_type": "code",
      "execution_count": 7,
      "metadata": {
        "id": "f4kAQ9VQQ9d2"
      },
      "outputs": [],
      "source": [
        "# forward steps\n",
        "f = lambda t, x, args: zone_state_space(t, x, *args)#args[0], args[1], args[2]) \n",
        "def forward_parameters(p, x, ts, te, dt, solver, d):\n",
        "    \"\"\"\n",
        "    p is [Cai, Cwe, Cwi, Re, Ri, Rw, Rg, Twe0, Twi0]\n",
        "    x is Tz0\n",
        "    \"\"\"\n",
        "    Cai, Cwe, Cwi, Re, Ri, Rw, Rg, Twe0, Twi0 = p['rc']\n",
        "    A, B, C, D = get_ABCD(Cai, Cwe, Cwi, Re, Ri, Rw, Rg)\n",
        "    args = (A, B, d)\n",
        "\n",
        "    # intial point\n",
        "    x0 = jnp.array([x, Twe0, Twi0])\n",
        "\n",
        "    # forward calculation\n",
        "    t, x = forward(f, ts, te, dt, x0, solver, args)\n",
        "\n",
        "    return t, x \n",
        "\n",
        "model = lambda p,x: forward_parameters(p, x, ts, te, dt, solver, d)\n",
        "model = jit(model)"
      ]
    },
    {
      "cell_type": "markdown",
      "metadata": {
        "id": "2C8ksgnuQ9d3"
      },
      "source": [
        "### Loss Function"
      ]
    },
    {
      "cell_type": "code",
      "execution_count": 8,
      "metadata": {
        "id": "i-wKrzQHQ9d3"
      },
      "outputs": [],
      "source": [
        "# loss function\n",
        "@jit\n",
        "def loss_fcn(p, x, y_true, p_lb, p_ub):\n",
        "    _, y_pred = model(p, x)\n",
        "    loss = jnp.mean((y_pred[1:,0] - y_true)**2)\n",
        "\n",
        "    penalty = jnp.sum(jax.nn.relu(p['rc'] - p_ub) + jax.nn.relu(p_lb - p['rc']))\n",
        "\n",
        "    return loss + penalty\n"
      ]
    },
    {
      "cell_type": "markdown",
      "metadata": {
        "id": "_rnNvmWRQ9d3"
      },
      "source": [
        "### Data Preparation"
      ]
    },
    {
      "cell_type": "code",
      "execution_count": 9,
      "metadata": {
        "id": "3r0H2m3JQ9d3"
      },
      "outputs": [],
      "source": [
        "d = data_train.values[:,:5]\n",
        "y_train = data_train.values[:,5]\n",
        "d = jax.device_put(d)\n",
        "y_train=jax.device_put(y_train)\n"
      ]
    },
    {
      "cell_type": "markdown",
      "metadata": {
        "id": "zs1C6_6FQ9d3"
      },
      "source": [
        "### Training "
      ]
    },
    {
      "cell_type": "code",
      "execution_count": 10,
      "metadata": {
        "colab": {
          "base_uri": "https://localhost:8080/"
        },
        "id": "3NSO-vhbQ9d4",
        "outputId": "45284d4e-bae3-4837-eec6-c55c5325fbf9"
      },
      "outputs": [
        {
          "output_type": "stream",
          "name": "stdout",
          "text": [
            "[1.0e+05 1.0e+06 1.0e+07 1.0e+01 1.0e+01 1.0e+02 1.0e+01 3.5e+01 3.0e+01] 23.03648\n",
            "33.47231\n",
            "execution time is: 543.7739081382751 seconds !\n"
          ]
        }
      ],
      "source": [
        "\n",
        "def fit(data, n_epochs, params: optax.Params, optimizer: optax.GradientTransformation, p_lb, p_ub) -> optax.Params:\n",
        "    # initialize params\n",
        "    states = optimizer.init(params)\n",
        "    x, y = data \n",
        "\n",
        "    \"\"\"\n",
        "    @jit\n",
        "    def step(params, states, x, y, p_lb, p_ub):\n",
        "        loss, grads = jax.value_and_grad(loss_fcn)(params, x, y, p_lb, p_ub)\n",
        "        updates, states = optimizer.update(grads, states, params)\n",
        "        params = optax.apply_updates(params, updates)\n",
        "\n",
        "        return params, states, loss, grads\n",
        "    \n",
        "    for epoch in range(n_epochs):\n",
        "        params, states, loss, grads = step(params, states, x, y, p_lb, p_ub)\n",
        "        if epoch % 1000 == 0:\n",
        "            print(f'epoch {epoch}, training loss: {loss}')\n",
        "            #print(grads['rc'].max(), grads['rc'].min())\n",
        "    \"\"\"  \n",
        "    # scanned step function\n",
        "    def step_for_scan(carry, epoch, x, y, p_lb, p_ub):\n",
        "        params, states = carry\n",
        "        loss, grads = jax.value_and_grad(loss_fcn)(params, x, y, p_lb, p_ub)\n",
        "        updates, states = optimizer.update(grads, states, params)\n",
        "        params = optax.apply_updates(params, updates)\n",
        "\n",
        "        return (params, states), loss\n",
        "\n",
        "    # scan in jax\n",
        "    step_func = partial(step_for_scan, x=x, y=y, p_lb=p_lb, p_ub=p_ub)\n",
        "    \n",
        "    # initials\n",
        "    carry_init = (params, states)\n",
        "    steps = jnp.arange(0, n_epochs, 1)\n",
        "    \n",
        "    # for loop training\n",
        "    carry_final, losses = lax.scan(\n",
        "        step_func, init=carry_init, xs=steps)\n",
        "    \n",
        "    # get results\n",
        "    params, states = carry_final\n",
        "\n",
        "    return params, losses\n",
        "\n",
        "## Run optimization for inference\n",
        "# parameter settings\n",
        "p_lb = jnp.array([1.0E3, 1.0E4, 1.0E5, 1.0, 1E-02, 1.0, 1.0E-1, 20.0, 20.0])\n",
        "p_ub = jnp.array([1.0E5, 1.0E6, 1.0E7, 10., 10., 100., 10., 35.0, 30.0])\n",
        "\n",
        "#p0 = jnp.array([9998.0869140625, 99998.0859375, 999999.5625, 9.94130802154541, 0.6232420802116394, 1.1442776918411255, 5.741048812866211, 34.82638931274414, 26.184139251708984])\n",
        "\n",
        "p0 = p_ub\n",
        "x0 = jax.device_put(y_train[0])\n",
        "print(p0, x0)\n",
        "print(loss_fcn({'rc':p0}, x0, y_train, p_lb, p_ub))\n",
        "\n",
        "n_epochs = 100000\n",
        "schedule = optax.exponential_decay(\n",
        "    init_value = 0.1, \n",
        "    transition_steps = 1000, \n",
        "    decay_rate = 0.99, \n",
        "    transition_begin=0, \n",
        "    staircase=False, \n",
        "    end_value=1e-05\n",
        ")\n",
        "optimizer = optax.chain(\n",
        "    optax.adabelief(learning_rate = schedule)\n",
        ")\n",
        "\n",
        "initial_params = {'rc': p0}\n",
        "s = time.time()\n",
        "params, losses = fit((x0, y_train), n_epochs, initial_params, optimizer, p_lb, p_ub)\n",
        "e = time.time()  \n",
        "print(f\"execution time is: {e-s} seconds !\")"
      ]
    },
    {
      "cell_type": "markdown",
      "metadata": {
        "id": "odIYacNQQ9d4"
      },
      "source": [
        "### Performance Check"
      ]
    },
    {
      "cell_type": "code",
      "execution_count": 11,
      "metadata": {
        "colab": {
          "base_uri": "https://localhost:8080/",
          "height": 817
        },
        "id": "o9H3f7hmQ9d4",
        "outputId": "162982fe-97a5-423a-b1e3-8cd4b41780d1"
      },
      "outputs": [
        {
          "output_type": "stream",
          "name": "stdout",
          "text": [
            "single forward simulation costs 0.5294826030731201 s!\n",
            "(674,) (674,)\n",
            "(673,)\n"
          ]
        },
        {
          "output_type": "stream",
          "name": "stderr",
          "text": [
            "WARNING:matplotlib.legend:No handles with labels found to put in legend.\n"
          ]
        },
        {
          "output_type": "display_data",
          "data": {
            "text/plain": [
              "<Figure size 864x432 with 1 Axes>"
            ],
            "image/png": "[encoded data removed]"
          },
          "metadata": {
            "needs_background": "light"
          }
        },
        {
          "output_type": "display_data",
          "data": {
            "text/plain": [
              "<Figure size 864x432 with 1 Axes>"
            ],
            "image/png": "[encoded data removed]"
          },
          "metadata": {
            "needs_background": "light"
          }
        }
      ],
      "source": [
        "# forward simulation with infered parameters for the whole data set\n",
        "ts = 0\n",
        "te = ts + n*dt\n",
        "d = data.values[:, :5]\n",
        "y = data.values[:, 5]\n",
        "forward_ts = time.time()\n",
        "model = lambda p,x: forward_parameters(p, x, ts, te, dt, solver, d)\n",
        "t_pred, ys_pred = model(params, x0)\n",
        "forward_te = time.time()\n",
        "print(f\"single forward simulation costs {forward_te-forward_ts} s!\")\n",
        "y_pred = ys_pred[:,0]\n",
        "\n",
        "print(t_pred.shape, y_pred.shape) \n",
        "print(y.shape)\n",
        "\n",
        "# plot losses\n",
        "plt.figure(figsize=(12,6))\n",
        "plt.plot(losses, 'b-')\n",
        "plt.ylabel('MSE')\n",
        "plt.xlabel('epoch')\n",
        "plt.legend()\n",
        "plt.savefig('parameter_inference_losses.png')\n",
        "\n",
        "# plot inference results\n",
        "plt.figure(figsize=(12,6))\n",
        "plt.plot(y, 'b-', label='Target')\n",
        "plt.plot(y_pred, 'r-', label=\"Prediction\")\n",
        "plt.ylabel('Temperature (C)')\n",
        "plt.legend()\n",
        "plt.savefig('parameter_inference.png')\n",
        "\n",
        "# save the parameters\n",
        "params_tolist = [float(p) for p in params['rc']]\n",
        "with open('zone_coefficients.json', 'w') as f:\n",
        "    json.dump(params_tolist,f)"
      ]
    }
  ],
  "metadata": {
    "language_info": {
      "name": "python"
    },
    "orig_nbformat": 4,
    "colab": {
      "provenance": [],
      "machine_shape": "hm"
    },
    "gpuClass": "premium",
    "kernelspec": {
      "name": "python3",
      "display_name": "Python 3"
    },
    "accelerator": "TPU"
  },
  "nbformat": 4,
  "nbformat_minor": 0
}