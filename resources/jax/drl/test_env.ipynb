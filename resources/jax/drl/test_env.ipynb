{
 "cells": [
  {
   "cell_type": "code",
   "execution_count": 12,
   "metadata": {},
   "outputs": [],
   "source": [
    "import env\n",
    "import gymnasium as gym \n",
    "import pandas as pd\n",
    "import os\n",
    "import numpy as np\n",
    "import matplotlib\n",
    "import matplotlib.pyplot as plt"
   ]
  },
  {
   "cell_type": "code",
   "execution_count": 13,
   "metadata": {},
   "outputs": [],
   "source": [
    "# load training data - 1-min sampling rate\n",
    "file_path = os.path.abspath('')\n",
    "parent_path = os.path.dirname(file_path)\n",
    "data_path = os.path.join(parent_path, 'data/disturbance_1min.csv')\n",
    "data = pd.read_csv(data_path, index_col=[0])\n",
    "index = range(0, len(data)*60, 60)\n",
    "data.index = index\n",
    "\n",
    "# sample every hour\n",
    "dt = 3600\n",
    "data = data.groupby([data.index // dt]).mean()\n",
    "n = len(data)"
   ]
  },
  {
   "cell_type": "code",
   "execution_count": 14,
   "metadata": {},
   "outputs": [
    {
     "data": {
      "text/html": [
       "<div>\n",
       "<style scoped>\n",
       "    .dataframe tbody tr th:only-of-type {\n",
       "        vertical-align: middle;\n",
       "    }\n",
       "\n",
       "    .dataframe tbody tr th {\n",
       "        vertical-align: top;\n",
       "    }\n",
       "\n",
       "    .dataframe thead th {\n",
       "        text-align: right;\n",
       "    }\n",
       "</style>\n",
       "<table border=\"1\" class=\"dataframe\">\n",
       "  <thead>\n",
       "    <tr style=\"text-align: right;\">\n",
       "      <th></th>\n",
       "      <th>out_temp</th>\n",
       "      <th>qint_lump</th>\n",
       "      <th>qhvac_lump</th>\n",
       "      <th>qwin_lump</th>\n",
       "      <th>qradin_lump</th>\n",
       "      <th>weighted_average</th>\n",
       "    </tr>\n",
       "  </thead>\n",
       "  <tbody>\n",
       "    <tr>\n",
       "      <th>0</th>\n",
       "      <td>21.118333</td>\n",
       "      <td>0.440416</td>\n",
       "      <td>-3.909012</td>\n",
       "      <td>0.0</td>\n",
       "      <td>0.012347</td>\n",
       "      <td>23.036480</td>\n",
       "    </tr>\n",
       "    <tr>\n",
       "      <th>1</th>\n",
       "      <td>22.098333</td>\n",
       "      <td>0.430104</td>\n",
       "      <td>0.000000</td>\n",
       "      <td>0.0</td>\n",
       "      <td>0.012347</td>\n",
       "      <td>25.051452</td>\n",
       "    </tr>\n",
       "    <tr>\n",
       "      <th>2</th>\n",
       "      <td>21.949167</td>\n",
       "      <td>0.426729</td>\n",
       "      <td>0.000000</td>\n",
       "      <td>0.0</td>\n",
       "      <td>0.012347</td>\n",
       "      <td>25.191672</td>\n",
       "    </tr>\n",
       "    <tr>\n",
       "      <th>3</th>\n",
       "      <td>21.798333</td>\n",
       "      <td>0.424369</td>\n",
       "      <td>0.000000</td>\n",
       "      <td>0.0</td>\n",
       "      <td>0.012347</td>\n",
       "      <td>25.244827</td>\n",
       "    </tr>\n",
       "    <tr>\n",
       "      <th>4</th>\n",
       "      <td>21.700000</td>\n",
       "      <td>0.407597</td>\n",
       "      <td>0.000000</td>\n",
       "      <td>0.0</td>\n",
       "      <td>0.012347</td>\n",
       "      <td>25.266527</td>\n",
       "    </tr>\n",
       "  </tbody>\n",
       "</table>\n",
       "</div>"
      ],
      "text/plain": [
       "    out_temp  qint_lump  qhvac_lump  qwin_lump  qradin_lump  weighted_average\n",
       "0  21.118333   0.440416   -3.909012        0.0     0.012347         23.036480\n",
       "1  22.098333   0.430104    0.000000        0.0     0.012347         25.051452\n",
       "2  21.949167   0.426729    0.000000        0.0     0.012347         25.191672\n",
       "3  21.798333   0.424369    0.000000        0.0     0.012347         25.244827\n",
       "4  21.700000   0.407597    0.000000        0.0     0.012347         25.266527"
      ]
     },
     "execution_count": 14,
     "metadata": {},
     "output_type": "execute_result"
    }
   ],
   "source": [
    "data.head()\n"
   ]
  },
  {
   "cell_type": "code",
   "execution_count": 15,
   "metadata": {},
   "outputs": [],
   "source": [
    "disturbance_names = ['out_temp', 'qint_lump', 'qwin_lump', 'qradin_lump']\n",
    "disturbance = data[disturbance_names].values\n",
    "\n",
    "u = data['qhvac_lump'].values"
   ]
  },
  {
   "cell_type": "code",
   "execution_count": 16,
   "metadata": {},
   "outputs": [],
   "source": [
    "# test rc state space\n",
    "rc_params = [10383.181640625, 499116.65625, 1321286.5, 1.53524649143219, 0.5000227689743042, 1.0003612041473389, 20.09742546081543]\n",
    "x0 = np.array([20, 20, 20])\n",
    "x_high = np.array([40., 80., 40.])\n",
    "x_low = np.array([10., 10., 10.])\n",
    "n_actions = 121\n",
    "u_high = [0]\n",
    "u_low = [-12.0]\n",
    "\n",
    "t_d = [t*dt for t in range(n)]\n"
   ]
  },
  {
   "cell_type": "code",
   "execution_count": 17,
   "metadata": {},
   "outputs": [],
   "source": [
    "A = np.array([[-1.97402551e-04,  0.00000000e+00,  1.92610415e-04],\n",
    "       [ 0.00000000e+00, -3.30784418e-06,  2.00281620e-06],\n",
    "       [ 1.51360733e-06,  7.56564853e-07, -2.27017218e-06]])\n",
    "Bu = np.array([[9.63095932e-05], [0.], [0.]])\n",
    "Bd = np.array([[4.79213586e-06, 9.63095932e-05, 0.00000000e+00, 0.00000000e+00],\n",
    "       [1.30502798e-06, 0.00000000e+00, 2.00353963e-06, 0.00000000e+00],\n",
    "       [0.00000000e+00, 0.00000000e+00, 0.00000000e+00, 7.56838127e-07]])\n",
    "C = np.array([[1., 0., 0.],\n",
    "       [0., 0., 0.]])\n",
    "D = np.array([[0.],\n",
    "            [1.]])"
   ]
  },
  {
   "cell_type": "code",
   "execution_count": 18,
   "metadata": {},
   "outputs": [
    {
     "name": "stderr",
     "output_type": "stream",
     "text": [
      "/opt/conda/lib/python3.8/site-packages/gymnasium/utils/passive_env_checker.py:181: UserWarning: \u001b[33mWARN: The obs returned by the `step()` method is not within the observation space.\u001b[0m\n",
      "  logger.warn(f\"{pre} is not within the observation space.\")\n"
     ]
    }
   ],
   "source": [
    "# test linear state space gym env\n",
    "import env.r4c3_discrete as rc\n",
    "\n",
    "disturbances = [t_d, disturbance]\n",
    "\n",
    "dist_fcn = rc.LinearInterpolation(*disturbances)\n",
    "lssm = gym.make(\"DiscreteLinearStateSpace-v0\",\n",
    "                A = A,\n",
    "                Bu = Bu, \n",
    "                Bd = Bd,\n",
    "                C = C,\n",
    "                D = D,\n",
    "                x0 = x0,\n",
    "                dist_fcn = dist_fcn,\n",
    "                x_high = x_high,\n",
    "                x_low = x_low,\n",
    "                n_actions = n_actions,\n",
    "                u_high = u_high,\n",
    "                u_low = u_low,\n",
    "                ts = 0,\n",
    "                te = dt*24.,\n",
    "                dt = dt).env\n",
    "\n",
    "state0, _ = lssm.reset(seed=0)\n",
    "assert lssm.observation_space.shape[0] == lssm.state.shape[0], \"state shape does not match observation space shape\"\n",
    "assert lssm.action_space.n == n_actions, \"action space does not match n_actions\"\n",
    "assert lssm.t == lssm.ts, \"initial time does not match given start time\"\n",
    "assert np.any(lssm.state.astype(np.float32) == state0), \"initial state does not match given initial state\"\n",
    "\n",
    "# sample actions from action space\n",
    "# step 1\n",
    "lssm.action_space.seed(12)\n",
    "action = lssm.action_space.sample() # sample action from action space\n",
    "state1, reward1, done1, _, _ = lssm.step(action) # step the environment\n",
    "assert lssm.t == lssm.ts + lssm.dt, \"time does not match given time step\"\n",
    "assert done1 == lssm.done, \"done does not match environment done\"\n",
    "assert reward1 == 1, \"reward does not match given reward\"\n",
    "assert np.any(lssm.state.astype(np.float32) == state1), \"state does not match given state\"\n",
    "\n",
    "# step 2\n",
    "action = lssm.action_space.sample()\n",
    "state2, reward2, done2, _, _ = lssm.step(action)\n",
    "assert lssm.t == lssm.ts + 2*lssm.dt, \"time does not match given time step\"\n",
    "assert done2 == lssm.done, \"done does not match environment done\"\n",
    "assert reward2 == 1, \"reward does not match given reward\"\n",
    "assert np.any(lssm.state.astype(np.float32) == state2), \"state does not match given state\"\n",
    "\n",
    "# reset environment\n",
    "state3, _ = lssm.reset(seed=0)\n",
    "assert lssm.t == lssm.ts, \"time does not match given start time\"\n",
    "assert np.any(lssm.state.astype(np.float32) == state3), \"state does not match given state\"\n",
    "assert np.any(state3 == state0), \"state does not previous initial state\""
   ]
  },
  {
   "cell_type": "code",
   "execution_count": 27,
   "metadata": {},
   "outputs": [
    {
     "name": "stdout",
     "output_type": "stream",
     "text": [
      "[[-1.97402551e-04  0.00000000e+00  1.92610415e-04]\n",
      " [ 0.00000000e+00 -3.30784418e-06  2.00281620e-06]\n",
      " [ 1.51360733e-06  7.56564853e-07 -2.27017218e-06]] [[9.63095932e-05]\n",
      " [0.00000000e+00]\n",
      " [0.00000000e+00]] [[4.79213586e-06 9.63095932e-05 0.00000000e+00 0.00000000e+00]\n",
      " [1.30502798e-06 0.00000000e+00 2.00353963e-06 0.00000000e+00]\n",
      " [0.00000000e+00 0.00000000e+00 0.00000000e+00 7.56838127e-07]] [[1. 0. 0.]\n",
      " [0. 0. 0.]] [[0.]\n",
      " [1.]]\n",
      "=========================================\n",
      "[20 20 20] [40. 80. 40.] [10. 10. 10.]\n",
      "=========================================\n",
      "Box([10. 10. 10.  0.], [40. 80. 40.  4.], (4,), float32)\n",
      "(array([20.011822, 20.450464, 19.64416 ,  0.      ], dtype=float32), {})\n"
     ]
    },
    {
     "data": {
      "text/plain": [
       "(array([20.011822 , 20.447788 , 19.648394 ,  1.5333333], dtype=float32),\n",
       " -0.6166667849794238,\n",
       " False,\n",
       " False,\n",
       " {})"
      ]
     },
     "execution_count": 27,
     "metadata": {},
     "output_type": "execute_result"
    }
   ],
   "source": [
    "env = gym.make(\"R4C3Discrete-v0\",\n",
    "    rc_params = rc_params,\n",
    "    x0 = x0,\n",
    "    x_high = x_high,\n",
    "    x_low = x_low,\n",
    "    n_actions = n_actions,\n",
    "    u_high = u_high,\n",
    "    u_low = u_low,\n",
    "    disturbances = (t_d, disturbance),\n",
    "    ts = 0,\n",
    "    te = 24.*dt,\n",
    "    dt = dt).env\n",
    "print(env.A, env.Bu, env.Bd, env.C, env.D)\n",
    "print(\"=========================================\")\n",
    "print(env.x0, env.high, env.low)\n",
    "print(\"=========================================\")\n",
    "print(env.observation_space)\n",
    "print(env.reset(seed=0)) #TODO: seed is not working right now\n",
    "env.action_space.seed(12)\n",
    "action = env.action_space.sample()\n",
    "env.step(action)"
   ]
  },
  {
   "cell_type": "code",
   "execution_count": 20,
   "metadata": {},
   "outputs": [
    {
     "name": "stdout",
     "output_type": "stream",
     "text": [
      "-3.909011583503724 80\n",
      "0.0 120\n",
      "0.0 120\n",
      "0.0 120\n",
      "0.0 120\n",
      "0.0 120\n",
      "-0.008112508783001288 119\n",
      "-0.1795707385732975 118\n",
      "-7.049829225505723 49\n",
      "-5.751299873544396 62\n",
      "-4.347338930665189 76\n",
      "-3.667525614615987 83\n",
      "-3.615029677453877 83\n",
      "-3.39209038667379 86\n",
      "-3.3527780409798345 86\n",
      "-3.2431797200190573 87\n",
      "-2.8611788167807473 91\n",
      "-2.7238136544326124 92\n",
      "-0.29386119041929604 117\n",
      "-0.29540834784551434 117\n",
      "-0.4682965790873039 115\n",
      "-0.013543364561231497 119\n",
      "0.0 120\n",
      "0.0 120\n"
     ]
    }
   ],
   "source": [
    "env.reset()\n",
    "\n",
    "i = 0\n",
    "done = False\n",
    "while i < n and not done:\n",
    "    action = (u[i] - np.array(u_low))*(n_actions - 1) / (np.array(u_high) - np.array(u_low))\n",
    "    action = int(action)\n",
    "    print(u[i], action)\n",
    "    obs, reward, done, _, _ = env.step(action)\n",
    "\n",
    "    i += 1\n"
   ]
  },
  {
   "cell_type": "code",
   "execution_count": 21,
   "metadata": {},
   "outputs": [
    {
     "data": {
      "text/plain": [
       "Box([10. 10. 10.  0.], [40. 80. 40.  4.], (4,), float32)"
      ]
     },
     "execution_count": 21,
     "metadata": {},
     "output_type": "execute_result"
    }
   ],
   "source": [
    "obs\n",
    "env.observation_space\n"
   ]
  },
  {
   "cell_type": "code",
   "execution_count": 22,
   "metadata": {},
   "outputs": [
    {
     "data": {
      "text/plain": [
       "Box([-4.8000002e+00 -3.4028235e+38 -4.1887903e-01 -3.4028235e+38], [4.8000002e+00 3.4028235e+38 4.1887903e-01 3.4028235e+38], (4,), float32)"
      ]
     },
     "execution_count": 22,
     "metadata": {},
     "output_type": "execute_result"
    }
   ],
   "source": [
    "cart = gym.make(\"CartPole-v1\").env\n",
    "obs, _ = cart.reset()\n",
    "cart.observation_space"
   ]
  }
 ],
 "metadata": {
  "kernelspec": {
   "display_name": "base",
   "language": "python",
   "name": "python3"
  },
  "language_info": {
   "codemirror_mode": {
    "name": "ipython",
    "version": 3
   },
   "file_extension": ".py",
   "mimetype": "text/x-python",
   "name": "python",
   "nbconvert_exporter": "python",
   "pygments_lexer": "ipython3",
   "version": "3.8.16"
  },
  "orig_nbformat": 4
 },
 "nbformat": 4,
 "nbformat_minor": 2
}
