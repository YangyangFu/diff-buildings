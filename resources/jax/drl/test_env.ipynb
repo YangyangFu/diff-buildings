{
 "cells": [
  {
   "cell_type": "code",
   "execution_count": 1,
   "metadata": {},
   "outputs": [],
   "source": [
    "import env\n",
    "import gymnasium as gym \n",
    "import pandas as pd\n",
    "import os"
   ]
  },
  {
   "cell_type": "code",
   "execution_count": 2,
   "metadata": {},
   "outputs": [],
   "source": [
    "# load training data - 1-min sampling rate\n",
    "file_path = os.path.abspath('')\n",
    "parent_path = os.path.dirname(file_path)\n",
    "data_path = os.path.join(parent_path, 'data/disturbance_1min.csv')\n",
    "data = pd.read_csv(data_path, index_col=[0])\n",
    "index = range(0, len(data)*60, 60)\n",
    "data.index = index\n",
    "\n",
    "# sample every hour\n",
    "dt = 3600\n",
    "data = data.groupby([data.index // dt]).mean()\n",
    "n = len(data)"
   ]
  },
  {
   "cell_type": "code",
   "execution_count": 3,
   "metadata": {},
   "outputs": [
    {
     "data": {
      "text/html": [
       "<div>\n",
       "<style scoped>\n",
       "    .dataframe tbody tr th:only-of-type {\n",
       "        vertical-align: middle;\n",
       "    }\n",
       "\n",
       "    .dataframe tbody tr th {\n",
       "        vertical-align: top;\n",
       "    }\n",
       "\n",
       "    .dataframe thead th {\n",
       "        text-align: right;\n",
       "    }\n",
       "</style>\n",
       "<table border=\"1\" class=\"dataframe\">\n",
       "  <thead>\n",
       "    <tr style=\"text-align: right;\">\n",
       "      <th></th>\n",
       "      <th>out_temp</th>\n",
       "      <th>qint_lump</th>\n",
       "      <th>qhvac_lump</th>\n",
       "      <th>qwin_lump</th>\n",
       "      <th>qradin_lump</th>\n",
       "      <th>weighted_average</th>\n",
       "    </tr>\n",
       "  </thead>\n",
       "  <tbody>\n",
       "    <tr>\n",
       "      <th>0</th>\n",
       "      <td>21.118333</td>\n",
       "      <td>0.440416</td>\n",
       "      <td>-3.909012</td>\n",
       "      <td>0.0</td>\n",
       "      <td>0.012347</td>\n",
       "      <td>23.036480</td>\n",
       "    </tr>\n",
       "    <tr>\n",
       "      <th>1</th>\n",
       "      <td>22.098333</td>\n",
       "      <td>0.430104</td>\n",
       "      <td>0.000000</td>\n",
       "      <td>0.0</td>\n",
       "      <td>0.012347</td>\n",
       "      <td>25.051452</td>\n",
       "    </tr>\n",
       "    <tr>\n",
       "      <th>2</th>\n",
       "      <td>21.949167</td>\n",
       "      <td>0.426729</td>\n",
       "      <td>0.000000</td>\n",
       "      <td>0.0</td>\n",
       "      <td>0.012347</td>\n",
       "      <td>25.191672</td>\n",
       "    </tr>\n",
       "    <tr>\n",
       "      <th>3</th>\n",
       "      <td>21.798333</td>\n",
       "      <td>0.424369</td>\n",
       "      <td>0.000000</td>\n",
       "      <td>0.0</td>\n",
       "      <td>0.012347</td>\n",
       "      <td>25.244827</td>\n",
       "    </tr>\n",
       "    <tr>\n",
       "      <th>4</th>\n",
       "      <td>21.700000</td>\n",
       "      <td>0.407597</td>\n",
       "      <td>0.000000</td>\n",
       "      <td>0.0</td>\n",
       "      <td>0.012347</td>\n",
       "      <td>25.266527</td>\n",
       "    </tr>\n",
       "  </tbody>\n",
       "</table>\n",
       "</div>"
      ],
      "text/plain": [
       "    out_temp  qint_lump  qhvac_lump  qwin_lump  qradin_lump  weighted_average\n",
       "0  21.118333   0.440416   -3.909012        0.0     0.012347         23.036480\n",
       "1  22.098333   0.430104    0.000000        0.0     0.012347         25.051452\n",
       "2  21.949167   0.426729    0.000000        0.0     0.012347         25.191672\n",
       "3  21.798333   0.424369    0.000000        0.0     0.012347         25.244827\n",
       "4  21.700000   0.407597    0.000000        0.0     0.012347         25.266527"
      ]
     },
     "execution_count": 3,
     "metadata": {},
     "output_type": "execute_result"
    }
   ],
   "source": [
    "data.head()\n"
   ]
  },
  {
   "cell_type": "code",
   "execution_count": 4,
   "metadata": {},
   "outputs": [
    {
     "data": {
      "text/plain": [
       "(673, 4)"
      ]
     },
     "execution_count": 4,
     "metadata": {},
     "output_type": "execute_result"
    }
   ],
   "source": [
    "disturbance_names = ['out_temp', 'qint_lump', 'qwin_lump', 'qradin_lump']\n",
    "disturbance = data[disturbance_names].values\n",
    "disturbance.shape\n"
   ]
  },
  {
   "cell_type": "code",
   "execution_count": 5,
   "metadata": {},
   "outputs": [],
   "source": [
    "# test rc state space\n",
    "rc_params = [10383.181640625, 499116.65625, 1321286.5, 1.53524649143219, 0.5000227689743042, 1.0003612041473389, 20.09742546081543]\n",
    "x0 = [20, 20, 20]\n",
    "x_high = [40, 80, 40]\n",
    "x_low = [10, 10, 10]\n",
    "n_actions = 101\n",
    "u_high = [0]\n",
    "u_low = [-20.0]\n",
    "\n",
    "t_d = [t*dt for t in range(n)]\n"
   ]
  },
  {
   "cell_type": "code",
   "execution_count": 6,
   "metadata": {},
   "outputs": [
    {
     "data": {
      "text/plain": [
       "array([2.11183333e+01, 4.40416205e-01, 0.00000000e+00, 1.23466953e-02])"
      ]
     },
     "execution_count": 6,
     "metadata": {},
     "output_type": "execute_result"
    }
   ],
   "source": [
    "from scipy import interpolate \n",
    "interp = interpolate.interp1d(t_d, disturbance, axis=0, kind='linear', fill_value='extrapolate') # 'nearest', 'zero', 'slinear', 'quadratic', 'cubic', 'next'\n",
    "interp(0)"
   ]
  },
  {
   "cell_type": "code",
   "execution_count": 7,
   "metadata": {},
   "outputs": [],
   "source": [
    "\n",
    "env = gym.make(\"R4C3Discrete-v0\",\n",
    "    rc_params = rc_params,\n",
    "    x0 = x0,\n",
    "    x_high = x_high,\n",
    "    x_low = x_low,\n",
    "    n_actions = n_actions,\n",
    "    u_high = u_high,\n",
    "    u_low = u_low,\n",
    "    disturbances = (t_d, disturbance),\n",
    "    ts = 0,\n",
    "    te = 24.*dt,\n",
    "    dt = dt).env\n",
    "\n",
    "\n",
    "#obs, _ = gym.reset()"
   ]
  }
 ],
 "metadata": {
  "kernelspec": {
   "display_name": "base",
   "language": "python",
   "name": "python3"
  },
  "language_info": {
   "codemirror_mode": {
    "name": "ipython",
    "version": 3
   },
   "file_extension": ".py",
   "mimetype": "text/x-python",
   "name": "python",
   "nbconvert_exporter": "python",
   "pygments_lexer": "ipython3",
   "version": "3.8.16"
  },
  "orig_nbformat": 4
 },
 "nbformat": 4,
 "nbformat_minor": 2
}
