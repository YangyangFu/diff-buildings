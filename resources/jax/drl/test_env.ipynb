{
 "cells": [
  {
   "cell_type": "code",
   "execution_count": null,
   "metadata": {},
   "outputs": [],
   "source": [
    "import env\n",
    "import gymnasium as gym \n",
    "import pandas as pd\n",
    "import os"
   ]
  },
  {
   "cell_type": "code",
   "execution_count": null,
   "metadata": {},
   "outputs": [],
   "source": [
    "# load training data - 1-min sampling rate\n",
    "file_path = os.path.abspath('')\n",
    "parent_path = os.path.dirname(file_path)\n",
    "data_path = os.path.join(parent_path, 'data/disturbance_1min.csv')\n",
    "data = pd.read_csv(data_path, index_col=[0])\n",
    "index = range(0, len(data)*60, 60)\n",
    "data.index = index\n",
    "\n",
    "# sample every hour\n",
    "dt = 3600\n",
    "data = data.groupby([data.index // dt]).mean()\n",
    "n = len(data)"
   ]
  },
  {
   "cell_type": "code",
   "execution_count": null,
   "metadata": {},
   "outputs": [],
   "source": [
    "data.head()\n"
   ]
  },
  {
   "cell_type": "code",
   "execution_count": null,
   "metadata": {},
   "outputs": [],
   "source": [
    "disturbance_names = ['out_temp', 'qint_lump', 'qwin_lump', 'qradin_lump']\n",
    "disturbance = data[disturbance_names].values\n",
    "disturbance.shape\n"
   ]
  },
  {
   "cell_type": "code",
   "execution_count": null,
   "metadata": {},
   "outputs": [],
   "source": [
    "# test rc state space\n",
    "rc_params = [10383.181640625, 499116.65625, 1321286.5, 1.53524649143219, 0.5000227689743042, 1.0003612041473389, 20.09742546081543]\n",
    "x0 = [20, 20, 20]\n",
    "x_high = [40, 80, 40]\n",
    "x_low = [10, 10, 10]\n",
    "n_actions = 101\n",
    "u_high = [0]\n",
    "u_low = [-20.0]\n",
    "\n",
    "t_d = [t*dt for t in range(n)]\n"
   ]
  },
  {
   "cell_type": "code",
   "execution_count": null,
   "metadata": {},
   "outputs": [],
   "source": [
    "from scipy import interpolate \n",
    "interp = interpolate.interp1d(t_d, disturbance, axis=0, kind='linear', fill_value='extrapolate') # 'nearest', 'zero', 'slinear', 'quadratic', 'cubic', 'next'\n",
    "interp(0)"
   ]
  },
  {
   "cell_type": "code",
   "execution_count": null,
   "metadata": {},
   "outputs": [],
   "source": [
    "\n",
    "env = gym.make(\"R4C3Discrete-v0\",\n",
    "    rc_params = rc_params,\n",
    "    x0 = x0,\n",
    "    x_high = x_high,\n",
    "    x_low = x_low,\n",
    "    n_actions = n_actions,\n",
    "    u_high = u_high,\n",
    "    u_low = u_low,\n",
    "    disturbances = (t_d, disturbance),\n",
    "    ts = 0,\n",
    "    te = 24.*dt,\n",
    "    dt = dt).env\n",
    "\n",
    "\n",
    "#obs, _ = gym.reset()"
   ]
  }
 ],
 "metadata": {
  "kernelspec": {
   "display_name": "base",
   "language": "python",
   "name": "python3"
  },
  "language_info": {
   "codemirror_mode": {
    "name": "ipython",
    "version": 3
   },
   "file_extension": ".py",
   "mimetype": "text/x-python",
   "name": "python",
   "nbconvert_exporter": "python",
   "pygments_lexer": "ipython3",
   "version": "3.8.16"
  },
  "orig_nbformat": 4
 },
 "nbformat": 4,
 "nbformat_minor": 2
}
