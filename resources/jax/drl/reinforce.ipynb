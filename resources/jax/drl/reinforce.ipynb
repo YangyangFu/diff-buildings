{
 "cells": [
  {
   "attachments": {},
   "cell_type": "markdown",
   "metadata": {},
   "source": [
    "Simple implementation of model-free REINFORCE algorithm, which is a policy-gradient based method.\n",
    "The code procedure is:\n",
    "\n",
    "1. Initialize policy parameters θ\n",
    "2. For each episode do:\n",
    "    2.1. Generate an episode trajectory τ = {(s_1, a_1, r_1), ..., (s_T, a_T, r_T)} by following the policy π_θ\n",
    "    2.2. For each time step t in the episode do:\n",
    "    \n",
    "        2.2.1. Calculate the return G_t = r_{t+1} + γr_{t+2} + ... + γ^(T-t)r_T\n",
    "\n",
    "        2.2.2. Calculate the gradient of the policy with respect to the parameters θ: ∇_θ log(π_θ(a_t|s_t)) * G_t\n",
    "        \n",
    "        2.2.3. Update the policy parameters: θ = θ + α * ∇_θ log(π_θ(a_t|s_t)) * G_t\n",
    "3. Repeat steps 2-3 until the policy converges or a stopping criterion is met\n",
    "\n",
    "where \n",
    "\n",
    "- θ are the policy parameters.\n",
    "- π_θ(a_t|s_t) is the probability of taking action a_t in state s_t under policy π parameterized by θ.\n",
    "- G_t is the return from time step t onwards.\n",
    "- γ is the discount factor, which balances the importance of immediate and future rewards.\n",
    "- α is the learning rate, which controls the step size of the gradient ascent update.\n",
    "- T is the number of time steps in the episode."
   ]
  },
  {
   "cell_type": "code",
   "execution_count": null,
   "metadata": {},
   "outputs": [],
   "source": [
    "# need a virtual display for rendering in docker\n",
    "from pyvirtualdisplay import Display\n",
    "display = Display(visible=0, size=(1400, 900))\n",
    "display.start()"
   ]
  },
  {
   "cell_type": "code",
   "execution_count": 135,
   "metadata": {},
   "outputs": [],
   "source": [
    "import jax\n",
    "import jax.numpy as jnp\n",
    "import gymnasium as gym\n",
    "import optax\n",
    "from functools import partial \n",
    "\n",
    "env = gym.make('CartPole-v1', render_mode=\"rgb_array\").env\n",
    "\n",
    "\n",
    "# Define the policy\n",
    "def policy(state, params):\n",
    "    W, b = params\n",
    "    logits = jnp.dot(W, state) + b\n",
    "    probs = jax.nn.softmax(logits)\n",
    "    action = jax.random.categorical(jax.random.PRNGKey(0), logits)\n",
    "    return action, probs\n",
    "\n",
    "# Define the loss function\n",
    "\n",
    "\n",
    "def loss(params, rollout):\n",
    "    A, B, W, b = params\n",
    "    states, actions, rewards, next_states = rollout\n",
    "\n",
    "    # Compute log likelihood of actions taken by the policy\n",
    "    _, action_probs = jax.vmap(policy, in_axes=(0, None))(states, (W, b))\n",
    "    log_probs = jnp.log(\n",
    "        jnp.sum(action_probs * jax.nn.one_hot(actions, 2), axis=-1))\n",
    "\n",
    "    # Compute the loss\n",
    "    loss = -jnp.mean(log_probs * rewards)\n",
    "\n",
    "    return loss\n",
    "\n",
    "\n",
    "# Define the optimizer\n",
    "optimizer = optax.adam(learning_rate=1e-3)\n",
    "\n",
    "# Initialize parameters\n",
    "key = jax.random.PRNGKey(0)\n",
    "A = jax.random.normal(key, shape=(4, 4))\n",
    "B = jax.random.normal(key, shape=(4,))\n",
    "W = jax.random.normal(key, shape=(2, 4))\n",
    "b = jax.random.normal(key, shape=(2,))\n",
    "\n",
    "params = (A, B, W, b)\n",
    "\n",
    "# Define the rollout function\n",
    "\n",
    "\n",
    "def rollout(params, rng_key, env):\n",
    "    states = []\n",
    "    actions = []\n",
    "    rewards = []\n",
    "    next_states = []\n",
    "\n",
    "    A, B, W, b = params\n",
    "    state, _ = env.reset()\n",
    "    done = False\n",
    "\n",
    "    while not done:\n",
    "        action, probs = policy(state, (W,b))\n",
    "        print(probs)\n",
    "        print(action)\n",
    "        next_state, reward, done, _, _ = env.step(int(action))\n",
    "        states.append(state)\n",
    "        actions.append(action)\n",
    "        rewards.append(reward)\n",
    "        next_states.append(next_state)\n",
    "        state = next_state\n",
    "\n",
    "    return (jnp.stack(states), jnp.array(actions), jnp.array(rewards), jnp.stack(next_states))\n",
    "\n"
   ]
  },
  {
   "cell_type": "code",
   "execution_count": 136,
   "metadata": {},
   "outputs": [
    {
     "name": "stdout",
     "output_type": "stream",
     "text": [
      "4\n",
      "[0.14785823 0.8521418 ]\n",
      "1\n",
      "[0.08323887 0.9167611 ]\n",
      "1\n",
      "[0.04545513 0.95454484]\n",
      "1\n",
      "[0.02439188 0.97560805]\n",
      "1\n",
      "[0.01295572 0.9870443 ]\n",
      "1\n",
      "[0.00683623 0.99316376]\n",
      "1\n",
      "[0.00358941 0.99641055]\n",
      "1\n",
      "[0.00187658 0.99812347]\n",
      "1\n",
      "[9.7716798e-04 9.9902284e-01]\n",
      "1\n"
     ]
    },
    {
     "data": {
      "text/plain": [
       "(Array([[ 0.02627945,  0.04627219, -0.00974073, -0.04700811],\n",
       "        [ 0.02720489,  0.24153244, -0.0106809 , -0.34274834],\n",
       "        [ 0.03203554,  0.4368047 , -0.01753586, -0.6387802 ],\n",
       "        [ 0.04077164,  0.63216674, -0.03031147, -0.9369334 ],\n",
       "        [ 0.05341497,  0.82768404, -0.04905013, -1.2389848 ],\n",
       "        [ 0.06996865,  1.0234004 , -0.07382983, -1.5466213 ],\n",
       "        [ 0.09043666,  1.2193272 , -0.10476226, -1.8613971 ],\n",
       "        [ 0.11482321,  1.4154303 , -0.1419902 , -2.1846828 ],\n",
       "        [ 0.1431318 ,  1.611615  , -0.18568386, -2.5176032 ]],      dtype=float32),\n",
       " Array([1, 1, 1, 1, 1, 1, 1, 1, 1], dtype=int32),\n",
       " Array([1., 1., 1., 1., 1., 1., 1., 1., 1.], dtype=float32),\n",
       " Array([[ 0.02720489,  0.24153244, -0.0106809 , -0.34274834],\n",
       "        [ 0.03203554,  0.4368047 , -0.01753586, -0.6387802 ],\n",
       "        [ 0.04077164,  0.63216674, -0.03031147, -0.9369334 ],\n",
       "        [ 0.05341497,  0.82768404, -0.04905013, -1.2389848 ],\n",
       "        [ 0.06996865,  1.0234004 , -0.07382983, -1.5466213 ],\n",
       "        [ 0.09043666,  1.2193272 , -0.10476226, -1.8613971 ],\n",
       "        [ 0.11482321,  1.4154303 , -0.1419902 , -2.1846828 ],\n",
       "        [ 0.1431318 ,  1.611615  , -0.18568386, -2.5176032 ],\n",
       "        [ 0.1753641 ,  1.8077084 , -0.23603593, -2.860965  ]],      dtype=float32))"
      ]
     },
     "execution_count": 136,
     "metadata": {},
     "output_type": "execute_result"
    }
   ],
   "source": []
  },
  {
   "cell_type": "code",
   "execution_count": 131,
   "metadata": {},
   "outputs": [
    {
     "data": {
      "text/plain": [
       "(Array([[ 0.01369617, -0.02302133, -0.04590265, -0.04834723],\n",
       "        [ 0.01323574,  0.17272775, -0.04686959, -0.3551522 ],\n",
       "        [ 0.0166903 ,  0.3684837 , -0.05397264, -0.66223824],\n",
       "        [ 0.02405997,  0.5643134 , -0.0672174 , -0.97141534],\n",
       "        [ 0.03534624,  0.76026994, -0.08664571, -1.2844334 ],\n",
       "        [ 0.05055164,  0.95638156, -0.11233438, -1.6029392 ],\n",
       "        [ 0.06967927,  1.1526395 , -0.14439316, -1.9284277 ],\n",
       "        [ 0.09273206,  1.3489841 , -0.18296172, -2.262184  ]],      dtype=float32),\n",
       " Array([1, 1, 1, 1, 1, 1, 1, 1], dtype=int32),\n",
       " Array([1., 1., 1., 1., 1., 1., 1., 1.], dtype=float32),\n",
       " Array([[ 0.01323574,  0.17272775, -0.04686959, -0.3551522 ],\n",
       "        [ 0.0166903 ,  0.3684837 , -0.05397264, -0.66223824],\n",
       "        [ 0.02405997,  0.5643134 , -0.0672174 , -0.97141534],\n",
       "        [ 0.03534624,  0.76026994, -0.08664571, -1.2844334 ],\n",
       "        [ 0.05055164,  0.95638156, -0.11233438, -1.6029392 ],\n",
       "        [ 0.06967927,  1.1526395 , -0.14439316, -1.9284277 ],\n",
       "        [ 0.09273206,  1.3489841 , -0.18296172, -2.262184  ],\n",
       "        [ 0.11971174,  1.545288  , -0.2282054 , -2.605216  ]],      dtype=float32))"
      ]
     },
     "execution_count": 131,
     "metadata": {},
     "output_type": "execute_result"
    }
   ],
   "source": [
    "# add some test\n",
    "rollout_fn = jax.tree_util.Partial(rollout, params)\n",
    "rollout_fn(key, env)"
   ]
  },
  {
   "cell_type": "code",
   "execution_count": 126,
   "metadata": {},
   "outputs": [
    {
     "name": "stdout",
     "output_type": "stream",
     "text": [
      "Iteration 0, loss=0.0000\n"
     ]
    },
    {
     "ename": "KeyboardInterrupt",
     "evalue": "",
     "output_type": "error",
     "traceback": [
      "\u001b[0;31m---------------------------------------------------------------------------\u001b[0m",
      "\u001b[0;31mKeyboardInterrupt\u001b[0m                         Traceback (most recent call last)",
      "Cell \u001b[0;32mIn[126], line 11\u001b[0m\n\u001b[1;32m      6\u001b[0m \u001b[39m# this seems not working as [env] is not treated as jnp object\u001b[39;00m\n\u001b[1;32m      7\u001b[0m \u001b[39m#rollout_fn = jax.jit(partial(rollout, params))\u001b[39;00m\n\u001b[1;32m      8\u001b[0m \u001b[39m#rollout_batch = jax.vmap(rollout_fn)(\u001b[39;00m\n\u001b[1;32m      9\u001b[0m \u001b[39m#    jax.random.split(subkey, 10), [env] * 10)\u001b[39;00m\n\u001b[1;32m     10\u001b[0m rollout_fn \u001b[39m=\u001b[39m partial(rollout, params)\n\u001b[0;32m---> 11\u001b[0m rollout_batch \u001b[39m=\u001b[39m rollout_fn(key, env)\n\u001b[1;32m     13\u001b[0m grads \u001b[39m=\u001b[39m jax\u001b[39m.\u001b[39mgrad(loss)(params, rollout_batch)\n\u001b[1;32m     14\u001b[0m updates, states_opt \u001b[39m=\u001b[39m optimizer\u001b[39m.\u001b[39mupdate(grads, states_opt, params)\n",
      "Cell \u001b[0;32mIn[112], line 80\u001b[0m, in \u001b[0;36mrollout\u001b[0;34m(params, rng_key, env)\u001b[0m\n\u001b[1;32m     77\u001b[0m     next_states\u001b[39m.\u001b[39mappend(next_state)\n\u001b[1;32m     78\u001b[0m     state \u001b[39m=\u001b[39m next_state\n\u001b[0;32m---> 80\u001b[0m \u001b[39mreturn\u001b[39;00m (jnp\u001b[39m.\u001b[39mstack(states), jnp\u001b[39m.\u001b[39;49marray(actions), jnp\u001b[39m.\u001b[39marray(rewards), jnp\u001b[39m.\u001b[39mstack(next_states))\n",
      "File \u001b[0;32m/opt/conda/lib/python3.8/site-packages/jax/_src/numpy/lax_numpy.py:2023\u001b[0m, in \u001b[0;36marray\u001b[0;34m(object, dtype, copy, order, ndmin)\u001b[0m\n\u001b[1;32m   2021\u001b[0m \u001b[39melif\u001b[39;00m \u001b[39misinstance\u001b[39m(\u001b[39mobject\u001b[39m, (\u001b[39mlist\u001b[39m, \u001b[39mtuple\u001b[39m)):\n\u001b[1;32m   2022\u001b[0m   \u001b[39mif\u001b[39;00m \u001b[39mobject\u001b[39m:\n\u001b[0;32m-> 2023\u001b[0m     out \u001b[39m=\u001b[39m stack([asarray(elt, dtype\u001b[39m=\u001b[39;49mdtype) \u001b[39mfor\u001b[39;49;00m elt \u001b[39min\u001b[39;49;00m \u001b[39mobject\u001b[39;49m])\n\u001b[1;32m   2024\u001b[0m   \u001b[39melse\u001b[39;00m:\n\u001b[1;32m   2025\u001b[0m     out \u001b[39m=\u001b[39m np\u001b[39m.\u001b[39marray([], dtype\u001b[39m=\u001b[39mdtype)\n",
      "File \u001b[0;32m/opt/conda/lib/python3.8/site-packages/jax/_src/numpy/lax_numpy.py:1760\u001b[0m, in \u001b[0;36mstack\u001b[0;34m(arrays, axis, out, dtype)\u001b[0m\n\u001b[1;32m   1758\u001b[0m     \u001b[39mraise\u001b[39;00m \u001b[39mValueError\u001b[39;00m(\u001b[39m\"\u001b[39m\u001b[39mAll input arrays must have the same shape.\u001b[39m\u001b[39m\"\u001b[39m)\n\u001b[1;32m   1759\u001b[0m   new_arrays\u001b[39m.\u001b[39mappend(expand_dims(a, axis))\n\u001b[0;32m-> 1760\u001b[0m \u001b[39mreturn\u001b[39;00m concatenate(new_arrays, axis\u001b[39m=\u001b[39;49maxis, dtype\u001b[39m=\u001b[39;49mdtype)\n",
      "File \u001b[0;32m/opt/conda/lib/python3.8/site-packages/jax/_src/numpy/lax_numpy.py:1810\u001b[0m, in \u001b[0;36mconcatenate\u001b[0;34m(arrays, axis, dtype)\u001b[0m\n\u001b[1;32m   1808\u001b[0m axis \u001b[39m=\u001b[39m _canonicalize_axis(axis, ndim(arrays[\u001b[39m0\u001b[39m]))\n\u001b[1;32m   1809\u001b[0m \u001b[39mif\u001b[39;00m dtype \u001b[39mis\u001b[39;00m \u001b[39mNone\u001b[39;00m:\n\u001b[0;32m-> 1810\u001b[0m   arrays_out \u001b[39m=\u001b[39m _promote_dtypes(\u001b[39m*\u001b[39;49marrays)\n\u001b[1;32m   1811\u001b[0m \u001b[39melse\u001b[39;00m:\n\u001b[1;32m   1812\u001b[0m   arrays_out \u001b[39m=\u001b[39m [asarray(arr, dtype\u001b[39m=\u001b[39mdtype) \u001b[39mfor\u001b[39;00m arr \u001b[39min\u001b[39;00m arrays]\n",
      "File \u001b[0;32m/opt/conda/lib/python3.8/site-packages/jax/_src/numpy/util.py:284\u001b[0m, in \u001b[0;36m_promote_dtypes\u001b[0;34m(*args)\u001b[0m\n\u001b[1;32m    282\u001b[0m   \u001b[39mreturn\u001b[39;00m [_asarray(arg) \u001b[39mfor\u001b[39;00m arg \u001b[39min\u001b[39;00m args]\n\u001b[1;32m    283\u001b[0m \u001b[39melse\u001b[39;00m:\n\u001b[0;32m--> 284\u001b[0m   to_dtype, weak_type \u001b[39m=\u001b[39m dtypes\u001b[39m.\u001b[39;49m_lattice_result_type(\u001b[39m*\u001b[39;49margs)\n\u001b[1;32m    285\u001b[0m   to_dtype \u001b[39m=\u001b[39m dtypes\u001b[39m.\u001b[39mcanonicalize_dtype(to_dtype)\n\u001b[1;32m    286\u001b[0m   \u001b[39mreturn\u001b[39;00m [lax_internal\u001b[39m.\u001b[39m_convert_element_type(x, to_dtype, weak_type) \u001b[39mfor\u001b[39;00m x \u001b[39min\u001b[39;00m args]\n",
      "File \u001b[0;32m/opt/conda/lib/python3.8/site-packages/jax/_src/dtypes.py:651\u001b[0m, in \u001b[0;36m_lattice_result_type\u001b[0;34m(*args)\u001b[0m\n\u001b[1;32m    648\u001b[0m \u001b[39melse\u001b[39;00m:\n\u001b[1;32m    649\u001b[0m   result_type \u001b[39m=\u001b[39m _least_upper_bound(config\u001b[39m.\u001b[39mjax_numpy_dtype_promotion,\n\u001b[1;32m    650\u001b[0m                                    \u001b[39m*\u001b[39m{_jax_type(d, w) \u001b[39mfor\u001b[39;00m d, w \u001b[39min\u001b[39;00m \u001b[39mzip\u001b[39m(dtypes, weak_types)})\n\u001b[0;32m--> 651\u001b[0m   out_dtype \u001b[39m=\u001b[39m dtype(result_type)\n\u001b[1;32m    652\u001b[0m   out_weak_type \u001b[39m=\u001b[39m \u001b[39many\u001b[39m(result_type \u001b[39mis\u001b[39;00m t \u001b[39mfor\u001b[39;00m t \u001b[39min\u001b[39;00m _weak_types)\n\u001b[1;32m    653\u001b[0m \u001b[39mreturn\u001b[39;00m out_dtype, (out_dtype \u001b[39m!=\u001b[39m bool_) \u001b[39mand\u001b[39;00m out_weak_type\n",
      "File \u001b[0;32m/opt/conda/lib/python3.8/site-packages/jax/_src/dtypes.py:629\u001b[0m, in \u001b[0;36mdtype\u001b[0;34m(x, canonicalize)\u001b[0m\n\u001b[1;32m    627\u001b[0m \u001b[39melse\u001b[39;00m:\n\u001b[1;32m    628\u001b[0m   dt \u001b[39m=\u001b[39m np\u001b[39m.\u001b[39mresult_type(x)\n\u001b[0;32m--> 629\u001b[0m \u001b[39mif\u001b[39;00m dt \u001b[39mnot\u001b[39;00m \u001b[39min\u001b[39;00m _jax_dtype_set:\n\u001b[1;32m    630\u001b[0m   \u001b[39mraise\u001b[39;00m \u001b[39mTypeError\u001b[39;00m(\u001b[39mf\u001b[39m\u001b[39m\"\u001b[39m\u001b[39mValue \u001b[39m\u001b[39m'\u001b[39m\u001b[39m{\u001b[39;00mx\u001b[39m}\u001b[39;00m\u001b[39m'\u001b[39m\u001b[39m with dtype \u001b[39m\u001b[39m{\u001b[39;00mdt\u001b[39m}\u001b[39;00m\u001b[39m is not a valid JAX array \u001b[39m\u001b[39m\"\u001b[39m\n\u001b[1;32m    631\u001b[0m                   \u001b[39m\"\u001b[39m\u001b[39mtype. Only arrays of numeric types are supported by JAX.\u001b[39m\u001b[39m\"\u001b[39m)\n\u001b[1;32m    632\u001b[0m \u001b[39mreturn\u001b[39;00m canonicalize_dtype(dt) \u001b[39mif\u001b[39;00m canonicalize \u001b[39melse\u001b[39;00m dt\n",
      "\u001b[0;31mKeyboardInterrupt\u001b[0m: "
     ]
    }
   ],
   "source": [
    "\n",
    "# Train the model\n",
    "states_opt = optimizer.init(params)\n",
    "for i in range(10000):\n",
    "    key, subkey = jax.random.split(key)\n",
    "    \n",
    "    # this seems not working as [env] is not treated as jnp object\n",
    "    #rollout_fn = jax.jit(partial(rollout, params))\n",
    "    #rollout_batch = jax.vmap(rollout_fn)(\n",
    "    #    jax.random.split(subkey, 10), [env] * 10)\n",
    "    rollout_fn = partial(rollout, params)\n",
    "    rollout_batch = rollout_fn(key, env)\n",
    "\n",
    "    grads = jax.grad(loss)(params, rollout_batch)\n",
    "    updates, states_opt = optimizer.update(grads, states_opt, params)\n",
    "    params = optax.apply_updates(params, updates)\n",
    "\n",
    "    if i % 100 == 0:\n",
    "        print(f'Iteration {i}, loss={loss(params, rollout_batch):.4f}')\n"
   ]
  },
  {
   "cell_type": "code",
   "execution_count": 127,
   "metadata": {},
   "outputs": [
    {
     "data": {
      "text/plain": [
       "(Array([[-2.8393521, -1.4376942,  2.60639  ,  3.499308 ],\n",
       "        [ 1.6443161,  3.1703238, -3.840195 , -0.6995216]], dtype=float32),\n",
       " Array([-3.8792114,  3.9508655], dtype=float32))"
      ]
     },
     "execution_count": 127,
     "metadata": {},
     "output_type": "execute_result"
    }
   ],
   "source": [
    "params\n",
    "len(params)\n",
    "params[2:]\n"
   ]
  },
  {
   "cell_type": "code",
   "execution_count": 137,
   "metadata": {},
   "outputs": [
    {
     "data": {
      "image/png": "[encoded data removed]",
      "text/plain": [
       "<Figure size 640x480 with 1 Axes>"
      ]
     },
     "metadata": {},
     "output_type": "display_data"
    }
   ],
   "source": [
    "from IPython import display as ipythondisplay\n",
    "import matplotlib.pyplot as plt \n",
    "\n",
    "# Test the model\n",
    "state, _ = env.reset(seed=10)\n",
    "done = False\n",
    "while not done:\n",
    "    action, _ = policy(state, params[2:])\n",
    "    state, _, done, _, _ = env.step(int(action))\n",
    "    screen = env.render()\n",
    "    plt.imshow(screen)\n",
    "    ipythondisplay.clear_output(wait=True)\n",
    "    ipythondisplay.display(plt.gcf()) \n",
    "\n",
    "ipythondisplay.clear_output(wait=True)\n",
    "env.close()\n"
   ]
  }
 ],
 "metadata": {
  "kernelspec": {
   "display_name": "base",
   "language": "python",
   "name": "python3"
  },
  "language_info": {
   "codemirror_mode": {
    "name": "ipython",
    "version": 3
   },
   "file_extension": ".py",
   "mimetype": "text/x-python",
   "name": "python",
   "nbconvert_exporter": "python",
   "pygments_lexer": "ipython3",
   "version": "3.8.16"
  },
  "orig_nbformat": 4
 },
 "nbformat": 4,
 "nbformat_minor": 2
}
