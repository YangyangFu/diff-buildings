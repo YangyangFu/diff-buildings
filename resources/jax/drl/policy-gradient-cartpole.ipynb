{
 "cells": [
  {
   "cell_type": "code",
   "execution_count": 6,
   "metadata": {},
   "outputs": [
    {
     "data": {
      "text/plain": [
       "<pyvirtualdisplay.display.Display at 0x7f63dc66bf40>"
      ]
     },
     "execution_count": 6,
     "metadata": {},
     "output_type": "execute_result"
    }
   ],
   "source": [
    "# need a virtual display for rendering in docker\n",
    "from pyvirtualdisplay import Display\n",
    "display = Display(visible=0, size=(1400, 900))\n",
    "display.start()\n"
   ]
  },
  {
   "cell_type": "code",
   "execution_count": 54,
   "metadata": {},
   "outputs": [],
   "source": [
    "import jax\n",
    "import jax.numpy as jnp\n",
    "import gymnasium as gym\n",
    "import optax\n",
    "from functools import partial \n",
    "\n",
    "env = gym.make('CartPole-v1', render_mode=\"rgb_array\").env\n",
    "\n",
    "# Define the dynamics model\n",
    "def dynamics_model(state, action, params):\n",
    "    A, B = params\n",
    "    return jnp.dot(A, state) + jnp.dot(B, action)\n",
    "\n",
    "# Define the policy\n",
    "\n",
    "\n",
    "def policy(state, params):\n",
    "    W, b = params\n",
    "    logits = jnp.dot(W, state) + b\n",
    "    probs = jax.nn.softmax(logits)\n",
    "    action = jax.random.categorical(jax.random.PRNGKey(0), logits)\n",
    "    return action, probs\n",
    "\n",
    "# Define the loss function\n",
    "\n",
    "\n",
    "def loss(params, rollout):\n",
    "    A, B, W, b = params\n",
    "    states, actions, rewards, next_states = rollout\n",
    "\n",
    "    # Compute predicted next states using the dynamics model\n",
    "    predicted_next_states = jax.vmap(dynamics_model, in_axes=(0, 0, None))(\n",
    "        states, actions, (A, B))\n",
    "\n",
    "    # Compute log likelihood of actions taken by the policy\n",
    "    _, action_probs = jax.vmap(policy, in_axes=(0, None))(states, (W, b))\n",
    "    log_probs = jnp.log(\n",
    "        jnp.sum(action_probs * jax.nn.one_hot(actions, 2), axis=-1))\n",
    "\n",
    "    # Compute the loss\n",
    "    loss = -jnp.mean(log_probs * rewards)\n",
    "\n",
    "    return loss\n",
    "\n",
    "\n",
    "# Define the optimizer\n",
    "optimizer = optax.adam(learning_rate=1e-3)\n",
    "\n",
    "# Initialize parameters\n",
    "key = jax.random.PRNGKey(0)\n",
    "A = jax.random.normal(key, shape=(4, 4))\n",
    "B = jax.random.normal(key, shape=(4,))\n",
    "W = jax.random.normal(key, shape=(2, 4))\n",
    "b = jax.random.normal(key, shape=(2,))\n",
    "\n",
    "params = (A, B, W, b)\n",
    "\n",
    "# Define the rollout function\n",
    "\n",
    "\n",
    "def rollout(params, env):\n",
    "    states = []\n",
    "    actions = []\n",
    "    rewards = []\n",
    "    next_states = []\n",
    "\n",
    "    A, B, W, b = params\n",
    "    state, _ = env.reset(seed=0)\n",
    "    done = False\n",
    "\n",
    "    while not done:\n",
    "        action, _ = policy(state, (W,b))\n",
    "        next_state, reward, done, _, _ = env.step(int(action))\n",
    "        states.append(state)\n",
    "        actions.append(action)\n",
    "        rewards.append(reward)\n",
    "        next_states.append(next_state)\n",
    "        state = next_state\n",
    "\n",
    "    return (jnp.stack(states), jnp.array(actions), jnp.array(rewards), jnp.stack(next_states))\n",
    "\n"
   ]
  },
  {
   "cell_type": "code",
   "execution_count": 67,
   "metadata": {},
   "outputs": [
    {
     "name": "stdout",
     "output_type": "stream",
     "text": [
      "4\n"
     ]
    },
    {
     "data": {
      "text/plain": [
       "(Array([[ 0.08482574,  1.9097648 ,  0.29561743,  1.120948  ],\n",
       "        [ 0.33432344, -0.82606775,  0.6481277 ,  1.0434873 ],\n",
       "        [-0.7824839 , -0.4539462 ,  0.6297971 ,  0.81524646],\n",
       "        [-0.32787678, -1.1234448 , -1.6607416 ,  0.27290547]],      dtype=float32),\n",
       " Array([ 1.8160863 , -0.75488514,  0.33988908, -0.53483534], dtype=float32),\n",
       " Array([[-1.1897566 , -1.3263226 ,  0.91276866,  2.7610164 ],\n",
       "        [-0.00519618,  3.0592732 , -2.1466362 ,  0.03855126]],      dtype=float32),\n",
       " Array([-2.101969 ,  2.1736479], dtype=float32))"
      ]
     },
     "execution_count": 67,
     "metadata": {},
     "output_type": "execute_result"
    }
   ],
   "source": [
    "state, _ = env.reset()\n",
    "print(len(state))\n",
    "action, probs = policy(state, (W, b))\n",
    "dynamics_model(state, action, (A, B))\n",
    "rollout(params, env)\n",
    "params"
   ]
  },
  {
   "cell_type": "code",
   "execution_count": 58,
   "metadata": {},
   "outputs": [
    {
     "data": {
      "text/plain": [
       "(Array([[ 0.01369617, -0.02302133, -0.04590265, -0.04834723],\n",
       "        [ 0.01323574,  0.17272775, -0.04686959, -0.3551522 ],\n",
       "        [ 0.0166903 ,  0.3684837 , -0.05397264, -0.66223824],\n",
       "        [ 0.02405997,  0.5643134 , -0.0672174 , -0.97141534],\n",
       "        [ 0.03534624,  0.76026994, -0.08664571, -1.2844334 ],\n",
       "        [ 0.05055164,  0.95638156, -0.11233438, -1.6029392 ],\n",
       "        [ 0.06967927,  1.1526395 , -0.14439316, -1.9284277 ],\n",
       "        [ 0.09273206,  1.3489841 , -0.18296172, -2.262184  ]],      dtype=float32),\n",
       " Array([1, 1, 1, 1, 1, 1, 1, 1], dtype=int32),\n",
       " Array([1., 1., 1., 1., 1., 1., 1., 1.], dtype=float32),\n",
       " Array([[ 0.01323574,  0.17272775, -0.04686959, -0.3551522 ],\n",
       "        [ 0.0166903 ,  0.3684837 , -0.05397264, -0.66223824],\n",
       "        [ 0.02405997,  0.5643134 , -0.0672174 , -0.97141534],\n",
       "        [ 0.03534624,  0.76026994, -0.08664571, -1.2844334 ],\n",
       "        [ 0.05055164,  0.95638156, -0.11233438, -1.6029392 ],\n",
       "        [ 0.06967927,  1.1526395 , -0.14439316, -1.9284277 ],\n",
       "        [ 0.09273206,  1.3489841 , -0.18296172, -2.262184  ],\n",
       "        [ 0.11971174,  1.545288  , -0.2282054 , -2.605216  ]],      dtype=float32))"
      ]
     },
     "execution_count": 58,
     "metadata": {},
     "output_type": "execute_result"
    }
   ],
   "source": [
    "# add some test\n",
    "\n",
    "rollout_fn = jax.tree_util.Partial(rollout, params)\n",
    "rollout_fn(env)"
   ]
  },
  {
   "cell_type": "code",
   "execution_count": 78,
   "metadata": {},
   "outputs": [
    {
     "name": "stdout",
     "output_type": "stream",
     "text": [
      "Iteration 0, loss=0.0017\n"
     ]
    }
   ],
   "source": [
    "\n",
    "# Train the model\n",
    "states_opt = optimizer.init(params)\n",
    "for i in range(100):\n",
    "    key, subkey = jax.random.split(key)\n",
    "    rollout_fn = partial(rollout, params)\n",
    "    \n",
    "    # this seems not working as [env] is not treated as jnp object\n",
    "    #rollout_batch = jax.vmap(rollout_fn)(\n",
    "    #    jax.random.split(subkey, 10), [env] * 10)\n",
    "    rollout_batch = rollout_fn(env)\n",
    "\n",
    "    rollout_batch = rollout_fn(env)\n",
    "    grads = jax.grad(loss)(params, rollout_batch)\n",
    "    updates, states_opt = optimizer.update(grads, states_opt, params)\n",
    "    params = optax.apply_updates(params, updates)\n",
    "\n",
    "    if i % 100 == 0:\n",
    "        print(f'Iteration {i}, loss={loss(params, rollout_batch):.4f}')\n"
   ]
  },
  {
   "cell_type": "code",
   "execution_count": 79,
   "metadata": {},
   "outputs": [
    {
     "data": {
      "text/plain": [
       "(Array([[-1.2857947 , -1.4179808 ,  1.0088406 ,  2.8559885 ],\n",
       "        [ 0.09084299,  3.1509333 , -2.2427087 , -0.05642055]],      dtype=float32),\n",
       " Array([-2.198084,  2.269763], dtype=float32))"
      ]
     },
     "execution_count": 79,
     "metadata": {},
     "output_type": "execute_result"
    }
   ],
   "source": [
    "params\n",
    "len(params)\n",
    "params[2:]\n"
   ]
  },
  {
   "cell_type": "code",
   "execution_count": 80,
   "metadata": {},
   "outputs": [],
   "source": [
    "# Test the model\n",
    "state, _ = env.reset()\n",
    "done = False\n",
    "while not done:\n",
    "    action, _ = policy(state, params[2:])\n",
    "    state, _, done, _, _ = env.step(int(action))\n",
    "    env.render()\n",
    "\n",
    "env.close()\n"
   ]
  }
 ],
 "metadata": {
  "kernelspec": {
   "display_name": "base",
   "language": "python",
   "name": "python3"
  },
  "language_info": {
   "codemirror_mode": {
    "name": "ipython",
    "version": 3
   },
   "file_extension": ".py",
   "mimetype": "text/x-python",
   "name": "python",
   "nbconvert_exporter": "python",
   "pygments_lexer": "ipython3",
   "version": "3.8.16"
  },
  "orig_nbformat": 4
 },
 "nbformat": 4,
 "nbformat_minor": 2
}
